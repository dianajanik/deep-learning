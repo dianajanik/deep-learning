{
  "nbformat": 4,
  "nbformat_minor": 0,
  "metadata": {
    "colab": {
      "name": "skipgram.ipynb",
      "provenance": [],
      "collapsed_sections": []
    },
    "kernelspec": {
      "name": "python3",
      "display_name": "Python 3"
    },
    "accelerator": "GPU"
  },
  "cells": [
    {
      "cell_type": "code",
      "metadata": {
        "id": "7fmDrmp6hVVi",
        "colab_type": "code",
        "colab": {}
      },
      "source": [
        "from keras.preprocessing.text import Tokenizer\n",
        "from keras.layers import Embedding, Reshape, Activation, Input\n",
        "from keras.models import Model\n",
        "from keras.layers.merge import Dot\n",
        "import matplotlib.pyplot as plt\n",
        "from keras.preprocessing.sequence import skipgrams\n",
        "import numpy as np\n",
        "from google.colab import files\n",
        "from keras.utils.data_utils import get_file\n",
        "from keras.utils import np_utils\n",
        "import gensim"
      ],
      "execution_count": 0,
      "outputs": []
    },
    {
      "cell_type": "code",
      "metadata": {
        "id": "zJ2uys0umCDM",
        "colab_type": "code",
        "colab": {
          "base_uri": "https://localhost:8080/",
          "height": 51
        },
        "outputId": "81e2de99-5bbb-42d8-db2c-082d1fbd931e"
      },
      "source": [
        "# get Alice’s Adventures in Wonderland\n",
        "path = get_file('alice.txt', origin='http://www.gutenberg.org/files/11/11-0.txt')\n",
        "all_lines = open(path).readlines()"
      ],
      "execution_count": 2,
      "outputs": [
        {
          "output_type": "stream",
          "text": [
            "Downloading data from http://www.gutenberg.org/files/11/11-0.txt\n",
            "180224/173595 [===============================] - 0s 1us/step\n"
          ],
          "name": "stdout"
        }
      ]
    },
    {
      "cell_type": "code",
      "metadata": {
        "id": "jcp3D2cSnxMA",
        "colab_type": "code",
        "colab": {}
      },
      "source": [
        "# get rid of to short senntences\n",
        "corpus = [line for line in all_lines if line.count(\" \") > 2]"
      ],
      "execution_count": 0,
      "outputs": []
    },
    {
      "cell_type": "code",
      "metadata": {
        "id": "-YdW3Kq6rXGZ",
        "colab_type": "code",
        "colab": {}
      },
      "source": [
        "# tokenize\n",
        "tokenizer = Tokenizer()\n",
        "tokenizer.fit_on_texts(corpus)"
      ],
      "execution_count": 0,
      "outputs": []
    },
    {
      "cell_type": "code",
      "metadata": {
        "id": "ajHYki_EsJCj",
        "colab_type": "code",
        "colab": {}
      },
      "source": [
        "# inputs\n",
        "word_input = Input(shape=(1, ), dtype='int32')\n",
        "context_input = Input(shape=(1, ), dtype='int32')\n",
        "\n",
        "# embeddings\n",
        "embedding_input_dim,embedding_output_dim  = len(tokenizer.word_index) + 1, 128\n",
        "word_embedding = Embedding(embedding_input_dim, embedding_output_dim)(word_input)\n",
        "context_embedding  = Embedding(embedding_input_dim, embedding_output_dim)(context_input)\n",
        "\n",
        "# outputs \n",
        "merged = Dot(axes=2)([word_embedding, context_embedding])\n",
        "output = Activation('sigmoid')(Reshape((1,), input_shape=(1, 1))(merged))\n",
        "\n",
        "#model\n",
        "skipgram_model = Model(inputs=[word_input, context_input], outputs=output)\n",
        "skipgram_model.compile(loss='binary_crossentropy', optimizer='adam')"
      ],
      "execution_count": 0,
      "outputs": []
    },
    {
      "cell_type": "code",
      "metadata": {
        "id": "PbqFtHgrx7qC",
        "colab_type": "code",
        "colab": {
          "base_uri": "https://localhost:8080/",
          "height": 408
        },
        "outputId": "bf4fc734-32f9-436d-8cc1-157395a71503"
      },
      "source": [
        "skipgram_model.summary()"
      ],
      "execution_count": 11,
      "outputs": [
        {
          "output_type": "stream",
          "text": [
            "Model: \"model_3\"\n",
            "__________________________________________________________________________________________________\n",
            "Layer (type)                    Output Shape         Param #     Connected to                     \n",
            "==================================================================================================\n",
            "input_9 (InputLayer)            (None, 1)            0                                            \n",
            "__________________________________________________________________________________________________\n",
            "input_10 (InputLayer)           (None, 1)            0                                            \n",
            "__________________________________________________________________________________________________\n",
            "embedding_7 (Embedding)         (None, 1, 128)       432384      input_9[0][0]                    \n",
            "__________________________________________________________________________________________________\n",
            "embedding_8 (Embedding)         (None, 1, 128)       432384      input_10[0][0]                   \n",
            "__________________________________________________________________________________________________\n",
            "dot_3 (Dot)                     (None, 1, 1)         0           embedding_7[0][0]                \n",
            "                                                                 embedding_8[0][0]                \n",
            "__________________________________________________________________________________________________\n",
            "reshape_3 (Reshape)             (None, 1)            0           dot_3[0][0]                      \n",
            "__________________________________________________________________________________________________\n",
            "activation_3 (Activation)       (None, 1)            0           reshape_3[0][0]                  \n",
            "==================================================================================================\n",
            "Total params: 864,768\n",
            "Trainable params: 864,768\n",
            "Non-trainable params: 0\n",
            "__________________________________________________________________________________________________\n"
          ],
          "name": "stdout"
        }
      ]
    },
    {
      "cell_type": "code",
      "metadata": {
        "id": "BqTzdTd2yQXy",
        "colab_type": "code",
        "colab": {}
      },
      "source": [
        "# prepare skipgram pairs \n",
        "batches = [] # contains tuples with (data, labels)\n",
        "for s in tokenizer.texts_to_sequences(corpus):\n",
        "  data, labels = skipgrams(sequence=s, vocabulary_size=embedding_input_dim, window_size=5, negative_samples=5.)\n",
        "  if data:\n",
        "    batches.append(([np.array(x) for x in zip(*data)], np.array(labels, dtype=np.int32)))"
      ],
      "execution_count": 0,
      "outputs": []
    },
    {
      "cell_type": "code",
      "metadata": {
        "id": "hj3l_si94vNk",
        "colab_type": "code",
        "colab": {
          "base_uri": "https://localhost:8080/",
          "height": 867
        },
        "outputId": "8bd39005-8dec-458b-abf2-5f75a3425ae1"
      },
      "source": [
        "# train model \n",
        "epochs = 50\n",
        "losses = []\n",
        "for epoch in range(1, epochs +1):\n",
        "  loss = 0\n",
        "  for batch in batches:\n",
        "    loss += skipgram_model.train_on_batch(batch[0], batch[1])\n",
        "  print(\"Epoch: {} -> loss: {}\".format(epoch, loss))\n",
        "  losses.append(loss)\n",
        "\n"
      ],
      "execution_count": 27,
      "outputs": [
        {
          "output_type": "stream",
          "text": [
            "Epoch: 1 -> loss: 1051.252786397934\n",
            "Epoch: 2 -> loss: 725.7190504744649\n",
            "Epoch: 3 -> loss: 673.4713907539845\n",
            "Epoch: 4 -> loss: 642.5115934982896\n",
            "Epoch: 5 -> loss: 611.4956189915538\n",
            "Epoch: 6 -> loss: 580.1725679319352\n",
            "Epoch: 7 -> loss: 549.3366713151336\n",
            "Epoch: 8 -> loss: 520.9147751713172\n",
            "Epoch: 9 -> loss: 494.5997768067755\n",
            "Epoch: 10 -> loss: 470.931160912849\n",
            "Epoch: 11 -> loss: 449.4378014472313\n",
            "Epoch: 12 -> loss: 430.51380771771073\n",
            "Epoch: 13 -> loss: 413.4957047959324\n",
            "Epoch: 14 -> loss: 398.60101983323693\n",
            "Epoch: 15 -> loss: 385.2042554910877\n",
            "Epoch: 16 -> loss: 373.67725166660966\n",
            "Epoch: 17 -> loss: 363.362572422222\n",
            "Epoch: 18 -> loss: 354.5672172345803\n",
            "Epoch: 19 -> loss: 346.73599690629635\n",
            "Epoch: 20 -> loss: 340.1408393881866\n",
            "Epoch: 21 -> loss: 334.24485639607883\n",
            "Epoch: 22 -> loss: 329.3575976360298\n",
            "Epoch: 23 -> loss: 324.93457462000515\n",
            "Epoch: 24 -> loss: 321.33371385571445\n",
            "Epoch: 25 -> loss: 318.03213782716557\n",
            "Epoch: 26 -> loss: 315.39670030723573\n",
            "Epoch: 27 -> loss: 312.8930613883822\n",
            "Epoch: 28 -> loss: 310.94369314428695\n",
            "Epoch: 29 -> loss: 309.0384474824441\n",
            "Epoch: 30 -> loss: 307.59779140900355\n",
            "Epoch: 31 -> loss: 306.12962082044214\n",
            "Epoch: 32 -> loss: 305.0508978070229\n",
            "Epoch: 33 -> loss: 303.8981689088996\n",
            "Epoch: 34 -> loss: 303.099698577902\n",
            "Epoch: 35 -> loss: 302.1977366668234\n",
            "Epoch: 36 -> loss: 301.5900136859391\n",
            "Epoch: 37 -> loss: 300.875648633712\n",
            "Epoch: 38 -> loss: 300.41295450019516\n",
            "Epoch: 39 -> loss: 299.83253748079915\n",
            "Epoch: 40 -> loss: 299.49239241710256\n",
            "Epoch: 41 -> loss: 299.0332788356816\n",
            "Epoch: 42 -> loss: 298.7649401349938\n",
            "Epoch: 43 -> loss: 298.39791738793565\n",
            "Epoch: 44 -> loss: 298.1922900120353\n",
            "Epoch: 45 -> loss: 297.9008331768414\n",
            "Epoch: 46 -> loss: 297.74401711111886\n",
            "Epoch: 47 -> loss: 297.5141866434842\n",
            "Epoch: 48 -> loss: 297.39539525186217\n",
            "Epoch: 49 -> loss: 297.2164784974253\n",
            "Epoch: 50 -> loss: 297.12637016442466\n"
          ],
          "name": "stdout"
        }
      ]
    },
    {
      "cell_type": "code",
      "metadata": {
        "id": "0JTWnryv7TQk",
        "colab_type": "code",
        "colab": {
          "base_uri": "https://localhost:8080/",
          "height": 279
        },
        "outputId": "f15da7d5-d05f-4bc6-c66a-fad35f51dfa3"
      },
      "source": [
        "plt.plot(range(0, epochs), losses, '-.', color='m')\n",
        "plt.xlabel('Epochs')\n",
        "plt.ylabel('Loss')\n",
        "plt.show()"
      ],
      "execution_count": 66,
      "outputs": [
        {
          "output_type": "display_data",
          "data": {
            "image/png": "[encoded data removed]",
            "text/plain": [
              "<Figure size 432x288 with 1 Axes>"
            ]
          },
          "metadata": {
            "tags": []
          }
        }
      ]
    },
    {
      "cell_type": "code",
      "metadata": {
        "id": "hThuh1ia9QVj",
        "colab_type": "code",
        "colab": {}
      },
      "source": [
        "# save weights as vectors\n",
        "filename = 'vectors.txt'\n",
        "f = open(filename ,'w')\n",
        "f.write('{} {}\\n'.format(embedding_input_dim-1, embedding_output_dim))\n",
        "vectors = skipgram_model.get_weights()[0]\n",
        "for word, i in tokenizer.word_index.items():\n",
        "    f.write('{} {}\\n'.format(word, ' '.join(map(str, list(vectors[i, :])))))\n",
        "f.close()"
      ],
      "execution_count": 0,
      "outputs": []
    },
    {
      "cell_type": "code",
      "metadata": {
        "id": "2KAw7PyC-Aju",
        "colab_type": "code",
        "colab": {}
      },
      "source": [
        "files.download(filename) "
      ],
      "execution_count": 0,
      "outputs": []
    },
    {
      "cell_type": "code",
      "metadata": {
        "id": "3YIFmSRN-W6p",
        "colab_type": "code",
        "colab": {
          "base_uri": "https://localhost:8080/",
          "height": 71
        },
        "outputId": "0c4aac63-4739-4465-89a0-d8888f5affe9"
      },
      "source": [
        "# load word 2 vector model\n",
        "word2vector = gensim.models.KeyedVectors.load_word2vec_format('./vectors.txt', binary=False)"
      ],
      "execution_count": 37,
      "outputs": [
        {
          "output_type": "stream",
          "text": [
            "/usr/local/lib/python3.6/dist-packages/smart_open/smart_open_lib.py:402: UserWarning: This function is deprecated, use smart_open.open instead. See the migration notes for details: https://github.com/RaRe-Technologies/smart_open/blob/master/README.rst#migrating-to-the-new-open-function\n",
            "  'See the migration notes for details: %s' % _MIGRATION_NOTES_URL\n"
          ],
          "name": "stderr"
        }
      ]
    },
    {
      "cell_type": "code",
      "metadata": {
        "id": "H9UQfhbR-gZV",
        "colab_type": "code",
        "colab": {
          "base_uri": "https://localhost:8080/",
          "height": 241
        },
        "outputId": "315e9d14-1116-465b-c7ca-d044a3a42228"
      },
      "source": [
        "# test on few examples \n",
        "word2vector.most_similar(positive=['rabbit'])"
      ],
      "execution_count": 47,
      "outputs": [
        {
          "output_type": "stream",
          "text": [
            "/usr/local/lib/python3.6/dist-packages/gensim/matutils.py:737: FutureWarning: Conversion of the second argument of issubdtype from `int` to `np.signedinteger` is deprecated. In future, it will be treated as `np.int64 == np.dtype(int).type`.\n",
            "  if np.issubdtype(vec.dtype, np.int):\n"
          ],
          "name": "stderr"
        },
        {
          "output_type": "execute_result",
          "data": {
            "text/plain": [
              "[('white', 0.5231320858001709),\n",
              " ('returning', 0.4149767756462097),\n",
              " ('hush', 0.40843284130096436),\n",
              " ('hole', 0.40671664476394653),\n",
              " ('sends', 0.38200077414512634),\n",
              " ('hedge', 0.3755301237106323),\n",
              " ('iv', 0.3692050576210022),\n",
              " ('‘here', 0.36456599831581116),\n",
              " ('queerest', 0.3590317964553833),\n",
              " ('hurrying', 0.35400164127349854)]"
            ]
          },
          "metadata": {
            "tags": []
          },
          "execution_count": 47
        }
      ]
    },
    {
      "cell_type": "code",
      "metadata": {
        "id": "3Uz2BirH-x9M",
        "colab_type": "code",
        "colab": {
          "base_uri": "https://localhost:8080/",
          "height": 241
        },
        "outputId": "5caedbee-5caa-41fa-dbb3-93d9113fa4da"
      },
      "source": [
        "word2vector.most_similar(negative=['rabbit'])"
      ],
      "execution_count": 43,
      "outputs": [
        {
          "output_type": "stream",
          "text": [
            "/usr/local/lib/python3.6/dist-packages/gensim/matutils.py:737: FutureWarning: Conversion of the second argument of issubdtype from `int` to `np.signedinteger` is deprecated. In future, it will be treated as `np.int64 == np.dtype(int).type`.\n",
            "  if np.issubdtype(vec.dtype, np.int):\n"
          ],
          "name": "stderr"
        },
        {
          "output_type": "execute_result",
          "data": {
            "text/plain": [
              "[('effect', 0.28170138597488403),\n",
              " ('told', 0.24755747616291046),\n",
              " ('cunning', 0.23955807089805603),\n",
              " ('created', 0.22925987839698792),\n",
              " ('share', 0.21973687410354614),\n",
              " ('how', 0.21289119124412537),\n",
              " ('network', 0.20988646149635315),\n",
              " ('receiving', 0.2098606824874878),\n",
              " ('limbs', 0.20609185099601746),\n",
              " ('shrimp', 0.20585858821868896)]"
            ]
          },
          "metadata": {
            "tags": []
          },
          "execution_count": 43
        }
      ]
    },
    {
      "cell_type": "code",
      "metadata": {
        "id": "Vt8kL_BBAAaX",
        "colab_type": "code",
        "colab": {
          "base_uri": "https://localhost:8080/",
          "height": 241
        },
        "outputId": "770e344f-f185-4913-93b0-3ea39f1b4f87"
      },
      "source": [
        "word2vector.most_similar(positive=['tree'])"
      ],
      "execution_count": 54,
      "outputs": [
        {
          "output_type": "stream",
          "text": [
            "/usr/local/lib/python3.6/dist-packages/gensim/matutils.py:737: FutureWarning: Conversion of the second argument of issubdtype from `int` to `np.signedinteger` is deprecated. In future, it will be treated as `np.int64 == np.dtype(int).type`.\n",
            "  if np.issubdtype(vec.dtype, np.int):\n"
          ],
          "name": "stderr"
        },
        {
          "output_type": "execute_result",
          "data": {
            "text/plain": [
              "[('rose', 0.5010441541671753),\n",
              " ('yards', 0.4487256407737732),\n",
              " ('few', 0.43677932024002075),\n",
              " ('red', 0.39474934339523315),\n",
              " ('highest', 0.36591383814811707),\n",
              " ('entrance', 0.3378671705722809),\n",
              " ('branch', 0.32642680406570435),\n",
              " ('stood', 0.3039414882659912),\n",
              " ('roses', 0.2909202575683594),\n",
              " ('somehow', 0.28853291273117065)]"
            ]
          },
          "metadata": {
            "tags": []
          },
          "execution_count": 54
        }
      ]
    },
    {
      "cell_type": "code",
      "metadata": {
        "id": "D-KfgQtDAX0y",
        "colab_type": "code",
        "colab": {
          "base_uri": "https://localhost:8080/",
          "height": 241
        },
        "outputId": "9cdd9ee1-b1cb-4145-ff7e-67f9f9ec7cf7"
      },
      "source": [
        "word2vector.most_similar(positive=['good'])"
      ],
      "execution_count": 58,
      "outputs": [
        {
          "output_type": "stream",
          "text": [
            "/usr/local/lib/python3.6/dist-packages/gensim/matutils.py:737: FutureWarning: Conversion of the second argument of issubdtype from `int` to `np.signedinteger` is deprecated. In future, it will be treated as `np.int64 == np.dtype(int).type`.\n",
            "  if np.issubdtype(vec.dtype, np.int):\n"
          ],
          "name": "stderr"
        },
        {
          "output_type": "execute_result",
          "data": {
            "text/plain": [
              "[('contempt', 0.45568564534187317),\n",
              " ('fireplace', 0.43011268973350525),\n",
              " ('manners', 0.4190397262573242),\n",
              " ('narrow', 0.40215858817100525),\n",
              " ('seldom', 0.3777758479118347),\n",
              " ('deal', 0.3761124014854431),\n",
              " ('naturedly', 0.35397255420684814),\n",
              " ('telescope', 0.3528032898902893),\n",
              " ('natured', 0.3490862250328064),\n",
              " ('escape', 0.34837570786476135)]"
            ]
          },
          "metadata": {
            "tags": []
          },
          "execution_count": 58
        }
      ]
    },
    {
      "cell_type": "code",
      "metadata": {
        "id": "qHNVbRjOAkyn",
        "colab_type": "code",
        "colab": {
          "base_uri": "https://localhost:8080/",
          "height": 241
        },
        "outputId": "f60066ca-e19b-4016-81aa-e9110c2cc9f6"
      },
      "source": [
        "word2vector.most_similar(positive=['cat'])"
      ],
      "execution_count": 62,
      "outputs": [
        {
          "output_type": "stream",
          "text": [
            "/usr/local/lib/python3.6/dist-packages/gensim/matutils.py:737: FutureWarning: Conversion of the second argument of issubdtype from `int` to `np.signedinteger` is deprecated. In future, it will be treated as `np.int64 == np.dtype(int).type`.\n",
            "  if np.issubdtype(vec.dtype, np.int):\n"
          ],
          "name": "stderr"
        },
        {
          "output_type": "execute_result",
          "data": {
            "text/plain": [
              "[('cheshire', 0.49838966131210327),\n",
              " ('bough', 0.37666547298431396),\n",
              " ('‘dinah’s', 0.3751833736896515),\n",
              " ('‘allow', 0.3653193414211273),\n",
              " ('startled', 0.3507373631000519),\n",
              " ('she’s', 0.34446266293525696),\n",
              " ('neighbour', 0.3442537784576416),\n",
              " ('hope', 0.3291996717453003),\n",
              " ('wider', 0.317732572555542),\n",
              " ('seeing', 0.31650933623313904)]"
            ]
          },
          "metadata": {
            "tags": []
          },
          "execution_count": 62
        }
      ]
    }
  ]
}