{
  "nbformat": 4,
  "nbformat_minor": 0,
  "metadata": {
    "colab": {
      "name": "CIFAR10_without_code.ipynb",
      "provenance": [],
      "collapsed_sections": []
    },
    "kernelspec": {
      "name": "python3",
      "display_name": "Python 3"
    },
    "accelerator": "GPU"
  },
  "cells": [
    {
      "cell_type": "markdown",
      "metadata": {
        "id": "kVclo602PoY0",
        "colab_type": "text"
      },
      "source": [
        "<h3>  &nbsp;&nbsp;Train on GPU&nbsp;&nbsp; <a href=\"https://cloud.google.com/tpu/\"><img valign=\"middle\" src=\"https://raw.githubusercontent.com/GoogleCloudPlatform/tensorflow-without-a-phd/master/tensorflow-rl-pong/images/tpu-hexagon.png\" width=\"50\"></a></h3>\n",
        "\n",
        "1. On the main menu, click Runtime and select **Change runtime type**. Set \"GPU\" as the hardware accelerator.\n",
        "1. Click Runtime again and select **Runtime > Run All**. You can also run the cells manually with Shift-ENTER. "
      ]
    },
    {
      "cell_type": "code",
      "metadata": {
        "id": "Djq5H5QSK6hc",
        "colab_type": "code",
        "outputId": "5eb179a3-8ed1-4a7e-a619-78d7151285a6",
        "colab": {
          "base_uri": "https://localhost:8080/",
          "height": 97
        }
      },
      "source": [
        "import keras\n",
        "keras.__version__"
      ],
      "execution_count": 1,
      "outputs": [
        {
          "output_type": "stream",
          "text": [
            "Using TensorFlow backend.\n"
          ],
          "name": "stderr"
        },
        {
          "output_type": "display_data",
          "data": {
            "text/html": [
              "<p style=\"color: red;\">\n",
              "The default version of TensorFlow in Colab will soon switch to TensorFlow 2.x.<br>\n",
              "We recommend you <a href=\"https://www.tensorflow.org/guide/migrate\" target=\"_blank\">upgrade</a> now \n",
              "or ensure your notebook will continue to use TensorFlow 1.x via the <code>%tensorflow_version 1.x</code> magic:\n",
              "<a href=\"https://colab.research.google.com/notebooks/tensorflow_version.ipynb\" target=\"_blank\">more info</a>.</p>\n"
            ],
            "text/plain": [
              "<IPython.core.display.HTML object>"
            ]
          },
          "metadata": {
            "tags": []
          }
        },
        {
          "output_type": "execute_result",
          "data": {
            "text/plain": [
              "'2.2.5'"
            ]
          },
          "metadata": {
            "tags": []
          },
          "execution_count": 1
        }
      ]
    },
    {
      "cell_type": "code",
      "metadata": {
        "id": "cLjbWVSwLRAM",
        "colab_type": "code",
        "colab": {}
      },
      "source": [
        "from keras import layers\n",
        "from keras import models\n",
        "from keras.datasets import cifar10\n",
        "from keras.utils import to_categorical\n",
        "import numpy as np\n",
        "\n",
        "(train_images, train_labels), (test_images, test_labels) = cifar10.load_data()"
      ],
      "execution_count": 0,
      "outputs": []
    },
    {
      "cell_type": "code",
      "metadata": {
        "id": "f1l1_b4FLnAx",
        "colab_type": "code",
        "outputId": "145a9780-3a58-4350-fd9c-0101428a27aa",
        "colab": {
          "base_uri": "https://localhost:8080/",
          "height": 266
        }
      },
      "source": [
        "import matplotlib.pyplot as plt\n",
        "%matplotlib inline\n",
        "\n",
        "digit = train_images[4]\n",
        "plt.imshow(digit, cmap=plt.cm.binary)\n",
        "\n",
        "plt.show()"
      ],
      "execution_count": 3,
      "outputs": [
        {
          "output_type": "display_data",
          "data": {
            "image/png": "[encoded data removed]",
            "text/plain": [
              "<Figure size 432x288 with 1 Axes>"
            ]
          },
          "metadata": {
            "tags": []
          }
        }
      ]
    },
    {
      "cell_type": "code",
      "metadata": {
        "id": "76yjbnbJLjsk",
        "colab_type": "code",
        "colab": {
          "base_uri": "https://localhost:8080/",
          "height": 34
        },
        "outputId": "5f82110e-dbec-48d5-f5ef-155378d23216"
      },
      "source": [
        "# MODIFY THE CODE TO ADD A VALIDATION SET\n",
        "from sklearn.model_selection import train_test_split\n",
        "x_train, x_valid, y_train, y_valid = train_test_split(train_images, train_labels, test_size=1/5, shuffle= True)\n",
        "\n",
        "# train_images = train_images\n",
        "# train_labels = train_labels\n",
        "\n",
        "# train_images = train_images.reshape((50000, 32, 32, 3))\n",
        "# train_images = train_images.astype('float32') / 255\n",
        "\n",
        "\n",
        "x_train = x_train.reshape((40000, 32, 32, 3))\n",
        "x_train = x_train.astype('float32') / 255\n",
        "\n",
        "x_valid = x_valid.reshape((10000, 32, 32, 3))\n",
        "x_valid = x_valid.astype('float32') / 255\n",
        "\n",
        "test_images = test_images.reshape((10000, 32, 32, 3))\n",
        "test_images = test_images.astype('float32') / 255\n",
        "\n",
        "# train_labels = to_categorical(train_labels)\n",
        "y_train = to_categorical(y_train)\n",
        "y_valid = to_categorical(y_valid)\n",
        "test_labels = to_categorical(test_labels)\n",
        "# print(test_labels.shape)\n",
        "\n"
      ],
      "execution_count": 42,
      "outputs": [
        {
          "output_type": "stream",
          "text": [
            "(10000, 10)\n"
          ],
          "name": "stdout"
        }
      ]
    },
    {
      "cell_type": "code",
      "metadata": {
        "id": "rIJilTuvRnDY",
        "colab_type": "code",
        "colab": {}
      },
      "source": [
        "  # MAKE WHATEVER CHANGES ARE NECESSARY\n",
        "  # TO GET 0.7 ACCURACY ON THE TEST SET\n",
        "  \n",
        "  model = models.Sequential()\n",
        "  model.add(layers.Conv2D(64, (3,3), activation='relu', input_shape=(32, 32, 3)))\n",
        "  model.add(layers.MaxPooling2D((2, 2)))\n",
        "  model.add(layers.Dropout(0.1))\n",
        "  model.add(layers.Conv2D(128, (3, 3), activation='relu'))\n",
        "  model.add(layers.MaxPooling2D((2, 2)))\n",
        "  model.add(layers.Dropout(0.2))\n",
        "  model.add(layers.Conv2D(256, (3, 3), activation='relu'))\n",
        "  model.add(layers.MaxPooling2D((2, 2)))\n",
        "  model.add(layers.Dropout(0.15))\n",
        "  model.add(layers.Flatten())\n",
        "  model.add(layers.Dense(32, activation='relu'))\n",
        "  model.add(layers.Dropout(0.1))\n",
        "  model.add(layers.Dense(32, activation='relu'))\n",
        "  model.add(layers.Dense(10, activation='softmax'))\n",
        "\n",
        "  model.compile(optimizer='rmsprop',\n",
        "                  loss='categorical_crossentropy',\n",
        "                  metrics=['accuracy'])"
      ],
      "execution_count": 0,
      "outputs": []
    },
    {
      "cell_type": "code",
      "metadata": {
        "id": "JADK2d14hwXx",
        "colab_type": "code",
        "colab": {}
      },
      "source": [
        ""
      ],
      "execution_count": 0,
      "outputs": []
    },
    {
      "cell_type": "code",
      "metadata": {
        "id": "Lr0xkEliYc-6",
        "colab_type": "code",
        "outputId": "efee776b-dfd5-4108-add5-27907cbbbe94",
        "colab": {
          "base_uri": "https://localhost:8080/",
          "height": 629
        }
      },
      "source": [
        "model.summary()"
      ],
      "execution_count": 112,
      "outputs": [
        {
          "output_type": "stream",
          "text": [
            "Model: \"sequential_19\"\n",
            "_________________________________________________________________\n",
            "Layer (type)                 Output Shape              Param #   \n",
            "=================================================================\n",
            "conv2d_48 (Conv2D)           (None, 30, 30, 64)        1792      \n",
            "_________________________________________________________________\n",
            "max_pooling2d_37 (MaxPooling (None, 15, 15, 64)        0         \n",
            "_________________________________________________________________\n",
            "dropout_18 (Dropout)         (None, 15, 15, 64)        0         \n",
            "_________________________________________________________________\n",
            "conv2d_49 (Conv2D)           (None, 13, 13, 128)       73856     \n",
            "_________________________________________________________________\n",
            "max_pooling2d_38 (MaxPooling (None, 6, 6, 128)         0         \n",
            "_________________________________________________________________\n",
            "dropout_19 (Dropout)         (None, 6, 6, 128)         0         \n",
            "_________________________________________________________________\n",
            "conv2d_50 (Conv2D)           (None, 4, 4, 256)         295168    \n",
            "_________________________________________________________________\n",
            "max_pooling2d_39 (MaxPooling (None, 2, 2, 256)         0         \n",
            "_________________________________________________________________\n",
            "dropout_20 (Dropout)         (None, 2, 2, 256)         0         \n",
            "_________________________________________________________________\n",
            "flatten_18 (Flatten)         (None, 1024)              0         \n",
            "_________________________________________________________________\n",
            "dense_40 (Dense)             (None, 32)                32800     \n",
            "_________________________________________________________________\n",
            "dropout_21 (Dropout)         (None, 32)                0         \n",
            "_________________________________________________________________\n",
            "dense_41 (Dense)             (None, 32)                1056      \n",
            "_________________________________________________________________\n",
            "dense_42 (Dense)             (None, 10)                330       \n",
            "=================================================================\n",
            "Total params: 405,002\n",
            "Trainable params: 405,002\n",
            "Non-trainable params: 0\n",
            "_________________________________________________________________\n"
          ],
          "name": "stdout"
        }
      ]
    },
    {
      "cell_type": "code",
      "metadata": {
        "id": "pdgz18QPNOVr",
        "colab_type": "code",
        "outputId": "9b84467e-99a6-49e9-d0df-80e05e2370d3",
        "colab": {
          "base_uri": "https://localhost:8080/",
          "height": 1000
        }
      },
      "source": [
        "  # MAKE WHATEVER CHANGES ARE NECESSARY\n",
        "  # TO GET 0.7 ACCURACY ON THE TEST SET\n",
        "\n",
        "model_hist = model.fit(x_train, y_train,\n",
        "          epochs=50, batch_size=1024, validation_data=(x_valid, y_valid))\n",
        "        "
      ],
      "execution_count": 113,
      "outputs": [
        {
          "output_type": "stream",
          "text": [
            "Train on 40000 samples, validate on 10000 samples\n",
            "Epoch 1/50\n",
            "40000/40000 [==============================] - 7s 169us/step - loss: 2.2602 - acc: 0.1472 - val_loss: 2.1144 - val_acc: 0.2525\n",
            "Epoch 2/50\n",
            "40000/40000 [==============================] - 5s 137us/step - loss: 2.0315 - acc: 0.2635 - val_loss: 1.8387 - val_acc: 0.3442\n",
            "Epoch 3/50\n",
            "40000/40000 [==============================] - 5s 137us/step - loss: 1.8722 - acc: 0.3250 - val_loss: 1.8374 - val_acc: 0.3185\n",
            "Epoch 4/50\n",
            "40000/40000 [==============================] - 6s 138us/step - loss: 1.7704 - acc: 0.3636 - val_loss: 1.8781 - val_acc: 0.3249\n",
            "Epoch 5/50\n",
            "40000/40000 [==============================] - 5s 137us/step - loss: 1.6897 - acc: 0.3916 - val_loss: 1.6942 - val_acc: 0.3830\n",
            "Epoch 6/50\n",
            "40000/40000 [==============================] - 5s 137us/step - loss: 1.6294 - acc: 0.4130 - val_loss: 1.6576 - val_acc: 0.4037\n",
            "Epoch 7/50\n",
            "40000/40000 [==============================] - 5s 137us/step - loss: 1.5711 - acc: 0.4357 - val_loss: 1.5869 - val_acc: 0.4133\n",
            "Epoch 8/50\n",
            "40000/40000 [==============================] - 5s 137us/step - loss: 1.5274 - acc: 0.4535 - val_loss: 1.4305 - val_acc: 0.4905\n",
            "Epoch 9/50\n",
            "40000/40000 [==============================] - 5s 137us/step - loss: 1.4749 - acc: 0.4733 - val_loss: 1.4961 - val_acc: 0.4660\n",
            "Epoch 10/50\n",
            "40000/40000 [==============================] - 5s 137us/step - loss: 1.4353 - acc: 0.4873 - val_loss: 1.3964 - val_acc: 0.5055\n",
            "Epoch 11/50\n",
            "40000/40000 [==============================] - 5s 137us/step - loss: 1.3942 - acc: 0.5017 - val_loss: 1.7100 - val_acc: 0.3875\n",
            "Epoch 12/50\n",
            "40000/40000 [==============================] - 5s 137us/step - loss: 1.3637 - acc: 0.5127 - val_loss: 1.4700 - val_acc: 0.4826\n",
            "Epoch 13/50\n",
            "40000/40000 [==============================] - 5s 137us/step - loss: 1.3304 - acc: 0.5259 - val_loss: 1.3955 - val_acc: 0.5140\n",
            "Epoch 14/50\n",
            "40000/40000 [==============================] - 5s 137us/step - loss: 1.2974 - acc: 0.5382 - val_loss: 1.3728 - val_acc: 0.5013\n",
            "Epoch 15/50\n",
            "40000/40000 [==============================] - 5s 137us/step - loss: 1.2720 - acc: 0.5489 - val_loss: 1.3132 - val_acc: 0.5398\n",
            "Epoch 16/50\n",
            "40000/40000 [==============================] - 5s 136us/step - loss: 1.2388 - acc: 0.5619 - val_loss: 1.1690 - val_acc: 0.5970\n",
            "Epoch 17/50\n",
            "40000/40000 [==============================] - 5s 136us/step - loss: 1.2102 - acc: 0.5745 - val_loss: 1.2124 - val_acc: 0.5781\n",
            "Epoch 18/50\n",
            "40000/40000 [==============================] - 6s 138us/step - loss: 1.1801 - acc: 0.5850 - val_loss: 1.2784 - val_acc: 0.5666\n",
            "Epoch 19/50\n",
            "40000/40000 [==============================] - 5s 136us/step - loss: 1.1562 - acc: 0.5961 - val_loss: 1.3390 - val_acc: 0.5404\n",
            "Epoch 20/50\n",
            "40000/40000 [==============================] - 5s 137us/step - loss: 1.1416 - acc: 0.5995 - val_loss: 1.2246 - val_acc: 0.5590\n",
            "Epoch 21/50\n",
            "40000/40000 [==============================] - 5s 136us/step - loss: 1.0943 - acc: 0.6163 - val_loss: 1.1913 - val_acc: 0.5855\n",
            "Epoch 22/50\n",
            "40000/40000 [==============================] - 5s 136us/step - loss: 1.0941 - acc: 0.6194 - val_loss: 1.2392 - val_acc: 0.5670\n",
            "Epoch 23/50\n",
            "40000/40000 [==============================] - 5s 136us/step - loss: 1.0484 - acc: 0.6340 - val_loss: 1.1950 - val_acc: 0.5835\n",
            "Epoch 24/50\n",
            "40000/40000 [==============================] - 5s 136us/step - loss: 1.0423 - acc: 0.6369 - val_loss: 1.0717 - val_acc: 0.6208\n",
            "Epoch 25/50\n",
            "40000/40000 [==============================] - 5s 136us/step - loss: 1.0049 - acc: 0.6496 - val_loss: 1.1338 - val_acc: 0.5959\n",
            "Epoch 26/50\n",
            "40000/40000 [==============================] - 5s 137us/step - loss: 0.9816 - acc: 0.6579 - val_loss: 1.1216 - val_acc: 0.6161\n",
            "Epoch 27/50\n",
            "40000/40000 [==============================] - 5s 137us/step - loss: 0.9511 - acc: 0.6699 - val_loss: 1.2208 - val_acc: 0.5884\n",
            "Epoch 28/50\n",
            "40000/40000 [==============================] - 5s 137us/step - loss: 0.9585 - acc: 0.6667 - val_loss: 0.9884 - val_acc: 0.6506\n",
            "Epoch 29/50\n",
            "40000/40000 [==============================] - 5s 136us/step - loss: 0.9267 - acc: 0.6800 - val_loss: 1.0345 - val_acc: 0.6351\n",
            "Epoch 30/50\n",
            "40000/40000 [==============================] - 5s 137us/step - loss: 0.9034 - acc: 0.6885 - val_loss: 1.0655 - val_acc: 0.6253\n",
            "Epoch 31/50\n",
            "40000/40000 [==============================] - 5s 137us/step - loss: 0.8938 - acc: 0.6896 - val_loss: 1.0217 - val_acc: 0.6466\n",
            "Epoch 32/50\n",
            "40000/40000 [==============================] - 5s 136us/step - loss: 0.8665 - acc: 0.7011 - val_loss: 1.1197 - val_acc: 0.6129\n",
            "Epoch 33/50\n",
            "40000/40000 [==============================] - 5s 137us/step - loss: 0.8512 - acc: 0.7034 - val_loss: 1.1832 - val_acc: 0.6068\n",
            "Epoch 34/50\n",
            "40000/40000 [==============================] - 5s 136us/step - loss: 0.8318 - acc: 0.7121 - val_loss: 1.0809 - val_acc: 0.6230\n",
            "Epoch 35/50\n",
            "40000/40000 [==============================] - 5s 136us/step - loss: 0.8168 - acc: 0.7166 - val_loss: 0.9661 - val_acc: 0.6660\n",
            "Epoch 36/50\n",
            "40000/40000 [==============================] - 5s 136us/step - loss: 0.7987 - acc: 0.7233 - val_loss: 1.1027 - val_acc: 0.6247\n",
            "Epoch 37/50\n",
            "40000/40000 [==============================] - 5s 136us/step - loss: 0.7839 - acc: 0.7265 - val_loss: 0.9253 - val_acc: 0.6857\n",
            "Epoch 38/50\n",
            "40000/40000 [==============================] - 5s 137us/step - loss: 0.7669 - acc: 0.7343 - val_loss: 0.9387 - val_acc: 0.6779\n",
            "Epoch 39/50\n",
            "40000/40000 [==============================] - 5s 136us/step - loss: 0.7504 - acc: 0.7417 - val_loss: 0.9684 - val_acc: 0.6676\n",
            "Epoch 40/50\n",
            "40000/40000 [==============================] - 5s 137us/step - loss: 0.7643 - acc: 0.7365 - val_loss: 0.9048 - val_acc: 0.6837\n",
            "Epoch 41/50\n",
            "40000/40000 [==============================] - 5s 136us/step - loss: 0.7086 - acc: 0.7533 - val_loss: 0.9707 - val_acc: 0.6653\n",
            "Epoch 42/50\n",
            "40000/40000 [==============================] - 5s 137us/step - loss: 0.7066 - acc: 0.7552 - val_loss: 0.9076 - val_acc: 0.6901\n",
            "Epoch 43/50\n",
            "40000/40000 [==============================] - 5s 136us/step - loss: 0.6953 - acc: 0.7583 - val_loss: 0.9156 - val_acc: 0.6771\n",
            "Epoch 44/50\n",
            "40000/40000 [==============================] - 5s 136us/step - loss: 0.6830 - acc: 0.7639 - val_loss: 0.9185 - val_acc: 0.6951\n",
            "Epoch 45/50\n",
            "40000/40000 [==============================] - 5s 136us/step - loss: 0.6640 - acc: 0.7680 - val_loss: 0.9200 - val_acc: 0.6947\n",
            "Epoch 46/50\n",
            "40000/40000 [==============================] - 5s 136us/step - loss: 0.6474 - acc: 0.7751 - val_loss: 0.8627 - val_acc: 0.7052\n",
            "Epoch 47/50\n",
            "40000/40000 [==============================] - 5s 136us/step - loss: 0.6494 - acc: 0.7744 - val_loss: 1.0142 - val_acc: 0.6594\n",
            "Epoch 48/50\n",
            "40000/40000 [==============================] - 5s 137us/step - loss: 0.6375 - acc: 0.7819 - val_loss: 0.9008 - val_acc: 0.6950\n",
            "Epoch 49/50\n",
            "40000/40000 [==============================] - 5s 137us/step - loss: 0.6269 - acc: 0.7830 - val_loss: 0.9083 - val_acc: 0.6816\n",
            "Epoch 50/50\n",
            "40000/40000 [==============================] - 5s 137us/step - loss: 0.6063 - acc: 0.7905 - val_loss: 1.1497 - val_acc: 0.6332\n"
          ],
          "name": "stdout"
        }
      ]
    },
    {
      "cell_type": "code",
      "metadata": {
        "id": "M3vE2jMNhJkw",
        "colab_type": "code",
        "colab": {
          "base_uri": "https://localhost:8080/",
          "height": 68
        },
        "outputId": "7bd2e3e1-bdb5-4752-a921-445cc579479a"
      },
      "source": [
        "model_hist = model.fit(x_train, y_train,\n",
        "          epochs=1, batch_size=1024, validation_data=(x_valid, y_valid))"
      ],
      "execution_count": 126,
      "outputs": [
        {
          "output_type": "stream",
          "text": [
            "Train on 40000 samples, validate on 10000 samples\n",
            "Epoch 1/1\n",
            "40000/40000 [==============================] - 5s 137us/step - loss: 0.5388 - acc: 0.8126 - val_loss: 0.8225 - val_acc: 0.7271\n"
          ],
          "name": "stdout"
        }
      ]
    },
    {
      "cell_type": "code",
      "metadata": {
        "id": "AK7GvOCaUwp9",
        "colab_type": "code",
        "outputId": "e277988e-a8f2-40ab-b992-dffa9746d831",
        "colab": {
          "base_uri": "https://localhost:8080/",
          "height": 279
        }
      },
      "source": [
        "import matplotlib.pyplot as plt\n",
        "\n",
        "# epochs = range(0, 20)\n",
        "n_epochs = len(model_hist.history['loss'])\n",
        "epochs = range(0, n_epochs)\n",
        "train_loss = model_hist.history['loss']\n",
        "val_loss= model_hist.history['val_loss']\n",
        "\n",
        "plt.plot(epochs, val_loss, 'b+', label='Validation')\n",
        "plt.plot(epochs, train_loss, 'bo', label='training')\n",
        "plt.xlabel('Epochs')\n",
        "plt.ylabel('Validation loss')\n",
        "plt.legend()\n",
        "\n",
        "plt.show()"
      ],
      "execution_count": 115,
      "outputs": [
        {
          "output_type": "display_data",
          "data": {
            "image/png": "[encoded data removed]",
            "text/plain": [
              "<Figure size 432x288 with 1 Axes>"
            ]
          },
          "metadata": {
            "tags": []
          }
        }
      ]
    },
    {
      "cell_type": "code",
      "metadata": {
        "id": "ZSr5gnDLNRo7",
        "colab_type": "code",
        "outputId": "309de365-0c7d-4b10-f563-c75fb452bb38",
        "colab": {
          "base_uri": "https://localhost:8080/",
          "height": 85
        }
      },
      "source": [
        "print(np.shape(test_labels))\n",
        "test_loss, test_acc = model.evaluate(test_images, test_labels)\n",
        "print('test_acc:', test_acc)\n",
        "test_loss"
      ],
      "execution_count": 127,
      "outputs": [
        {
          "output_type": "stream",
          "text": [
            "(10000, 10)\n",
            "10000/10000 [==============================] - 1s 138us/step\n",
            "test_acc: 0.7304\n"
          ],
          "name": "stdout"
        },
        {
          "output_type": "execute_result",
          "data": {
            "text/plain": [
              "0.8313265767097473"
            ]
          },
          "metadata": {
            "tags": []
          },
          "execution_count": 127
        }
      ]
    },
    {
      "cell_type": "code",
      "metadata": {
        "id": "e9SeN6QOO77D",
        "colab_type": "code",
        "colab": {}
      },
      "source": [
        "from google.colab import files\n",
        "filename = './cifar10v4.h5'\n",
        "model.save_weights(filename, overwrite=True)\n",
        "\n",
        "files.download(filename) "
      ],
      "execution_count": 0,
      "outputs": []
    }
  ]
}