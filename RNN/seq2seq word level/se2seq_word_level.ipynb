{
  "nbformat": 4,
  "nbformat_minor": 0,
  "metadata": {
    "colab": {
      "name": "se2seq_word_level.ipynb",
      "provenance": [],
      "collapsed_sections": [],
      "toc_visible": true
    },
    "kernelspec": {
      "name": "python3",
      "display_name": "Python 3"
    },
    "accelerator": "GPU"
  },
  "cells": [
    {
      "cell_type": "code",
      "metadata": {
        "id": "NDLhj4keXkBF",
        "colab_type": "code",
        "outputId": "f91a067b-c24a-471f-e2c8-2d77219fbf39",
        "colab": {
          "resources": {
            "http://localhost:8080/nbextensions/google.colab/files.js": {
              "data": "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",
              "ok": true,
              "headers": [
                [
                  "content-type",
                  "application/javascript"
                ]
              ],
              "status": 200,
              "status_text": ""
            }
          },
          "base_uri": "https://localhost:8080/",
          "height": 71
        }
      },
      "source": [
        "from google.colab import files\n",
        "uploaded = files.upload() # import pol.txt"
      ],
      "execution_count": 0,
      "outputs": [
        {
          "output_type": "display_data",
          "data": {
            "text/html": [
              "\n",
              "     <input type=\"file\" id=\"files-32109937-11d9-454f-82fd-96e4bc736e49\" name=\"files[]\" multiple disabled />\n",
              "     <output id=\"result-32109937-11d9-454f-82fd-96e4bc736e49\">\n",
              "      Upload widget is only available when the cell has been executed in the\n",
              "      current browser session. Please rerun this cell to enable.\n",
              "      </output>\n",
              "      <script src=\"/nbextensions/google.colab/files.js\"></script> "
            ],
            "text/plain": [
              "<IPython.core.display.HTML object>"
            ]
          },
          "metadata": {
            "tags": []
          }
        },
        {
          "output_type": "stream",
          "text": [
            "Saving pol.txt to pol.txt\n"
          ],
          "name": "stdout"
        }
      ]
    },
    {
      "cell_type": "code",
      "metadata": {
        "id": "7WwhifzvYi0J",
        "colab_type": "code",
        "colab": {
          "base_uri": "https://localhost:8080/",
          "height": 80
        },
        "outputId": "a09f6ae9-0d00-4292-da33-386fbc1e7f86"
      },
      "source": [
        "from __future__ import print_function\n",
        "\n",
        "from keras.models import Model\n",
        "from keras.layers import Input, LSTM, Dense, Embedding\n",
        "import numpy as np\n"
      ],
      "execution_count": 1,
      "outputs": [
        {
          "output_type": "stream",
          "text": [
            "Using TensorFlow backend.\n"
          ],
          "name": "stderr"
        },
        {
          "output_type": "display_data",
          "data": {
            "text/html": [
              "<p style=\"color: red;\">\n",
              "The default version of TensorFlow in Colab will soon switch to TensorFlow 2.x.<br>\n",
              "We recommend you <a href=\"https://www.tensorflow.org/guide/migrate\" target=\"_blank\">upgrade</a> now \n",
              "or ensure your notebook will continue to use TensorFlow 1.x via the <code>%tensorflow_version 1.x</code> magic:\n",
              "<a href=\"https://colab.research.google.com/notebooks/tensorflow_version.ipynb\" target=\"_blank\">more info</a>.</p>\n"
            ],
            "text/plain": [
              "<IPython.core.display.HTML object>"
            ]
          },
          "metadata": {
            "tags": []
          }
        }
      ]
    },
    {
      "cell_type": "code",
      "metadata": {
        "id": "309jiB3tZJnx",
        "colab_type": "code",
        "colab": {}
      },
      "source": [
        "# Read file \n",
        "path = 'pol.txt'\n",
        "with open(path, 'r', encoding='utf-8') as f:\n",
        "    lines = f.read().split('\\n')\n",
        "\n",
        "num_samples = 10000  # Number of samples to train on.\n",
        "\n",
        "# read lines -> mark start and end of target lines \n",
        "input_lines, target_lines = [], []\n",
        "start_mark, end_mark = '_START_', '_END_'\n",
        "for line in lines[: min(num_samples, len(lines) - 1)]:\n",
        "  input_text, target_text, _ = line.split('\\t')[:3]\n",
        "  input_lines.append(input_text)\n",
        "  target_lines.append(start_mark + ' ' + target_text + ' ' + end_mark)"
      ],
      "execution_count": 0,
      "outputs": []
    },
    {
      "cell_type": "code",
      "metadata": {
        "id": "uyn0gCd8bOn3",
        "colab_type": "code",
        "outputId": "7a2f1b54-8951-4124-83e6-f7bd9525d190",
        "colab": {
          "base_uri": "https://localhost:8080/",
          "height": 71
        }
      },
      "source": [
        "print(input_lines[:10])\n",
        "print(target_lines[:10])"
      ],
      "execution_count": 4,
      "outputs": [
        {
          "output_type": "stream",
          "text": [
            "['Go.', 'Hi.', 'Run!', 'Run.', 'Run.', 'Who?', 'Wow!', 'Wow!', 'Help!', 'Jump.']\n",
            "['_START_ Idź. _END_', '_START_ Cześć. _END_', '_START_ Uciekaj! _END_', '_START_ Biegnij. _END_', '_START_ Uciekaj. _END_', '_START_ Kto? _END_', '_START_ O, dziamdzia zaprzała jej szadź! _END_', '_START_ Łał! _END_', '_START_ Pomocy! _END_', '_START_ Skok. _END_']\n"
          ],
          "name": "stdout"
        }
      ]
    },
    {
      "cell_type": "code",
      "metadata": {
        "id": "xw_C7D7661hD",
        "colab_type": "code",
        "colab": {}
      },
      "source": [
        "def do_sth_with_punctuations(lines):\n",
        "  for i in range(len(lines)):\n",
        "    for x in [\"?\", \",\", \".\", \"!\"]:\n",
        "      lines[i] = lines[i].replace(x, \" \" + x)\n",
        "    for x in [\"'\"]:\n",
        "      lines[i] = lines[i].replace(x, \" \")\n",
        "  \n",
        "  return lines\n"
      ],
      "execution_count": 0,
      "outputs": []
    },
    {
      "cell_type": "code",
      "metadata": {
        "id": "3gy5mFh87mhy",
        "colab_type": "code",
        "colab": {}
      },
      "source": [
        "input_lines = do_sth_with_punctuations(input_lines)\n",
        "target_lines = do_sth_with_punctuations(target_lines)"
      ],
      "execution_count": 0,
      "outputs": []
    },
    {
      "cell_type": "code",
      "metadata": {
        "id": "cm5GR1DgA9aH",
        "colab_type": "code",
        "outputId": "8b1d3744-bb61-4183-ef45-afe3be727185",
        "colab": {
          "base_uri": "https://localhost:8080/",
          "height": 71
        }
      },
      "source": [
        "print(input_lines[:10])\n",
        "print(target_lines[:10])"
      ],
      "execution_count": 7,
      "outputs": [
        {
          "output_type": "stream",
          "text": [
            "['Go .', 'Hi .', 'Run !', 'Run .', 'Run .', 'Who ?', 'Wow !', 'Wow !', 'Help !', 'Jump .']\n",
            "['_START_ Idź . _END_', '_START_ Cześć . _END_', '_START_ Uciekaj ! _END_', '_START_ Biegnij . _END_', '_START_ Uciekaj . _END_', '_START_ Kto ? _END_', '_START_ O , dziamdzia zaprzała jej szadź ! _END_', '_START_ Łał ! _END_', '_START_ Pomocy ! _END_', '_START_ Skok . _END_']\n"
          ],
          "name": "stdout"
        }
      ]
    },
    {
      "cell_type": "code",
      "metadata": {
        "id": "0aCOt6BUbo2K",
        "colab_type": "code",
        "colab": {}
      },
      "source": [
        "# get set of all words for each language\n",
        "input_words, target_words = set(), set()\n",
        "for input_line, target_line in zip(input_lines, target_lines):\n",
        "  for word in input_line.split():\n",
        "    input_words.add(word)\n",
        "  for word in target_line.split():\n",
        "    target_words.add(word)"
      ],
      "execution_count": 0,
      "outputs": []
    },
    {
      "cell_type": "code",
      "metadata": {
        "id": "F7I9_tL6cWmA",
        "colab_type": "code",
        "outputId": "1f46e21a-1f17-4442-f053-3ccfc8f985dd",
        "colab": {
          "base_uri": "https://localhost:8080/",
          "height": 71
        }
      },
      "source": [
        "print(input_words)\n",
        "print(target_words)\n"
      ],
      "execution_count": 9,
      "outputs": [
        {
          "output_type": "stream",
          "text": [
            "{'For', 'album', 'safe', 'mustn', 'jumping', 'around', 'closer', 'crazy', 'regret', 'cancel', 'monster', 'roommate', 'shop', 'wasn', 'let', 'Where', 'begin', 'falls', 'plane', 'gas', 'ponies', 'happen', 'shot', 'reserved', 'load', 'belong', 'survived', 'grandfather', 'shirt', 'outside', 'Then', 'mango', 'Wood', '105', 'right', 'charming', 'disagree', 'Flip', 'is', 'bit', 'tired', 'tipsy', 'plead', 'Pass', 'restroom', 'born', 'NHK', 'optimistic', 'gamble', 'eat', 'singing', 'recycle', 'selling', 'likes', 'matters', 'attracted', 'detest', 'closed', 'sealed', 'miracle', 'organized', 'laid', 'Mondays', 'Women', 'acting', 'chop', 'accept', 'dying', 'shout', 'insane', 'powerless', 'habits', 'copilot', 'tall', 'sleeve', 'proud', 'comes', 'glad', 'Thanks', 'being', 'effective', 'anyone', 'Clocks', 'shoes', 'Hit', 'lay', 'luck', 'drugs', 'answered', 'please', 'Tuesday', 'her', 'doctor', 'jail', 'towel', 'psyched', 'melons', 'details', 'punctuality', 'patience', 'idol', 'boyfriend', 'ever', 'Everyone', 'ugly', 'domineering', 'bridge', 'sweet', 'learned', 'began', 'Justice', 'ruffian', 'Columbia', 'indiscreet', 'thief', 'shaving', 'easygoing', 'forward', 'match', 'washed', 'punished', 'Possibly', 'intelligent', 'beans', 'act', 'moustache', 'happy', 'Canadian', 'Paper', 'professors', 'unlikely', 'hide', 'angrily', 'also', 'sneaky', 'wore', 'Which', 'stare', 'worrying', 'win', 'Plants', 'Just', 'interrupting', 'problems', 'waved', 'studied', 'laptop', 'small', '90%', 'intrigued', 'obnoxious', 'breeds', 'worst', 'Ignore', 'Tell', 'games', 'arrived', 'accepted', 'Bible', 'reconsider', 'Boys', '18', 'urgency', 'twice', 'writing', 'husband', 'huh', 'Remove', 'passed', 'Back', 'Isn', 'sells', 'grid', 'wake', 'place', 'jokes', 'poisoned', 'dehydrated', 'Mama', 'orders', 'and', 'Kyoto', 'Austrian', 'drank', 'French', 'Korea', 'sting', 'peeled', 'five', 'boots', 'different', 'pie', 'absurd', 'became', 'income', 'indecisive', '839', 'OD', 'daydreaming', 'shouted', 'lacks', 'infallible', 'resigns', 'Stand', 'burnt', 'safer', 'already', 'snowed', 'impolitely', 'couldn', 'after', 'embarrassing', 'exaggerates', 'dress', 'emotional', 'training', 'obey', 'contract', 'line', 'move', 'yes', 'leaving', 'horse', 'clearly', 'Money', 'trapped', 'spoke', 'tense', 'rest', 'Won', 'Even', 'abandoned', 'Allow', 'giggling', 'Stay', 'sleepy', 'its', 'picture', 'Finish', 'yet', 'Excuse', 'winked', 'true', 'knows', 'receipt', 'indignant', 'hand', 'island', 'attempt', 'inform', 'Paint', 'screamed', 'tempting', 'elderly', 'Should', 'whistle', 'Try', 'letter', 'sun', 'continue', 'dive', 'sentence', 'cup', 'adventurous', 'divorced', 'Hand', 'contributed', 'undeterred', 'office', 'assume', 'writer', 'experience', 'bothering', '25', 'inflexible', 'again', 'photos', 'under', 'Summer', 'mommy', 'silence', 'serious', 'winter', 'someone', 'Fish', 'Wonderful', 'stories', 'airport', 'Squeeze', 'Glass', 'together', 'turned', 'deserve', 'Brazil', 'smiling', 'plastered', 'lived', 'canary', 'Ticket', 'chance', 'kite', 'whining', 'lucky', 'report', 'holidays', 'cameras', 'making', 'hypocrisy', 'sit', 'hose', 'Hug', 'footprint', 'discovery', 'group', 'certainly', 'stalling', 'deep', 'bedtime', 'Internet', 'answer', 'whimpering', 'fortune', 'nice', 'can', 'hands', '3', 'jazz', 'prefer', 'quick', 'suicide', 'gone', 'golfer', 'really', 'Were', 'B', 'television', 'dislike', 'cross', 'grapes', 'I’m', 'come', 'moron', 'theirs', 'showed', 'stunned', 'cute', 'nonsense', 'unscrupulous', 'some', 'Was', 'cheating', 'CD', 'His', 'ears', 'keeps', 'thirteen', 'selfish', 'throwing', 'repair', 'movies', 'dishonest', 's', 'shape', 'farther', 'snacks', 'respected', 'actually', 'far', 'genius', 'expendable', 'calm', 'fine', 'babbling', 'meat', 'slammed', 'buying', 'What', 'melting', 'half', 'cube', 'need', 'sign', 'pushed', 'demented', 'bills', 'excuses', 'baffled', 'sports', 'easily', 'circle', 'recognize', 'Think', 'book', 'Start', 'Spanish', 'explosions', 'fake', 'beer', 'Father', 'vodka', 'Christian', 'bodyguards', 'abilities', 'price', 'rang', 'discouraged', 'worked', 'bread', 'reluctantly', 'made', 'sour', 'Grab', 'stunning', 'doors', 'rumor', 'tango', 'correct', 'alcoholic', 'Shadow', 'complex', 'kitchen', 'hairdresser', 'protect', 'Choose', 'bees', 'strict', 'anywhere', 'starts', 'blind', 'rain', 'smoked', 'Relax', 'beside', 'Life', 'Any', 'even', '!', 'exercised', 'decline', 'actor', 'Dogs', 'heroin', 'wooden', 'days', 'clumsiness', 'Cut', 'tooth', 'trains', 'comfortable', 'grew', 'waited', 'turn', 'worried', 'considerate', 'apple', 'Balls', 'excused', 'dressed', 'smells', 'enjoys', 'usually', 'closing', 'purpose', 'count', 'arithmetic', 'contagious', 'try', 'leaks', 'sighed', 'mouth', 'explain', 'insensitive', 'learns', 'smaller', 'control', 'bad-mannered', 'bus', 'Are', 'forget', 'remorse', 'trust', 'needs', 'egg', 'wanted', 'hilarious', 'postman', 'treat', 'cough', 'joking', 'complaining', 'safely', 'ticket', 'Wednesday', 'annoying', 'surprise', 'smoking', 'peace', 'sloshed', 'books', 'scarce', 'Can', 'war', 'stairs', 'appetite', 'unemployed', 'Fear', 'breathe', 'seriously', 'friends', 'yourself', 'mug', 'Once', 'ghost', 'allowed', 'enter', 'ending', 'mistaken', 'tigers', 'fever', 'snack', 'Flowers', 'brunettes', 'upon', 'smarter', 'succeed', 'reptiles', 'Pardon', 'wink', 'nephew', 'recognized', 'knife', 'player', 'wallet', 'flight', 'duck', 'courage', 'man', 'disobedient', 'Plan', 'flying', 'Speak', 'type', 'aboard', 'learning', 'questions', 'lots', 'lot', 'failed', 'Haste', 'Nice', 'anytime', 'hope', 'else', 'drinkers', 'isn', 'natural', 'Anybody', 'reasons', 'curse', 'hair', 'cannot', 'joke', 'donut', 'Identify', 'smell', 'suits', 'fit', 'clerk', 'Swedish', 'efforts', 'abroad', 'email', 'scored', 'lives', 'seated', 'awoke', 'wonderful', 'DJ', 'conscientious', 'singers', 'sounds', 'teaches', 'vase', 'than', 'smiles', 'give', 'Beat', 'silent', 'barefoot', 'carefully', 'young', 'borders', 'art', 'hideous', 'class', 'forever', 'translate', 'many', 'Say', 'age', 'Sharks', 'discreet', 'sorry', 'temperamental', 'advice', 'migraine', 'behave', 'hold', 'blondes', 'depressed', 'watches', 'risk', 'unfriendly', 'classmate', 'remember', 'avoid', 'crafty', 'came', 'enough', 'intervened', 'cared', 'comics', 'recall', 'bundle', 'fad', 'progress', 'alive', 'overworked', 'Dinner', 'keep', 'nude', 'Out', 'Rome', 'daughter', 'insects', 'umbrella', 'fond', 'typo', 'long', 'mentally', 'does', 'fussy', 'candles', 'Poison', 'pattern', 'followed', 'bad', 'actors', 'Those', 'ours', 'handle', 'heartbroken', 'overreacting', 'Remember', 'me', 'speaking', 'quiet', 'noon', 'enlisted', 'colleague', 'Respect', 'Careful', 'creative', 'shaken', 'rule', 'Thou', 'yours', 'worries', 'pickpockets', 'terrifying', 'over', 'frank', 'fearless', 'apologizing', 'itchy', 'swear', 'other', 'spill', 'Read', 'Dry', 'deserves', 'prudent', 'Boston', 'shoelaces', 'dropped', 'sharp', 'afraid', 'rubbish', 'Snakes', 'major', 'expert', 'hood', 'feel', 'frowned', 'Please', 'helpful', 'owl', 'washing', 'fork', 'meet', 'older', 'Mary', 'face', 'he', 'Cool', 'team', 'rapidly', 'Hamlet', 'Ghosts', 'separately', 'expected', 'sympathize', 'spoon', 'outrageous', 'cruel', 'sniffle', 'occur', 'intense', 'early', 'kidnapped', 'Listen', 'Everybody', 'hid', 'brakes', 'cow', 'socks', 'figure', 'something', 'squirrel', 'victory', 'Your', 'Paris', 'annoys', 'godmother', 'practising', 'English', 'dues', 'along', 'soldiers', '8:00', 'remembers', 'Wash', 'die', 'diligent', 'own', 'Fate', 'helps', 'dangerous', 'use', 'bottle', 'anemic', 'sweated', 'Sugar', 'drive', 'took', 'soccer', 'upset', 'Shut', 'lawn', 'Wake', 'rather', 'each', 'flinched', 'butter', 'morning', 'coerced', 'chat', 'accelerated', 'copy', 'Real', 'years', 'sunburned', 'talked', 'postcard', 'person', 'voted', 'hit', 'leave', 'wondered', 'Concentrate', 'cantankerous', 'CDs', 'officer', 'necessary', 'helped', 'productive', 'extraordinary', 'immediately', 'Call', 'mammal', 'Exercise', 'Calm', 'Brad', 'chickens', 'Harvard', 'Ride', 'thing', 'tricked', 'succeeded', 'church', 'online', 'France', 'qualified', 'girlfriend', 'concert', 'Monday', 'Scratch', 'thank', 'America', 'exaggerating', 'See', 'wonder', 'three', 'borrowed', 'Hello', 'Have', 'popular', 'pocket', 'baseball', 'changing', 'forgive', 'attractive', 'That', 'crying', 'music', 'tend', 'snappy', 'you', 'Year', 'addicted', 'classroom', 'dependable', 'Czech', 'rocks', 'scare', 'judo', 'nowhere', 'weight', 'listened', 'horses', 'generous', 'grow', 'Draw', 'Glad', 'schedule', 'spaghetti', 'anniversary', 'been', 'started', 'grumbled', 'ex', 'the', 'drew', 'piano', 'important', 'mind', 'pointed', 'pooped', 'escaping', 'energetic', 'moody', 'loaded', 'Memorize', 'moved', 'cautious', 'horrible', 'factory', 'positive', 'died', 'resign', 'cheeks', 'absorbs', 'cocaine', 'killed', 'doorknob', 'son', 'squinted', 'impressive', 'addict', 'suffer', 'sword', 'gladly', 'pity', 'shorter', 'almost', 'policy', 'shortcut', 'feeling', 'follow', 'practice', 'floor', '6:30', 'bell', 'Doesn', 'licensed', 'apologized', 'wrestlers', 'fought', 'vote', 'takes', 'attention', 'relax', 'if', 'shut', 'flabbergasted', 'great', 'sleep', 'Hurry', 'Anything', 'yesterday', 'yawning', 'kissed', 'pigsty', 'might', 'awful', 'commit', 'Both', 'dirty', 'refuse', 'laughed', 'clocks', 'dried', 'neighbor', 'wet', 'ski', 'prove', 'applauded', 'ashamed', 'exceptions', 'protests', 'wrong', 'depend', 'Facebook', 'Terrific', 'committed', 'skinny', 'bright', 'design', 'Lions', 'rice', 'blood', 'Cats', 'telling', 'thrilling', 'bald', 'Englishman', 'bags', 'partner', 'instincts', 'designs', 'frightened', 'futile', 'heat', 'pushing', 'work', 'exist', 'sunglasses', 'these', 'beautiful', 'undefeated', 'offered', 'measure', 'teaching', 'getting', 'uncomfortable', 'faults', 'priest', 'brewing', 'spontaneous', 'meeting', 'raised', 'obedient', 'moaned', 'hunting', 'having', 'deceitful', 'resilient', 'there', 'knits', 'seven', 'worn', 'honey', 'assist', 'promoted', 'When', 'shirts', 'broccoli', 'foolishly', 'friend', 'create', 'react', 'sunflowers', 'effort', 'contains', 'student', 'camera', 'sandwich', 'speak', 'hospital', 'helping', 'baby', 'Got', 'insincere', 'outgoing', 'extremely', 'rowboat', 'samurai', 'Peaches', 'apples', 'adore', 'heights', 'heal', 'Friday', 'bee', 'turning', 'put', 'table', 'hermit', 'enemies', 'ten', 'direct', 'worse', 'his', 'nearby', 'involved', 'Touch', 'gardening', 'pilots', 'fashionable', 'Lincoln', 'gullible', 'dialed', 'creepy', 'Europe', 'highly', 'two', 'pace', 'favor', 'an', 'colorblind', 'mayor', 'on', 'cloudy', 'weekends', 'their', 'toaster', 'unforgettable', 'girls', 'faithful', 'boat', 'fortunate', 'Champagne', 'gently', 'sister', 'paint', 'press', 'have', 'magic', 'drink', 'Pretend', 'realistic', 'obeyed', 'quite', 'breathing', 'Ostriches', 'fire', 'thinks', 'strong', 'tasted', 'sexy', 'Smoking', 'makes', 'wants', 'following', 'drinks', 'admire', 'teeth', 'Horses', 'swimming', 'challenges', 'displeased', 'nasty', 'packing', '20', 'convinced', 'correcting', 'active', 'amazing', 'He', 'Does', 'surrendered', 'Koalas', 'photogenic', 'idiots', 'Maybe', 'programmer', 'practicing', 'throat', 'asleep', 'Save', 'unreal', 'horrified', 'free', 'cash', 'listens', 'ruthless', 'depends', 'leader', 'Ladies', 'At', 'cheap', 'thorough', 'exclude', 'papers', 'ends', 'extended', 'newcomers', 'ambitious', 'evidence', 'slacks', 'day', 'counting', 'Light', 'Settle', 'unbelievable', 'woman', 'freaks', 'rude', 'rescheduled', 'dark', 'by', 'yellow', 'brother', 'dog', 'make', 'confusing', 'full', 'cowards', 'introduce', 'nobody', 'deceived', 'tidy', 'spectacular', 'attitude', 'Nothing', 'for', 'focused', 'duty', 'value', 'understands', 'incompetent', 'craves', 'birds', 'worker', 'steal', 'cringed', 'baked', 'couch', 'embraced', 'exaggerate', 'wig', 'looks', 'check', 'burn', 'shocked', 'untalented', 'ring', 'slack', 'polite', 'agreed', 'shorthand', 'change', 'friendly', '.', 'hello', 'bodyguard', 'predictable', 'harsh', 'gray', 'Japanese', 'Dance', 'propose', 'Hold', 'Make', 'totally', 'sweets', 'resourceful', 'vague', 'Whose', 'tip', 'family', 'sleep-deprived', 'fight', 'robbed', 'agitated', 'midnight', 'lemonade', 'swam', 'thanks', 'inconsiderate', 'familiar', 'Solve', 'stomach', 'Such', 'green', 'hobby', 'lawyer', 'fuss', 'Thursday', 'Anyway', 'are', 'Shake', 'struck', 'baking', 'awkward', 'Study', 'bird', 'doesn', 'breath', 'text', 'hopeless', 'your', 'thirty', 'tea', 'asthma', 'all', 'lazy', 'somewhere', 'Look', 'disloyal', 'caved', 'fate', 'vet', 'require', 'tripped', 'hurt', 'blushing', 'She', 'Add', 'doom', 'deny', 'agree', 'future', 'knelt', 'It', 'pointless', 'should', 'believable', 'ruined', 'Open', 'artistic', 'windy', 'Don', 'best', 'shallow', 'gifted', 'hardworking', 'illogical', 'plays', 'pheasant', 'forgetful', 'singer', 'ignoring', 'snowing', 'show', 'red', 'caused', 'eaten', 'owe', 'courageous', 'teetotaller', 'BMW', 'Bring', 'flushed', 'd', 'Cold', 'oysters', 'that', 'overslept', 'smile', 'newspaper', 'curious', 'slowly', 'teacher', 'skimmed', 'file', 'sensible', 'stop', 'sausage', 'exercise', 'fear', 'humiliated', 'searching', 'Mr', 'Dad', 'peeked', 'dad', 'mask', 'salt', 'replaceable', 'cleaned', 'video', 'wood', 'disturbed', 'song', 'reached', 'misinformed', 'said', 'Move', 'scarf', 'stubborn', 'miserably', 'number', 'left-handed', 'vomit', 'honest', 'Take', 'ached', 'keys', 'tastes', 'Roll', 'eyes', 'handsome', 'radio', 'ample', 'simple', 'lift', 'exercising', 'earphones', 'relief', 'blame', 'Greece', 'spring', 'trigger', 'uncle', 'materialistic', 'airplane', 'exists', 'live', 'hated', '99%', 'Forget', 'Brush', 'fiancé', 'area', 'away', 'kicked', 'hurry', 'beauty', 'a', 'customer', 'chocolate', 'brought', 'Tighten', 'tackle', 'Translate', 'what', 'forgot', '7:30', 'farce', 'Nobody', 'slept', 'stoned', 'whole', 'afford', 'whatever', 'aren', 'Go', 'patronizing', 'ice', 'well', 'error', 'sky', 'sing', 'counted', 'gun', 'Straighten', 'approached', 'optimist', 'musicologist', 'subway', 'sedative', 'partners', 'focus', 'freaky', 'commotion', 'Has', 'server', 'cows', 'orange', 'who', 'hurts', 'swims', 'am', 'Singapore', 'test', 'Portugal', 'seem', 'exit', 'sincere', 'personal', 'inconsistent', 'decision', 'desk', 'poet', 'gloves', 'has', 'Prices', 'not', 'go', 'improved', 'headed', 'caps', 'color', 'kidding', 'quarreled', 'unreliable', 'screwdriver', 'decide', 'him', 'odd', 'push', 'gotten', 'Oh', 'stalled', 'adventure', 'elephants', 'address', 'little', 'soon', 'Christmas', 'diplomatic', 'tries', 'lend', 'gifts', 'skeptical', 'disliked', 'coffee', 'Cook', 'talkative', 'stew', 'saluted', 'politics', 'Sleep', 'sneezing', 'pick', 'defeated', 'surrender', 'ready', 'skies', 'justice', 'moons', 'ambulance', 'Someone', 'angel', 'bonkers', 'big', 'knee', 'behind', 'Ford', 'allergic', 'UFO', 'swim', 'travels', 'goofed', 'greedy', 'game', 'means', 'hangover', 'adventures', 'gorgeous', 'falling', 'undependable', 'bother', 'pain', 'cattle', 'twisted', 'Hi', 'sons', 'exhausted', 'approves', 'shame', 'empty', 'irrelevant', 'attorney', 'hugged', 'wizard', 'dismissed', 'll', 'Helping', 'Her', 'more', 'pathetic', 'woke', 'Russian', '223-1374', 'run', 'painful', 'melted', 'prioritize', 'hiking', 'menace', 'arrest', 'Fantastic', 'Kiss', 'cops', 'left', 'nothing', '1979', 'bloom', 'appreciate', 'American', 'Carry', 'oranges', 'disagreed', 'An', 'golf', 'pay', 'ache', 'battery', 'Cheer', 'terrible', 'freezing', 'jellyfish', 'minute', 'These', 'colors', 'obstinate', 'brilliant', 'pen', 'taking', 'Forgive', 'doing', 'TV', 'planet', 'sisters', 'fixed', 'burst', 'skiing', 'jump', 'Sorry', 'going', 'power', 'ordered', 'anticipated', 'or', 'break', 'scream', 'talent', 'carrots', 'sleeping', 'traveled', 'birthday', 'hill', 'Drink', 'fool', 'bitter', 'secrets', 'oldest', 'Perfect', 'starved', 'powerful', 'fell', 'insightful', 'fail', 'dedicated', 'common', 'vegetables', 'volunteered', 'twin', 'urgent', 've', 'Here', 'leg', 'sir', 'had', 'nuts', 'methodical', 'alarm', 'embarrassed', 'unconvinced', 'treatment', 'healthy', 'pleased', 'everyone', 'unethical', 'condo', 'stinks', 'faces', 'inhaled', 'poor', 'date', 'goes', 'threat', 'accountant', 'Our', 'before', 'Explain', 'bed', 'knit', 'kids', 'Replace', 'dream', 'extreme', 'seldom', 'no', 'found', 'calls', 'ended', 'imitation', 'lead', 'loves', 'love', 'queen', 'Eat', 'Time', 'hate', 'Hang', 'scaring', 'another', 'boys', 'operation', 'help', 'chess', 'paid', 'Use', 'admit', 'fairly', 'meals', 'rational', 'blushed', 'through', 'kiss', 'purse', 'those', 'hardly', 'says', 'excommunicated', 'policeman', 'coat', 'round', 'potatoes', 'happened', 'Clean', 'dawn', 'balance', 'harm', 'find', 'mother', 'forced', 'agrees', 'shrank', 'garage', 'touch', 'Many', 'spot', 'smiled', 'Chinese', 'fly', 'mystery', 'out', 'mess', 'landed', 'raining', 'fault', 'sympathized', 'concise', 'get', 'huge', 'whale', 'locksmith', 'cheered', 'our', 'believes', 'vigilant', ',000', 'admired', 'Today', 'action', 'wait', 'naive', 'bachelors', 'stolen', 'Tottori', 'pajamas', 'armed', 'Everything', 'magnificent', 'rained', 'adult', 'prayed', 'train', 'oven', 'dies', 'guilty', 'blush', 'groaned', 'burns', 'serve', 'indispensable', 'burped', 'honorable', 'marry', 'brothers', 'bookworm', 'How', 'ridiculous', 'consented', 'blowing', 'drunkard', 'fall', 'taste', 'women', 'running', 'expensive', 'exactly', 'murderer', 'impolite', 'tried', 'popcorn', 'taxi', '8', 'when', 'dancing', 'believed', 'air', 'fox', 'homesick', 'Tie', 'Shove', 'hopes', 'animals', 'cooperative', 'Follow', 'least', 'near', 'okay', '0', 'And', 'prohibited', 'volunteering', 'arrive', 'Cross', 'Feed', 'schmuck', 'Crows', 'dishes', 'Show', 'so', 'heavy', 'captain', 'Come', 'gain', 'calling', 'library', 'probably', 'looked', 'Canadians', 'dresses', 'head', 'stronger', 'deaf', 'fact', 'ignore', 'above', 'MP3', 'felt', 'useless', 'foggy', 'ID', 'diamonds', 'excited', 'conscious', 'four', 'unimaginative', 'ball', 'uninteresting', 'canoeing', 'demand', 'rolled', 'off', 'driving', 'persuasive', 'walked', 'seasick', 'understand', 'gold', 'manipulative', 'send', 'resting', 'snake', 'enjoyed', 'late', 'loud', 'They', 'puppy', 'sociable', 'amazed', 'continued', 'real', 'Egypt', 'worth', 'poems', 'yelled', 'ripe', 'iron', 'guy', 'wife', 'map', 'flexible', 'drowning', 'A', 'Hatred', 'Work', 'saying', 'pun', 'nests', 'Step', 'trick', 'opinion', 'Smile', 'Welcome', 'misjudged', 'disgrace', 'breaks', 'body', 'needy', 'whispered', 'changed', 'Happy', 'sniffling', 'intend', 'If', 'climbed', 'suit', 'thrilled', 'clearing', 'uninsured', '8:30', 'tears', 'weird', 'eye', 'relied', 'oversight', 'swimmer', 'standing', 'Each', 'beard', 'temperature', 'strange', '?', 'sofa', 'Tokyo', 'few', 'lake', 'screaming', 'hat', 'climbing', 'faded', 'Now', 'next', 'rainy', 'Size', 'pale', 'into', 'recovered', 'religious', 'bitterly', 'writes', 'invented', 'quit', 'fish', 'Catch', 'gets', 'army', 'never', 'Resistance', 'chicken', 'Feel', 'Pace', 'sat', 'down', 'hour', 'smokes', 'anxious', '58', 'bachelor', 'Venus', 'but', 'weakling', 'tax', 'confirm', 'guard', 'contest', 'proceed', 'kind', 'kill', 'sushi', 'bring', 'rope', 'did', 'practical', 'how', 'night', 'bill', 'But', 'hops', 'things', 'lion', 'tie', 'conservative', 'public', 'winning', '2:30', 'soaking', '$200', 'Jump', 'secret', 'Bach', '30', 'vulgar', 'immature', 'Chopin', 'board', 'listen', 'truck', 'credible', 'Rest', 'innocent', 'toy', 'Aim', 'hotel', 'sweat', 'confess', 'trap', 'Am', 'morons', 'challenge', 'geniuses', 'flies', 'play', 'prepared', 'built', 'definitely', 'pills', 'later', 'Visitors', 'party', 'Smoke', 'race', 'Australia', 'budge', 'virtue', 'observant', 'retire', 'non-refundable', 'Apes', 'saved', 'fingers', 'why', 'bargain', 'meant', 'overweight', 'from', 'You', 'house', 'to', 'anything', 'coconut', 'CNN', 'choose', 'wine', 'backpack', 'prisoners', 'played', 'start', 'rose', 'Green', 'colds', 'cheaper', 'trouble', 'math', 'pretty', 'soup', 'greeted', 'cheese', 'Lemons', 'Keep', 'biased', 'Smell', 'box', 'earth', 'registered', 'Cover', 'Bananas', 'welfare', 'painkiller', 'Bud', 'aside', 'awfully', 'Attack', 'Russia', 'ago', 'moving', 'One', 'cakes', 'key', 'crashed', 'foot', 'apologize', 'appendicitis', 'hatred', 'careful', 'struggled', 'certain', 'Send', 'gym', 'frustrated', 'tickets', 'pacemaker', 'vacation', 'taxes', 'speech', 'ate', 'Love', 'showing', 'insulted', 'snores', 'sold', 'Pleased', 'basketball', 'wrote', 'forbidden', 'showering', 'poem', 'illegal', 'allow', 'slight', 'notes', 'thought', 'Wait', 'eloquent', 'shareholder', 'watched', ',', 'pencil', 'people', 'relented', 'exaggerated', 'Adjust', 'held', 'reply', 'fainted', 'Begin', 'special', 'typical', 'hasn', 'likely', 'dieting', 'Write', 'welcome', 'ship', 'Let', 'it', 'elected', 'biology', 'sent', 'answers', 'memorized', 'asked', 'home', 'efficient', 'doorbell', 'hug', 'bath', 'hyperactive', 'solid', 'either', 'So', 'noisy', 'funny', 'single', 'disorganized', 'acted', 'catch', 'oral', 'see', 'told', 'shaved', 'feels', 'collect', 'trusted', 'medicine', 'imagination', 'rugby', 'below', 'Thanksgiving', 'gawking', 'asks', 'immoral', 'rid', 'responded', 'smoker', 'daughters', 'met', 'lying', 'windsurfing', 'Somebody', 'remembered', 'negligent', 'wide', 'explanation', 'Cuff', 'stabbed', 'energy', '7:45', 'resisting', 'startled', 'dragons', 'counts', 'listening', 'houses', 'Tom', 'phoned', 'rains', 'suspicious', 'behaved', 'shopping', 'misses', 'keyboard', 'corn', 'gate', 'similar', 'speaker', 'outsiders', 'lover', 'dice', 'trips', 'walking', 'revolting', 'wimp', 'stranger', 'liked', 'Finally', 'able', 'side', 'prevail', 'There', 'humming', 'surfing', 'Freedom', 'communist', 'be', 'frankly', 'reach', 'roses', 'pigs', 'Will', 'upstairs', 'dinner', 'dart', 'weapon', 'case', 'rules', 'way', 'smoke', 'Italy', 'study', 'city', 'yourselves', 'Lie', 'remarkable', 'partly', 'joined', 'inside', 'Dreams', 'pet', 'reasonable', 'Spare', 'ask', 'drove', 'doctors', 'hung', 'room', '911', 'perfectly', 'hitting', 'heart', 'liar', 'confessed', 'musician', 'exciting', 'loudly', 'critical', 'mom', 'hot', 'tools', 'bankrupt', 'better', 'sick', 'Abandon', 'sarcastic', 'yard', 'homeless', 'poorly', 'extroverted', '\"Trust', 'arms', 'parties', 'refused', 'Highway', 'brightened', 'mistake', 'Something', 'reschedule', 'economics', 'disgusting', 'gasped', 'battle', 'dollars', 'got', 'Why', 'cream', 'mocked', 'misunderstood', 're', 'secretive', 'reading', 'Jesus', 'improvised', 'warn', 'now', 'mirror', 'permit', 't', 'must', 'tire', 'nieces', 'bet', 'cats', 'Mom', 'finicky', 'obscene', 'debt', 'charge', 'otherwise', 'town', 'ahead', 'Arabic', 'hamburger', 'only', 'idea', 'tattoo', 'surprised', 'fabulous', 'discontented', 'Return', 'law', 'parents', 'restless', 'brown', 'defenseless', 'original', 'barbaric', 'others', 'sneezed', 'where', 'everything', 'harassed', 'anymore', 'hammered', 'dry', 'finished', 'unbiased', 'Lay', 'wearing', 'frozen', 'guide', 'hero', 'tomorrow', 'excess', 'Bad', 'one', 'promised', 'voice', 'disrespectful', 'Hands', 'sweaty', 'scares', 'expect', 'dwarf', 'goodbye', 'child', 'sue', 'panting', 'toast', 'introverted', 'Good', 'knew', 'People', 'entered', 'brushed', 'shadows', 'list', 'owns', 'shave', 'watch', 'radios', 'impulsive', 'broke', 'motivated', 'Prepare', 'adults', 'food', 'harassment', 'grounded', 'lasagna', 'accessible', 'literally', 'spy', 'smart', 'keeping', 'about', 'order', 'dolphin', 'thinking', 'argue', 'sensitive', 'married', 'improbable', 'negotiate', 'water', 'audience', 'lied', 'time', 'football', 'resigned', 'any', 'heading', 'such', 'OK', 'bought', 'complain', 'briefcase', 'reason', 'kid', 'interfering', 'Muslim', 'Louder', 'finish', 'concentrate', 'once', 'insisted', 'nap', 'amateur', 'competitive', 'Wasn', 'manage', 'Brazilian', 'Opposites', 'cars', 'anybody', 'sticky', '1988', 'Two', 'fast', 'slapped', 'shelter', 'stuck', 'unnecessary', 'guys', 'racist', 'wept', 'want', 'Firefox', 'broom', 'past', 'artists', 'approved', 'vegetarian', 'neat', 'invitation', 'notebooks', 'understood', 'store', 'Frogs', 'We', 'somebody', 'bores', 'cried', 'don', 'cousin', 'contact', 'Old', 'difficult', 'enemy', 'awake', 'yelling', 'fun', 'new', 'infected', 'trying', 'Apples', 'Believe', 'elusive', 'dusty', 'warm', 'Did', 'entrepreneur', 'author', 'wasted', 'star', 'Room', 'consciousness', '1960', 'every', 'Ask', 'blue', 'unlucky', 'barking', 'Continue', 'shouting', 'lovely', 'cards', 'angry', 'business', 'straight', 'Release', 'myself', 'word', '5', 'Warn', 'spiders', 'humiliating', 'forgiven', 'nine', 'take', 'chuckled', 'approve', 'station', 'may', 'himself', 'Drop', 'taken', 'bored', 'adorable', 'irreplaceable', '€100', 'sad', 'courteous', 'step', 'Divide', 'setting', 'watered', 'Put', 'less', 'intriguing', 'clothes', 'Fix', 'artist', 'stamps', 'charismatic', 'longer', 'repeat', 'name', 'witty', 'Wow', 'Honesty', 'panicked', 'phone', 'slipped', 'join', 'weddings', 'this', 'homework', 'just', 'charges', 'world', 'coming', 'runs', 'end', 'computer', 'fixing', 'enjoy', 'Poets', 'cooking', 'Yes', 'call', 'outlaw', 'hesitated', 'contributing', 'protection', 'sell', 'May', 'German', 'outdoors', 'Cherries', 'soul', 'guest', 'breakfast', 'pants', 'weak', 'provide', 'proof', 'desperate', 'blog', 'checked', 'returned', 'shouldn', 'monkey', 'opened', 'disturbing', 'Oops', 'she', 'caves', 'Sunday', 'against', 'they', 'large', 'roller', 'do', 'surprising', 'visit', 'aggressive', 'coin', 'dancer', '3:30', 'tolerate', 'lifeguards', 'fries', 'ignored', 'no-brainer', 'right-handed', 'clear', 'Loosen', 'praised', 'timid', 'athletic', 'younger', 'amateurs', 'changes', 'say', 'rush', 'doubt', 'biking', 'relationship', 'question', 'tourist', 'cultured', 'drawing', 'Enjoy', 'would', 'interfere', 'blessed', 'articulate', 'gave', 'park', 'website', 'costs', 'tent', 'undressing', 'holiday', 'awesome', 'week', 'seeing', 'event', 'driver', 'bushed', 'plans', 'opportunistic', 'jacket', 'anyway', 'promise', 'decided', 'rejected', 'yawned', 'Things', 'truthful', 'exhaled', 'clash', 'fraud', 'write', 'were', 'imitations', 'litter', 'My', 'Never', 'waiting', 'Sundays', 'attic', 'like', 'paper', 'hidden', 'story', 'doubts', 'belligerent', 'lent', 'gloated', 'leather', 'service', 'Examine', 'lady', 'digging', 'laugh', 'headache', 'puzzle', 'Italian', 'tight', 'problem', 'hay', 'motivation', 'successful', 'decisive', 'first', 'Sit', 'rotates', 'interested', 'Comfort', 'very', 'Norway', 'same', 'designer', 'view', 'loser', 'Give', 'everywhere', 'while', 'particular', 'Coffee', 'Yesterday', 'squeeze', 'bathroom', 'tolerant', 'log', 'sound', 'police', 'This', 'car', 'cool', 'drunk', 'amusing', 'discuss', 'Aren', 'modest', 'rich', 'unpleasant', 'apartment', 'looking', 'set', 'attacked', 'everybody', 'clock', 'Some', 'doomed', 'suspect', 'escape', 'Always', 'Mars', 'locked', 'cured', 'skate', 'disappeared', 'alarmed', 'Quit', 'summer', 'wise', 'screw', 'Is', 'stay', 'injured', 'bakery', 'pork', 'bite', 'proved', 'Mow', 'terribly', 'grumbling', 'Tomorrow', 'jeans', 'reasoning', 'legal', 'build', 'wind', 'dizzy', 'names', 'Really', 'twitches', 'destiny', 'sore', 'beaten', 'surprises', 'Sweet', 'Do', 'dances', 'stared', 'elaborate', 'grows', 'violence', 'worry', 'jealous', 'jelly', 'psychic', 'curtain', 'cab', 'lies', 'snow', 'underestimated', 'neighbors', 'reckless', 'savings', 'of', 'brave', 'unhealthy', 'hear', 'nervous', 'wins', 'exam', 'know', 'silly', 'charity', 'minor', 'beats', 'veteran', 'shrugged', 'bowed', 'too', 'laughing', 'pure', 'students', 'Lighten', 'seventeen', 'gaining', 'up', 'Taste', 'fascinating', 'shy', 'color-blind', 'disco', 'bossy', 'vanished', 'wiped', 'soldier', 'eggs', 'hurting', 'boy', 'Describe', 'borrow', 'thin', 'Haven', 'photo', 'stuff', 'mop', 'much', 'slouch', 'poisonous', 'last', 'violated', 'queue', 'mortal', 'payday', 'medal', 'cancer', 'drowned', 'Check', 'cares', 'clean', 'door', 'weekend', 'taught', 'patrol', 'with', 'reservations', 'money', 'scared', 'wild', 'Humor', 'drinking', 'fuming', 'mad', 'precautions', 'think', 'unambitious', 'won', 'always', 'studying', 'respect', 'Children', 'bark', 'wish', 'waste', 'tree', 'ripped', 'responsible', 'news', 'bicycle', 'nature', 'shoe', 'romantic', 'grateful', 'stand', 'close', 'tempted', 'Turtles', 'peculiar', 'cheat', 'Bees', 'Marry', 'life', 'grinned', 'stupid', 'relaxed', 'Watch', 'Clear', 'thieves', 'bag', 'absent', 'impressed', 'coffin', 'gossip', 'pessimistic', 'wealthy', 'wash', 'obese', 'moves', 'paused', 'message', 'meal', 'Bread', 'wasteful', 'walk', 'temper', 'expires', 'interesting', 'talented', 'seen', 'mail', 'appeared', 'second', 'year', 'exercises', 'threw', 'fighting', 'squabbling', 'sophisticated', 'bigot', 'closely', 'weed', 'guitar', 'mean', 'unconscious', 'stepped', 'deleted', 'boring', 'fishing', 'kept', 'trip', 'cat', 'Cotton', 'fruit', 'barbarians', 'sense', 'rung', 'comment', 'still', 'truth', 'today', 'them', 'lotion', 'social', 'Deal', 'Shall', 'shooting', 'unfortunate', 'wears', 'swept', 'diary', 'weather', 'in', 'sunrise', 'redheads', 'Who', 'nightmare', 'asking', 'genuine', 'lose', 'seems', 'accompany', 'minds', 'nurse', 'placebo', 'chose', 'separated', 'we', 'scratched', 'school', 'guess', 'mistakes', 'ran', 'vacancy', 'hours', 'band', 'bleeding', 'unemotional', 'sinking', 'disappointed', 'Leave', 'jar', 'rent', 'happening', 'eight', 'fence', 'homes', 'confusion', 'persistent', 'volunteers', 'cheats', 'untrustworthy', 'stayed', 'solved', 'psychopath', 'blackmailed', 'Be', 'request', 'hiding', 'garden', 'purple', 'several', 'giving', 'cooks', 'mile', 'cover', 'overrated', 'tonight', 'coughed', 'dreaming', 'avoiding', 'satisfied', 'elevator', 'bowling', 'hiccups', 'stole', 'cook', 'clapped', 'six', 'demanding', 'white', 'turtles', 'sometimes', 'Guess', 'industrious', 'corrected', 'open', 'playing', 'pilot', 'nose', 'cousins', 'beyond', 'Cars', 'shameless', 'lasts', 'inefficient', 'eating', 'seafood', 'Find', 'conceited', 'legs', 'cold', 'teach', 'haven', 'betrayed', 'Walls', 'Cheers', 'puzzles', 'bluffing', 'meteor', 'Every', 'without', 'sea', 'dentist', 'murdered', 'beat', 'children', 'Years', 'Didn', 'good', 'mouse', 'obvious', 'flute', 'Sign', 'Accidents', 'then', 'nonstop', 'blinked', 'rambling', 'high', 'lie', 'Turn', 'smashed', 'losing', 'taller', 'Thai', 'Throw', 'excuse', 'missing', 'bites', 'scooter', 'experienced', 'tell', ',\"', 'gander', 'Beware', 'rarely', 'incredible', 'punctual', 'girl', 'karaoke', 'thirsty', 'believe', 'cost', 'measured', 'Contact', 'possible', 'zipper', 'us', 'both', 'bashful', 'search', 'easy', 'here', 'light', 'uptight', 'Shouldn', 'movie', 'working', 'gift', 'invited', 'detective', 'questionable', 'I', 'sweater', 'permission', 'whiskey', 'location', 'matter', 'riddle', 'Few', 'travel', 'impossible', 'Anyone', 'gum', 'candy', 'illiterate', 'will', 'prize', 'command', 'computers', 'Well', 'called', 'saw', 'precise', 'complaint', 'Seize', 'objective', '1865', 'scold', 'river', 'beers', 'fresh', 'violin', 'fat', 'FAQ', 'pulled', 'history', 'Birds', 'handstands', 'pagoda', 'job', 'course', 'till', 'Run', 'perfect', 'father', 'uncertain', 'inventive', 'words', 'Christians', 'diet', 'talks', 'overemotional', 'stood', 'careless', 'acquired', 'alibi', 'went', 'read', 'reliable', 'critic', 'pull', 'irresponsible', 'unkind', 'lifeguard', 'caught', 'topic', 'loved', 'sounded', 'wouldn', 'cry', 'trees', 'School', 'pestering', 'sober', 'drug', 'traveling', 'Could', 'Right', 'wear', 'pricey', 'badly', 'complained', 'salesman', 'hockey', 'intolerant', 'perfectionist', 'expecting', 'cold-blooded', 'patient', 'didn', 'bank', 'noise', 'alert', 'Walk', 'Large', 'completed', 'talking', 'arrogant', 'canceled', 'dreams', 'Fill', 'Swimming', 'alone', 'cooperate', 'starting', 'info', 'escaped', 'offer', 'Me', 'Easter', 'death', 'aloud', 'save', 'watching', 'eater', 'incomprehensible', 'crow', 'adopted', 'seat', 'Drive', 'ironing', 'kicking', 'Complete', 'abhor', 'chair', 'Change', 'men', 'flew', 'deal', 'Ignorance', 'cooperating', 'fantastic', 'sure', 'sang', 'snakes', 'busy', 'hates', 'pizza', 'tough', 'Chess', 'callous', 'joy', 'hurried', 'ocean', 'Wipe', 'old', 'rescue', '€30', 'example', 'incorrigible', 'persevering', 'teetotaler', 'fix', 'speaks', 'eleven', 'tactful', 'curry', 'moment', 'hungry', 'clue', 'hard', 'rely', 'coward', 'eats', 'plan', 'knocking', 'tennis', 'bar', 'broken', 'giggled', 'soap', 'shalt', 'shoulder', 'staying', 'judge', 'Pitt', 'supper', 'graduated', 'grass', 'needed', 'grumpy', 'gross', 'unwell', 'page', 'storm', 'haunted', 'inseparable', 'danced', 'pass', 'talk', 'bliss', 'pianist', 'wicked', 'normal', 'living', 'rested', 'lunch', 'Fire', 'impatient', 'was', 'risks', 'prejudiced', 'lean', 'frowning', 'gregarious', 'walks', 'idiot', 'New', 'missed', 'goal', 'retired', 'seemed', 'arrested', 'disgusted', 'tower', 'confused', 'virus', 'dictionary', 'prepaid', 'unhappy', 'Would', 'juice', 'enjoying', 'could', 'chemistry', 'unpredictable', 'pregnant', 'assertive', 'black', 'miss', 'works', 'shower', 'finally', 'Help', 'used', 'lost', 'choice', 'burned', 'stars', 'buy', 'overconfident', 'dull', 'milk', 'clever', 'compassionate', 'Stop', 'provoke', 'shivering', 'God', 'unusual', 'refund', 'sin', 'cookies', 'doll', 'advise', 'troubling', 'Awesome', 'dead', '2', 'calmed', 'basket', 'jumped', 'arguing', 'unfair', 'care', 'toilet', 'Raise', 'sonata', 'fired', 'Lock', 'starving', 'trustworthy', 'guidance', 'attract', 'stopped', 'Saturday', 'influential', 'conquer', 'naked', 'wounded', 'Answer', 'Sing', 'look', 'vomiting', 'boss', 'dared', 'skirt', 'ill', 'heard', 'disappointing', 'calendar', 'often', 'Get', 'ride', 'furniture', 'Thank', 'at', 'mosquitoes', 'blameless', 'insurance', 'blessing', 'Trust', 'dance', 'sugar', 'Meet', 'back', 'Beer', 'incorrect', 'skating', 'cake', 'Hey', 'cut', 'hired', 'bugs', 'Men', 'wardrobe', 'famous', 'Spring', 'gambling', 'egotistical', 'fair', 'Of', 'painting', 'clues', 'Sharpen', 'cleaning', 'my', 'diabetic', 'lamp', 'short', 'reads', 'privacy', 'vitamins', 'loses', 'mailbox', 'remarried', 'Dancing', 'm', 'Most', 'raise', 'feed', 'blonde', 'Merry', 'burning', 'intoxicated', 'guesser', 'traitor', 'All', 'quickly', 'None', 'done', 'animal', 'survive', 'dogs', 'return', 'No', 'The', 'fits', 'Hop', 'deserted', 'Meat', 'hers', 'window', 'astronomer', 'shoot', 'ideas', 'piece', 'bike', 'paying', 'mathematics', 'rock', 'learn', 'punched', 'scary', 'thick', 'attend', 'Cicadas', 'noticed', 'drives', 'touched', 'arm', 'attentive', 'king', 'lonely', 'Couldn', 'teachers', 'Close', 'dozed', 'mine', 'rights', 'executed', 'designed', 'wrap', 'paddling', 'mature', 'glasses', 'joints', 'given', 'danger', 'as'}\n",
            "{'zdarzyło', 'Ratuj', 'potrzebuję', 'sama', 'przykre', 'sprzedajecie', 'otwieraj', 'Mógłbyś', 'zasnąć', 'prawdziwym', 'Cenimy', 'Gniewasz', 'Przyjdę', 'powoli', 'rozczarowani', 'pies', 'pisanie', 'Sól', 'poznaję', 'rosło', 'zamarł', 'Skończyłyście', 'kasy', 'Kopnęła', 'Znalazłem', 'Tonę', 'ciche', 'prowokuj', 'NHK', 'Pianino', 'zamkną', 'dogi', 'zadzwoniłem', 'żółwie', 'wesołych', 'spragniony', 'Wierzę', 'zadziałało', 'Mówię', 'upadł', 'Wygrałaś', 'czekali', 'oszustem', 'twarde', 'chłopcami', 'Przyspieszył', 'Tu', 'pobił', 'uparta', 'obok', 'umiał', 'pozwać', 'pij', 'skinął', 'powiodła', 'Skończyłem', 'stracony', 'Okłamałem', 'tata', 'potrzebować', 'utopiła', 'zrobił', 'podchodź', 'Grecja', 'cichym', 'jutro', 'złośliwy', 'ptaki', 'złość', 'brzydki', 'sceptyczny', 'rozumu', 'przegrałem', 'wywarła', 'lotu', 'Nadchodzi', 'świnie', 'ok', 'trzeba', 'Zrozumieli', 'ochotnika', 'nikogo', 'winię', 'wierny', 'wyjaśnienie', 'okazja', 'porze', 'nos', 'prośba', '18', 'przestać', 'braci', 'spłukany', 'Usłyszałem', 'Przewróciłam', 'Kulki', 'fajną', 'precz', 'Śpieszysz', 'Wykręcił', 'Powiedź', 'Sprawię', 'gniewa', 'paskudnie', 'Teraz', 'rybę', 'pójść', 'planowaliśmy', 'obaw', 'północ', 'konno', 'francuskiego', 'chcą', 'płacz', 'czytał', 'Zgłaszaliśmy', 'Skaleczyłam', 'budy', 'pomoc', 'starości', 'taksówkarzem', 'zdarzyć', 'zgodził', 'Pogódź', 'Podwieźć', 'zakurzone', 'wróciłeś', 'szczęśliwe', 'prawda', 'usłyszy', 'widziani', 'matkę', 'przyjacielski', 'głosu', 'Przyjdziesz', 'esemesuj', 'zrozumieliśmy', 'słodkie', 'nosi', 'snu', 'Dziękczynienia', 'Prawie', 'narzekał', 'była', 'żoną', 'niepełnoletni', 'łapię', 'skończyć', 'suchego', 'powiedziałam', 'weekendy', 'beztalenciem', 'dnia', 'ochroniarzy', 'inteligentny', 'skaczącego', 'wołał', 'Przeszkadzamy', 'wyjścia', 'kurczaki', 'Mów', 'Przyniosę', 'Nareszcie', 'ssakiem', 'towarzyski', 'Odpocznij', 'jakieś', 'Pamiętamy', 'Pojechałem', 'Ręcznik', 'ożenił', 'punktualnie', 'dzwoni', 'mają', 'zrobiłam', 'B', 'Kontaktował', 'ogląda', 'dołączyć', 'Rozumiem', 'Morze', 'upokorzony', 'robił', 'starszych', 'pewien', 'Sprzedaję', 'Mój', 'Widzę', 'płaszcza', 'wymiotuje', 'filmy', 'skrzypcach', 'Śpisz', 'siostrzeńcem', 'Niczego', 'Obudziła', 'Twoim', 'znałeś', 'Studenci', 'uprzedzony', 'zgodziłem', 'nazwiska', 'obwinić', 'wracaj', 'wciągnął', 'być', 'Te', 'zabawne', 'wykąpać', '90', 'momencik', 'Padnij', 'przeprosiłem', 'Wygraliście', 'mogłeś', 'zdobył', 'schronienia', 'Byliście', 'dość', 'wściekła', 'Pobiłem', 'Wyglądasz', 'się', 'odgadywaniu', 'kilogramów', 'Wcale', 'widok', 'przyjaciółką', 'telewizji', 'nad', 'Szczęśliwego', 'strasznie', 'drogie', 'nadzieja', 'gorący', 'gadasz', 'opona', 'kobietą', 'Zemdlałem', 'życie', 'genialny', 'Po', 'bełkotać', 'panią', 'Poznałem', 'tenis', 'filmów', 'przyjść', 'Nudzę', 'Wsiadłem', 'grywałem', 'centrum', 'Chyba', 'Przestanę', 'zaparkować', 'Poszliśmy', 'Ziemia', 'nieefektywny', 'jabłko', 'Jezus', 'piwo', 'śledzić', 'ciągu', 'lubisz', 'wydał', 'kicham', 'naga', 'mojej', 'Zamknąć', 'pośpieszyć', 'wczoraj', 'hałas', 'przetłumaczyć', 'zaskoczony', 'zapominasz', 'kiedyś', 'żołądkuje', 'kompletny', 'ślusarz', 'Spotkałem', 'pesymistą', 'szkołę', 'czaję', 'Podszedł', 'Poprostu', 'niej', 'Wybaczam', 'oryginał', 'pożarze', 'granicą', 'biadolić', '_START_', 'oddany', 'barbarzyńcami', 'tak', 'plik', 'samolubni', 'pali', 'oczy', 'realistą', 'wygląda', 'nożną', 'wszystkiego', 'wezwał', 'czarny', 'niszczą', 'podejrzanie', 'chemii', 'traci', 'Wasz', 'wyjście', 'zareagował', 'zębów', 'Stracił', 'zespołem', 'Wstałem', 'nartach', 'możesz', 'Wygrali', 'cierpię', 'Wygrałeś', 'ktoś', 'Koszule', 'chodź', 'Sam', 'naiwni', 'niska', 'samotny', 'zaaprobował', 'poślubić', 'niebo', 'płyty', 'śpimy', 'powtórzyć', 'Odnalazł', 'Poczuli', 'wychodził', 'kilku', 'zmiennocieplne', 'wolne', 'wstałeś', 'zwyczajnie', 'Mamy', 'samym', 'portfel', 'leworęczny', 'siostry', 'zazdrosny', 'mnóstwo', 'Opuściłeś', 'zreperować', 'trakcie', 'rowerem', 'niezręczność', 'ostrzegłeś', 'Wiwatowali', 'Rozśmieszył', 'cienki', 'Wyprostuj', 'tam', 'kostką', 'później', 'Chcę', 'Małpa', 'Spalili', 'Upuścił', 'literówka', 'panu', 'sprawował', 'oficerem', 'dwójka', 'prezenty', 'Rozmiar', 'zjem', 'wiń', 'samotnie', 'autostradą', 'nic', 'ponownie', 'lampa', 'pana', 'dziewiątej', 'autorem', 'Skończyły', 'niedobre', 'nienawidził', 'zbiło', 'wiem', 'życzliwą', 'Który', 'doktorem', 'oszukasz', 'kolejka', 'każdym', 'fantastyczny', 'Zarabiam', 'łyżwach', 'Rzeczy', 'wujka', 'Uciekaj', 'biologii', 'wszystkie', 'spacerze', 'Źle', 'Częstuj', 'dosłownie', 'uspokoił', 'skłamał', 'rozsądku', 'uczyć', 'śpiewała', 'Zdradziłeś', 'mówcą', 'Umarła', 'Pozbądź', 'Pobiegłem', 'pływanie', 'chłopcu', 'Pociesz', 'pójdziemy', 'Pożyczę', 'Uwielbia', 'połączenie', 'ślepa', 'statek', 'przystojnym', 'drzwi', 'powiedziałaś', 'ekstrawertyczny', 'szczęściarzem', 'wolnym', 'Znam', 'dziewczyna', 'Żartowałam', 'arabsku', 'Wysil', 'szybko', 'szampana', 'kuzynkami', 'Pokój', 'niesamowity', 'zapomniał', 'wyobraźni', 'strzelić', 'odmierzają', 'depresji', 'Połowa', 'Pora', 'obcinał', 'szefem', 'podlega', 'sprytny', 'zajmuje', 'zabawny', 'zimny', 'wielka', 'chce', 'nierzetelny', 'nie', 'natychmiast', 'po', 'bratanice', 'adwokata', 'luz', 'sławna', 'Cukier', 'Moglibyśmy', 'szantażowany', 'zajęte', 'Unikam', 'podłogę', 'Tomasz', 'zajętą', 'podobają', 'stanie', 'boli', 'błękitne', 'zostaną', 'przeciwbólowego', 'czytają', 'pożałuje', 'Tchórz', 'przykład', 'pójdziesz', 'wątpliwości', 'naciągnął', 'gubi', 'jadłeś', 'Zrobił', 'rozmawiać', 'Tych', 'wielkim', 'ręcznik', 'zachowuj', 'Zapakuj', 'Zauważam', 'boisz', 'zachodzi', 'internetową', 'możliwy', 'żeby', 'dowiodło', 'szeroka', 'zainteresowany', 'drzwiami', 'przestraszył', 'winny', 'Jesteś', 'zimę', 'serw', 'Schowałem', 'narkomanem', 'Skończysz', 'niemiecki', 'pakować', 'Szachy', 'Wytłumacz', 'znają', 'można', 'zrobili', 'bagaż', 'pomogłem', 'Zrobiłam', 'Wysłuchaj', 'Chopina', 'wszystko', 'przeklinam', 'Spokojnie', 'Singapuru', 'rzece', 'Wróć', 'Wezmę', 'umierać', 'Zaczynamy', 'Uzupełnij', 'Lód', 'Pożyczyłem', 'sexy', 'piosenka', 'Dobra', 'Dostał', 'golfa', 'serio', 'Zadzwoniłeś', 'żołądek', 'samemu', 'arogancki', 'zobrazować', 'Już', 'związku', 'powietrze', 'gdybym', 'wciąż', 'smak', 'rude', 'by', 'astronomem', 'popada', 'Sen', 'Szopena', 'odniósł', 'Odwrócić', 'niedzielę', 'swetra', 'pamiętasz', 'Współpracujesz', 'inny', 'drodze', 'trzydzieści', 'marudzić', 'studentami', 'ukradłeś', 'Nienawidził', 'Poczekaj', 'umrze', 'córką', 'gotować', 'urodzin', 'kawalerem', 'leków', 'pospieszmy', 'Zmieniliśmy', 'musiałem', 'Bądź', 'niebieskie', 'Zdecyduj', 'Uszczęśliwię', 'popisywać', 'czternastej', 'zgodzić', 'Zapłaciłem', 'dotrzymał', 'Dostałem', 'mgliście', 'Leżę', 'stój', 'psa', 'poszło', 'ukąsił', 'Leje', 'tajemnicy', 'diabetykiem', 'zamknięte', 'sznurówki', 'przeprosi', 'Żenię', 'kochaj', 'pisze', 'Poczuł', 'zawodu', 'Czyż', 'Zdzwonimy', 'przestrasz', 'szczęśliwi', 'nagranie', 'Stworzyłem', 'konserwatywny', 'zaskakujące', 'BMW', 'zatrzymuj', 'słonie', 'beznadziejny', 'otwiera', 'zachorowali', 'oczywiste', 'pchać', 'Przedawkował', 'damy', 'kaszel', 'Choruję', 'frajerem', 'chcesz', 'zatrute', 'Mówisz', 'dać', 'przyjdź', 'Wychodzimy', 'widzisz', 'spędziłeś', 'dobrymi', 'gotówki', 'zszokowane', 'Najbardziej', 'byli', 'Pochodzę', 'bywał', 'Ufamy', 'chyba', 'Czerwienisz', 'z', 'Świetnie', 'codziennie', 'Kolano', 'dziewczyną', 'je', 'próbowałem', 'przestraszeni', '99%', 'zlekka', 'kierować', 'ryzykować', 'gorsze', 'osobistego', 'wami', 'Śnisz', 'propozycję', '7:30', 'Podwiozłem', 'Zezłościła', 'blondynki', 'zadzwoni', 'kuzynami', 'wystarczający', 'Wybaczysz', 'ciasta', 'Zwykle', 'Witaj', 'zwrot', 'Wyznałem', 'cichy', 'znalezione', 'drugim', 'zrezygnować', 'piekarniku', 'spałeś', 'drogę', 'idziemy', 'zdarzać', 'Umyję', 'patrzymy', 'Poczęstuj', 'pojechali', 'odpoczynku', 'spocony', 'niełatwe', 'współczucia', 'dosyć', 'waszej', 'mieście', 'nienawiść', 'razie', 'gotowaniem', 'wrócisz', 'głębokie', 'uczniami', 'gorąca', 'otyły', 'Zaczął', 'Nóż', 'rodziców', 'okłamuje', 'wspaniali', 'okłamałam', 'trwa', 'Wyleciałem', 'kolega', 'wolni', 'emerytką', 'potłukł', 'Imprezuję', 'używał', 'zostawiaj', 'Możemy', 'powiedział', 'zewnątrz', 'rumieni', 'uciekł', 'pierścionek', 'pokojowi', 'pomyliłem', 'Przedyskutujmy', 'bezsilny', 'Przeżyłem', 'chętny', 'Jeszcze', 'wrócić', 'Swędzą', 'Mieszkam', '1979', 'płakać', 'spotkałeś', 'brakowało', 'zemdlał', 'matematyki', 'Wyjechałbym', 'zrobiłaś', 'bezbronny', 'uwagi', 'Mogę', 'znaliśmy', 'Ciągle', 'odpowiedzieli', 'spontaniczny', 'nacięcie', 'pytanie', 'poważnego', 'Europie', 'bezwstydny', 'urodzinach', 'zwariowany', 'śnię', 'wynalazł', 'procent', 'muzykiem', 'nieobecny', 'chłopakiem', 'boku', 'Napisz', 'wszystkich', 'zostać', 'Dałem', 'zająć', 'Tracimy', 'szalony', 'Wąż', 'Skuć', 'Oblał', 'Rozwiodła', 'gadać', 'Niedługo', 'strzygłeś', 'obu', 'zdenerwowany', 'Poczułem', 'psychiczny', 'Lepiej', 'zakupy', 'religijny', 'wyjedzie', 'właściwe', 'Tęskniłeś', 'nauczył', 'kłótliwy', 'Także', 'góry', 'duże', 'rządź', 'Wstrzymał', 'zawdzięczam', 'dni', 'zaatakował', 'aparatu', 'Kłamali', 'karetki', 'bogaty', 'krzyknął', 'śmiali', 'Ale', 'Zaszłam', 'człowieka', 'dostaniesz', 'słoneczny', 'sto', 'niewinny', 'elastyczny', 'nawiedzony', 'bażant', 'interesuje', 'urzędnikiem', 'Wstrzymała', 'beze', 'głosowałem', 'Strasznie', 'Pracuję', 'pokona', 'wyglądało', 'Włamał', 'strzelę', 'Bilet', 'tamtą', 'spieszyć', 'Tańczę', 'mogłem', 'Twoją', 'przedsiębiorcą', 'elokwentny', 'Zwolnili', 'został', 'umieją', 'mężczyzną', 'pomalować', 'lubią', 'podstępny', 'Przyszła', 'lekcje', 'rzucić', 'wtrącać', 'zwierzęciem', 'Bedę', 'Odwołali', 'grubi', 'skulił', 'Niechętnie', 'Przetnij', 'fortepianie', 'inne', 'Wstęp', 'Włochami', 'pożałujesz', 'doprawdy', 'zajmie', 'angielski', 'zasługuje', 'popularny', 'amatorami', 'prawnika', 'przyjaciołom', 'wyszła', 'zemdlałam', 'wchodzić', 'Kop', 'oszalał', 'Poznałam', 'sensu', 'podejście', 'słońcu', 'osądziłem', 'stłukłem', 'ołówka', 'wkurzona', 'Jakieś', 'niesamowite', 'zajęci', 'zainteresowane', 'ich', 'marchwi', 'polepszyło', 'Później', 'cię', 'forda', 'rockową', 'zjarany', 'wejdziesz', 'Podniósł', 'mleko', 'zatrudniła', 'cudowni', 'Zawiodłeś', 'sukces', 'Włącz', 'chorzy', 'Odbierz', 'zgodnie', 'Obie', 'Idź', 'wszedł', 'odskoczył', 'trawnika', 'Krzyczysz', 'Im', 'Nikogo', 'oszukiwałem', 'spokój', 'Przeprowadziłem', 'znacie', 'słyszałeś', '?', 'świadomość', 'jedenasta', 'rozczarowywujące', 'wyglądam', 'bramkę', 'Zgubiliśmy', 'ryb', 'nieodpowiedzialny', 'golę', 'czwartek', 'głośniej', 'Studiował', 'skorzystać', 'Uważaj', 'polityki', 'Pomaganie', 'stenografia', 'mężczyźni', 'daleka', 'kolejną', 'tego', 'poranek', 'wasze', 'najmniejszych', 'żal', 'akceptuję', 'kolej', 'Czekaliśmy', 'piłki', 'dolarów', 'Wstań', 'podróże', 'potrzebowała', 'hokej', 'zaprojektowałem', 'Zrobiłem', 'autentyczne', 'mężczyzn', 'oburzony', 'postawię', 'oko', 'dla', 'Nas', 'przyszedłeś', 'znudzony', 'chciał', 'Dałam', 'typie', 'bateria', 'mylimy', 'rozwinąć', 'Poddajemy', 'Naprawię', 'Ignorują', 'sensowne', 'zostanie', 'Zmniejsz', 'niebezpieczne', 'znalazłam', 'Przygotuję', 'Jedzie', 'zawstydzony', 'lewo', 'duszy', 'Nieśmiały', 'zrozumiem', 'Chleb', 'minuta', 'pobity', 'Spodobało', 'brzmiało', 'zapytałeś', 'sprawuje', 'Pokażę', 'poszłaś', 'Spodziewałem', 'galaretkę', 'Lubimy', 'tańszy', 'siłę', 'Mówiłeś', 'wam', 'Zegary', 'wstawać', 'cisza', 'Jedź', 'Konie', 'Zawołaj', 'dmucha', 'Myślisz', 'pomysłów', 'pokoju', 'Zrobisz', 'mysz', 'realistami', 'deszcz', 'One', 'ogniem', 'owady', 'piesze', 'dłużej', 'chwilę', 'przegrał', 'odpowiedź', 'Prawdziwi', 'telefon', 'gotów', 'Spotkajmy', 'przychodź', 'i', 'miało', 'wiedzieli', 'zagrać', 'Strusie', 'Przyszli', 'charakter', 'sprzątam', 'poczerwieniał', 'robimy', ',', 'bohaterem', 'strzelił', 'nasennych', 'opadła', 'dwaj', 'widzi', 'podniósł', 'ohydny', 'Usiądźcie', 'Ignoruj', 'opiekacz', 'Naprawiam', 'Całe', 'malarstwo', 'poważnie', 'Zapomnij', 'Zjedzmy', 'działać', 'przerwy', 'rozczarował', 'Siedź', 'Zamienię', 'nocnym', 'Wracaj', 'Skup', 'zagadkę', 'Przejaśnia', 'zachmurzone', 'Umarł', 'kontynuować', 'klawiatury', 'lepszy', 'dziwny', 'Niektórzy', 'przeprowadza', 'odwiedzić', 'Przyjechałam', 'prawie', 'Ciężko', 'gniazda', 'brzmi', 'odpocząć', 'nogę', 'Wolność', 'żart', 'Unikasz', 'tajskie', 'otwarte', 'Spójrz', 'alkoholikiem', 'świetna', 'pasuje', 'zrobi', 'gotowa', 'ostrożnie', 'bóle', 'czynszu', 'wystawić', 'zakłopotanie', 'Wkrótce', 'muzułmaninem', 'jawie', 'Przytulili', 'surfing', 'sprawy', 'przeprosić', 'Żyjesz', 'kochasz', 'Nauczę', 'tekst', 'Oddzwonię', 'ludzie', 'budzik', 'To', 'opłaciło', 'Spóźniłeś', 'Zgubiłam', 'Spróbój', 'pigułek', 'Policja', 'Uklękła', 'gęsią', 'płaci', 'komiczny', 'spokojny', 'Bałem', 'Książki', 'służbie', 'podlał', 'Biegnij', 'szczerze', 'kawę', 'śliczne', 'bramę', 'pachnie', 'o', 'czerwonym', 'zawalił', 'rodzi', 'jabłkowy', 'pocałowałam', 'odwołał', 'Zgodziłam', 'kobiet', 'Zagrajmy', 'Pracowałeś', 'niebie', 'przerwa', 'poniżej', 'Egiptu', 'Wyglądać', 'woda', 'zarozumiały', 'Czegoś', 'Nasza', 'nurkować', 'pracował', 'oto', 'szósta', 'odpowiedzi', 'zobaczyć', 'Rozumiecie', 'zrezygnuje', 'tobie', 'pije', 'troszkę', 'zapalić', 'przekonał', 'pierwszą', 'Nienawidzę', 'zgubił', 'ufać', 'dziwnego', 'żartu', 'piłkę', 'chleb', 'ranny', 'twoim', 'mniejsze', 'niski', 'ranni', 'lody', 'prosta', 'autobusu', 'przeprosiłam', 'bogaci', 'burdel', 'pech', 'Przyjdą', 'list', 'pływakiem', 'bezpieczniej', 'przyszedł', 'pragnie', 'przeczę', 'gotuję', 'wykonuje', 'rugbystą', 'pozwolenie', 'Marii', 'przewidział', 'Próba', 'dziesięć', 'utrzymał', 'wstyd', 'Zaspałem', 'Wielki', '1988', 'dyplomatyczny', 'proszę', 'mały', 'Czekał', 'Przejadłem', 'węży', 'czytasz', 'zasypiaj', 'akcjonariuszem', 'Ostrożnie', 'wygrałem', 'polubisz', 'swój', 'przejść', 'spóźnienie', 'nagrodę', 'leży', 'jednak', 'Dzwoń', 'wujek', 'porozmawiaj', 'sprawdzian', 'opowiedział', 'Kłamał', 'rozwiódł', 'znudzoną', 'teraz', 'ziemniaki', '5', 'tej', 'Jutro', 'Zatrudniłem', 'Oszukują', 'poszedł', 'sztukę', 'sprawiedliwe', 'chcemy', 'Byliśmy', 'zbliżać', 'obyło', 'Gaduła', 'Masz', 'prześladuje', 'rozmawiaj', 'Piłam', 'Ona', 'wody', 'Zaczynajmy', 'skromny', 'chrześcijanami', 'Przegrałeś', 'Nakarm', 'noża', 'podatek', 'Przedstawię', 'blog', 'minutę', 'Tomowi', 'spełniło', 'starszym', 'intrygujące', 'kłamstwa', 'Wątpię', 'Wiśnie', 'gotuje', 'Niektórym', 'uspokajający', 'oddychali', 'Wygrywam', 'przymuszany', 'ustny', 'zegarek', 'biznes', 'motywacji', 'zeszłej', 'poczekać', 'Wszystkiego', 'chudy', 'piątej', 'wyboru', 'rękawiczek', 'Popatrz', 'warzywa', 'zrób', 'Portugalii', 'Pszczoła', 'farsa', 'dokładny', 'Prawda', 'Wtrącasz', 'My', 'zainteresowani', 'rozumowanie', 'Odwróć', 'Pośliznął', 'cukier', 'Japonką', 'ryby', 'śpiewanie', 'Chcemy', 'Uwierz', 'czasu', 'biurowym', 'małe', 'Wkurzyła', 'sztuczka', 'problem', 'kopać', 'pusty', 'Utkniesz', 'wzięli', 'dziwnie', 'Wyglądam', 'żartuję', 'głową', 'płacenia', 'Wenus', 'świetnie', 'Twoje', 'płaczem', 'złamane', 'Zatwierdzają', 'bezużyteczny', 'dół', 'dwa', 'także', 'stało', 'niego', 'ode', 'Los', 'Zniknęli', 'czuję', 'przerażająca', 'Czytałem', 'serce', 'kochamy', 'Popełniliśmy', 'skręcić', 'normalnie', 'Znalazł', 'zażenowany', 'garnitur', 'internecie', 'spełniają', 'smutną', 'zdecydować', 'nienawidzimy', 'powiedzenia', 'odjechał', 'kwitną', 'Klient', 'jabłka', 'powstrzyma', 'dotknij', 'nadążam', 'bój', 'Zdecydowałem', 'Zrobię', 'rachunku', 'disco', 'głośno', 'szczęśliwą', 'granicę', 'Robię', 'sera', 'kolor', 'powody', 'żółte', 'pytaj', 'spotkałem', 'decyzja', 'tęskniliśmy', 'Spotkam', 'Zignorował', 'dziewczynka', 'Koale', 'bezpieczne', 'noc', 'przyjaciel', 'ciężka', 'zapytać', 'pomysłowy', 'godzina', 'Zasługują', 'usiądźmy', 'słoika', 'ruszyłeś', 'Podwieź', 'mylić', 'spokojnie', 'koń', 'Złapałeś', 'Wysiadłem', 'naiwny', 'wierz', 'pilotami', 'mógłby', 'skończyła', 'spektakularne', 'Nikomu', 'Tańczyli', 'mówimy', 'nami', 'płacił', 'Poczuj', 'tłucze', 'nikomu', 'wykrzywiaj', 'żywo', 'młodziej', 'Przepraszamy', 'przygotowany', 'Najpierw', 'piję', 'twojej', 'przekąsić', 'byłoby', 'nienawidzili', 'Greka', 'Pojedźmy', 'prawdopodobne', 'ratownikiem', 'podać', 'kokainę', 'Wszedłem', 'zbladł', 'placebo', 'słychać', 'otwarta', 'Wchodź', 'śmiał', 'pić', 'aż', 'Powinnyście', 'Uczysz', 'czym', 'burzę', 'przepraszać', 'miastem', 'kosztuje', 'ryzyko', 'wychodzi', 'przysługę', 'Powinieneś', 'pełni', 'przeciwko', 'rozrusznik', 'Iść', 'zapomnieć', 'Dam', 'Stój', 'zapłacić', 'mała', 'dumny', 'szary', 'Kusimy', 'fajne', 'zespole', 'Problemem', 'sprawdziłam', 'pociąg', 'Z', 'Anglikiem', 'mógłbym', 'kajakarstwo', 'krzyczał', 'ogarnie', 'Skakałem', 'nocy', 'Przegraliśmy', 'papier', 'sprawdzamy', 'przegrywania', 'piątek', 'odurzeni', 'Kolumbii', 'martwi', 'została', 'hulajnogę', 'ubikacji', 'rachunki', 'przekonało', 'połykaczem', 'zostaw', 'głowy', 'obaj', 'wytrwała', 'Rozejrzyj', 'poważne', 'kończymy', 'podekscytowany', 'pobiegł', 'Zależy', 'Weszłam', 'cała', 'czarodziejem', 'Ćwiczysz', 'ząb', 'paliłem', 'Obiecaliśmy', 'Kot', 'myli', 'biegać', 'niż', 'potwór', 'Oj', 'brudne', 'zrozum', 'Mogłabyś', 'Wyczyść', 'pijani', 'źli', 'Potrafi', 'przodu', 'stąd', 'idiota', 'daremny', 'popchnął', 'prawdą', 'robię', 'wymiotować', '1865', 'gitarę', 'spróbuję', 'Tamten', 'Samochód', 'nadjeżdża', 'północy', 'kanarek', 'domem', 'znasz', 'uśmiecha', 'poprawne', 'przyznał', 'rozsądni', 'stworzył', 'dyskretny', 'zakazany', 'trać', 'Auto', 'Spójrzmy', 'Koń', 'powiedziała', 'oddychał', 'sienny', 'ostrzec', 'nalegał', 'sprawa', 'Boga', 'Pokaż', 'końcu', 'pańskie', 'wygrywać', 'mokra', 'winogron', 'nasz', 'powiedziałeś', 'uśmiech', 'Mamo', 'dzisiaj', 'Wzięłam', 'miewa', 'usłyszał', 'sucha', 'ogolić', 'Ciasto', 'kupiłem', 'zaczynać', 'Właśnie', 'palaczem', 'Radio', 'drewniany', 'skarga', 'grymasów', 'Posłuchali', 'curry', 'myje', 'ciąży', 'prawo', 'Szanowałem', 'Wysiedli', 'Zaśmiał', 'plan', 'zwłokę', 'Zezłościł', 'intrygującego', 'trzecią', 'Dziś', 'zapominalski', 'wspaniałe', 'pokonać', 'całe', 'Wypadki', 'ulga', 'zamrugał', 'Zagłosowałem', 'klucze', 'markiem', 'autobusem', 'Śpij', 'szału', 'Poprawiłem', 'temat', 'Myślę', 'herbatę', 'Zdaje', 'idiotami', 'Wypróbujmy', 'mądry', 'Znałeś', 'latawiec', 'nienawidzę', 'masłem', 'synów', 'zjawił', 'wiedział', 'lodzie', 'wykluczyć', 'desce', 'Wie', 'Umiesz', 'zaangażowane', 'zera', 'Jabłko', 'studentką', 'Doceniamy', 'zasad', 'zjadł', 'piekło', 'płakała', 'zazdrosnych', 'Oni', 'upić', 'udział', 'Dziewczynka', 'Zostawiłem', 'telewizyjną', 'Czekałem', 'za', 'efektywny', 'Halo', 'Słyszałam', 'historii', 'nieprzewidywalny', 'obrał', 'dotrzymuję', 'Mocno', 'powodu', 'wie', 'wystarczająco', 'obrzydliwy', 'obecny', 'Imprezujesz', 'czytania', 'przepracowany', 'zrozumiał', 'my', 'miej', 'poważni', 'oddech', 'krew', 'chodzę', 'Będą', 'Gdzie', 'plecach', 'Koty', 'żartujesz', 'nowy', 'zdecydowałem', 'milę', 'przerąbane', 'pracuję', 'Brazylii', 'Przeżyliśmy', 'kto', 'dorosły', 'nikt', 'patrzył', 'wygrywam', 'rzadko', 'Dziel', 'zadzwoniłeś', 'gotowi', 'Daleko', 'Baw', 'karmę', 'szacunek', 'przejrzyste', 'kluczy', 'depresję', 'album', 'oszaleli', 'Zapamiętam', 'nikim', 'zdrowie', 'rodzice', 'przeczytać', 'zadowolony', 'ranek', 'opieraj', 'trafić', 'kłamać', 'rękawiczki', 'mango', 'pomysły', 'siódma', 'muzykologiem', 'Osobiście', 'poniżające', 'zadzwonić', 'planetą', 'gotowe', 'podstawił', 'uratowało', 'tolerować', 'Wkurzył', 'minęły', 'Je', 'agresywny', 'pańska', 'Szli', 'doznał', 'linę', 'kleją', 'początku', 'Lemoniada', 'zimy', 'bawił', 'Kupiła', 'niezrozumiałe', 'zachciało', 'skoncentrować', 'znudzonego', 'Mówiła', 'miałeś', 'poganiaj', 'mamusia', 'Kosztowało', 'twoich', 'Rób', 'akurat', 'dzięki', 'zadowoleni', 'śmieje', 'kłamcą', 'wypada', 'kłóć', 'skrót', 'Cóż', 'Zgodziłem', 'Tomasza', 'dziękować', 'Rozumiemy', 'potrzebujesz', 'Zadzwoń', 'koszulkę', 'żwawo', 'rada', 'Przytrzymaj', 'fotograficzne', 'krytykują', 'uwierzyć', 'nowej', 'Powiedziałam', 'pociągał', 'stopy', '(On)', 'Kwiaty', 'nieelastyczny', 'czytać', 'Próbuje', 'uroczy', 'kilka', 'pudełko', 'śmieszną', 'Podejdź', 'kompletnie', 'Dobrze', 'śpią', 'Uwielbiałam', 'Przywitaj', 'Zwymiotowałem', 'cieniu', 'absurd', 'zszokowany', 'miarę', 'Zapłaciłam', 'Zgadzają', 'zamknął', 'mogłam', 'emeryturę', 'wytrzymały', 'tenisa', 'Szkoła', 'skomplikowane', 'nierealny', 'Denerwuje', 'dym', 'poprawione', 'Goście', 'Byłbym', 'pracownikiem', 'pamiętam', 'Smacznego', 'skrzywdzę', 'słyszałem', 'znamy', 'lub', 'zamek', 'planem', 'Zgadzamy', 'Wiedziałeś', 'prośbę', 'Straciłem', 'gramy', 'brodę', 'wódka', 'psychopatą', 'Będzie', 'kuchni', 'Popadł', 'ciężarówka', 'Dowód', 'nazywaj', 'wieża', 'pływać', 'usunął', 'Szukaj', 'dołączysz', 'prowadzę', 'lekarzami', 'Tęskniłem', 'byłym', 'Czekam', 'alkoholiczką', 'bibliotekę', 'poszły', 'przypuszczenie', 'Wejdźmy', 'bezzwłocznie', 'przeszkadza', 'zeszyty', 'chłopak', 'skończone', 'szacunku', 'Pomoc', 'Patrzą', 'zwięźle', 'zatrzymać', 'uszedł', 'śpiewa', 'oszukał', 'kończył', 'otworzył', 'tatą', 'wymówki', 'podatku', 'wpada', 'Pomóż', 'biura', 'psów', 'ciężkie', 'Podziwiam', 'pomogło', 'zaangażowani', 'rzutką', 'łyżkę', 'toalecie', 'Wrogiem', 'Potrzebny', 'przebaczenia', 'szukałem', 'mediów', 'Wolę', 'pyta', 'Wstyd', 'Liczę', 'Wytrzymać', 'słów', 'nieszczęśliwy', 'wściekły', 'Dodaj', 'bierze', 'własnym', 'śrubokrętu', 'idealnie', 'pijakiem', 'ćwiczenia', 'troje', 'wstawałem', 'zaczerwienione', 'ciepły', 'zmierzyłem', 'pomarańczę', 'kretynem', 'Podaj', 'Rozbieram', 'Narysuj', 'jedno', 'spisał', 'nieważne', 'kiepskim', 'Koszyk', 'Zdarzają', 'kobiecie', 'Szkoda', 'zaangażowana', 'Żółwie', '!', 'będę', 'Powtórzmy', 'poślizgnął', 'Muzyka', 'niższy', 'matką', 'zgłosił', 'okej', 'późno', 'górze', 'rolkach', 'Pomożesz', 'pora', 'sam', 'Dziękuję', 'triumfował', 'podejmowania', 'gap', 'Oddawaj', 'cukierek', 'nieuprzejmy', 'Faceci', 'równi', 'Da', 'szef', 'ukradziona', 'Wszyscy', 'Potrzebował', 'przepiękna', 'niedyskretny', 'tą', 'powinieneś', 'krzywdy', 'znalazł', 'im', 'Dokąd', 'przemówić', 'jemy', 'Dostanę', 'szkoła', 'przedzwonię', 'pił', 'robić', 'wino', 'burknął', 'bystry', 'senny', 'będzie', 'ciemny', 'białe', 'wzór', 'słucham', 'swojego', 'Odsuńcie', 'garb', 'zostań', 'cicho', 'Telefon', 'zwymiotowałem', 'najstarszym', 'Zagoi', 'zdrowego', 'majtki', 'Amerykaninem', 'Powinnaś', 'Maria', 'problemy', 'Przespałam', 'Próbowałeś', 'domy', 'zajęty', 'zrobienia', 'zabawka', 'Zbliżać', 'tonie', 'bezwzględny', 'umieraj', 'twarzy', 'pewnością', 'ślicznotką', 'lubiłem', 'obserwował', 'rady', 'umiem', 'dzieci', 'Liczyła', 'Myśl', 'pułapkę', 'Zatrzymali', 'zastawił', 'miasta', 'tanka', 'lubię', 'znali', 'Zamykamy', 'czułem', 'ogrodnictwo', 'koty', 'błędu', 'kurtka', 'żałował', 'pistoletu', 'żartować', 'Banany', 'beznadziejnie', 'szczery', 'odpowiedziałeś', 'zdenerwował', 'raczej', 'Podajcie', 'buty', 'Przeszkadzam', 'ta', 'instynktom', 'Uwielbiałem', 'Kurtyna', 'mylę', 'zwolnić', 'niejasne', 'spojrzenie', 'boso', 'Wyluzuj', 'wygrać', 'Dom', 'zamawialiśmy', 'młodym', 'żle', 'przeszkadzać', 'cieszy', 'jechał', 'pracę', 'przyniósł', 'pudle', 'stosunek', 'Słyszysz', 'kot', 'Jem', 'ciastka', 'Brzoskwinie', 'szóstkę', 'muzyka', 'zamknąć', 'starzeć', 'uczulony', 'zdumiony', 'wyglądacie', 'dostatkiem', 'sok', 'wychodzić', 'Urodziła', 'rodzicami', 'zaczniesz', 'karetkę', 'Kazałem', 'szaleństwo', 'zrobię', 'wypiliśmy', 'złego', 'skała', 'szczepionkę', 'wydaje', 'niekompetentny', 'francuskie', 'Kogoś', 'osądziłam', 'dotrzymać', 'siadamy', 'będziesz', 'kwaśne', 'okiem', 'nauczycielką', 'martwy', 'Wysłucham', 'nielegalne', 'niedobry', 'gniew', 'Tekst', 'Ogolił', 'Zawdzięczam', 'rozumiem', 'Byłem', 'drogi', 'nosem', 'zbliżył', 'szalone', 'pracy', 'potwierdzić', 'Rozumiesz', 'złodziei', 'Mógłbym', 'Ile', 'niezręcznie', 'biblioteka', 'wyszło', 'Przestać', 'dojechać', 'Światło', 'państwo', 'uśmiechnął', 'płaszcz', 'Pszczoły', 'sarkastyczna', 'prosić', 'zacząć', 'Reagujesz', 'Harvard', 'Czyj', 'tęskniłem', 'zeszyt', 'czytanie', 'ufam', 'siwe', 'mieszkają', 'podobał', 'baseball', 'opierać', 'słonecznych', 'wynos', 'Włączyłaś', 'zabawa', 'dowodu', 'dyskusyjne', 'Wolałbym', 'Kupiłem', 'wzburzony', 'zmęczeni', 'podpisać', 'chwilowa', 'Praca', 'Zjedli', 'Wpędzasz', 'urodziny', 'nadążyć', 'Pewnie', 'okropny', 'cukrzykiem', 'nietolerancyjny', 'nowa', 'pomogę', 'pospieszyć', 'uważamy', 'Śmialiśmy', 'Wrócił', 'dziadkiem', 'dojść', 'zagubiony', 'trzy', 'przewodnika', 'lubi', 'liczy', 'pod', 'mówienie', 'przeczucie', 'twój', 'przeziębienia', 'jeden', 'Zostawił', 'przerażający', 'żebyście', 'głowę', 'policjantami', 'myślałam', 'Tomie', 'świece', 'Grałem', 'wychodzę', 'pewno', 'kłam', 'rozważny', 'energii', 'upoważniony', 'potrzebujący', 'Kocham', 'zezłościło', 'mgła', 'pozostaną', 'bij', 'tempo', 'porady', 'Doskonale', 'sprawił', 'emocjonalny', 'tylko', 'banku', 'koszmar', 'należą', 'frytki', 'słaba', 'prowadzi', 'podróżować', 'stacja', 'Będziemy', 'odpoczywał', 'Wspinać', 'samobójstwo', 'leniwy', 'obraził', 'Wspólnie', 'Dla', 'córka', 'gościem', 'Cię', 'przyprowadzić', 'wypiłaś', 'rzucił', 'tym', 'Panu', 'Przepraszam', 'oszołomiony', 'Złowił', 'zepsuł', 'Wyłamał', 'przeczytałem', 'otwarty', 'szansę', 'pierwszy', 'Śmiałem', 'Spaceruję', 'prom', 'więzieniu', 'wziąć', 'Pożałujesz', 'tracić', 'uwielbia', 'napisać', 'spiekł', 'ten', 'Mleko', 'Jadłam', 'loda', 'skoczył', 'Która', 'deskorolce', 'suseł', 'ruszaj', 'umarłem', 'uwielbiają', 'zepsuty', 'zadzwonił', 'on', 'zakończyła', 'odejść', 'Zatrzymać', 'Zaczyna', 'oszukujesz', 'przebaczenie', 'niespokojny', 'tajemnice', 'był', 'kosztowało', 'znajdzie', 'gorączkę', 'szczęśliwy', 'zamówić', 'Powróć', 'spięty', 'Ocean', 'pada', 'wpuścił', 'zaproszony', 'Było', 'dentystą', 'swojej', 'przyznam', 'Wymień', 'wkurzył', 'nienawidzi', 'brałem', 'starsza', 'znałyście', 'karłem', 'ufaj', 'Wynieś', 'boi', 'spieszno', 'Zatrzymajmy', 'Dzieci', 'pływała', 'Kogo', 'odmieniło', 'Kim', 'Coś', 'dziewczyny', 'Połóż', 'burtę', 'niepoprawne', 'muzyce', 'Podobało', 'przerwał', 'wyjdę', 'Ja', 'zaczekaj', 'spóźniony', 'Szukałem', 'pomocny', 'zdradził', 'jeżdżę', 'ruszać', 'sobotę', 'nadziany', 'wiedziałem', 'znowu', 'pewności', 'Wychodzę', 'pożar', 'zaintrygowany', 'szczegółów', 'uwięziony', 'Zapalił', 'siebie', 'sprawia', 'żarty', 'podwiezienia', 'uczyłem', 'Nadszedł', 'pistolet', 'odpowiedzieć', 'wiecznie', 'Święta', 'kościół', 'Takie', 'dziewięćdziesiąt', 'listonoszką', 'kościoła', 'Spytaj', 'wielu', 'Zaspaliliśmy', 'pozwól', 'albo', 'kanadyjką', 'skuteczny', 'Stał', 'zatłoczony', 'wspinać', 'mojemu', 'dostępne', 'Zmierzyłeś', 'ponad', 'szedł', 'zmienił', 'powiedzie', 'autobusowy', 'tajemniczy', 'luzu', 'powód', 'Kazał', 'stawiam', 'wojnę', 'uzasadnione', 'Chińczykiem', 'wojen', 'leci', 'Pośpiesz', 'zachwycony', 'spowodowane', 'patrolu', 'Zabawmy', 'otrzymał', 'wzdychał', 'długi', 'rozbił', 'a', 'jedzenie', 'zapomnij', 'Rozbili', 'ożenić', 'Jedz', 'pojęcia', 'Wykręciłem', 'widziałem', 'grasz', 'bułka', 'genialna', 'Zostaliście', 'Wspiął', 'zapisać', 'zdąży', 'tęsknił', 'wojowniczy', 'czerwieni', 'martwić', 'wolontariuszem', 'zwyczajny', 'biega', 'ogrodowy', 'myślałem', 'kusiła', 'przeznaczenie', 'ruszyć', 'Ktoś', 'dekoncentrujmy', 'Naprawimy', 'Dokonaliśmy', 'matka', 'Dokończ', 'błąd', 'muszę', 'zostało', 'recykling', 'Pozwolimy', 'słowo', 'dorośli', 'podoła', 'herbaty', 'zrozumcie', 'Oczekuję', 'zasady', 'Wysiedliśmy', 'wesela', 'płaczu', 'spowodowałeś', 'zapach', 'Wyreguluj', 'śpiący', 'Aresztowałeś', 'racji', 'Byłaś', 'karty', 'Cel', 'Pomóżmy', 'Przestraszyłeś', 'Podróżowaliśmy', 'musi', 'Spotkaliście', 'jako', 'Tutaj', 'Załóż', 'kontynuował', 'sąsiad', 'zabawy', 'Wytrzyj', 'Zatrudniłam', 'obraca', 'śmiać', 'zegar', 'dwoje', 'Pracuj', 'astmę', 'Dostały', 'narzekaj', 'Twojej', 'nierozłączni', 'działa', 'dowództwo', 'Przestrzegałem', 'nielojalny', 'kupił', 'Powiedziałbym', 'zniechęcaj', 'trzecia', 'gorąco', 'płaczę', 'denerwuje', 'heroina', 'Zemdlałam', 'kolejce', 'smutnego', 'partnerem', 'Współczuję', 'chciałeś', 'dziwnym', 'szadź', 'pytał', 'bogatego', 'pomocne', 'Spotkamy', 'zrelaksowali', 'naładowana', 'strażnikiem', 'lekko', 'poprzednim', 'Każdy', 'przegrywasz', 'nudzi', 'Zegar', 'Wzięłaś', 'Policzki', 'przez', 'towarzyszyć', 'Zaczynam', 'funkcjonować', 'bydło', 'molem', 'Głosowałem', 'Sprawdziłem', 'będziemy', 'rozumie', 'kufel', 'chciałbym', 'biegasz', 'przewrażliwiony', 'asertywna', 'Czechem', 'Martwisz', 'alarm', 'pieniędzy', 'Wkurza', 'Wysprzątaj', 'łysieje', 'Pij', 'ciepło', 'okrągłą', 'naturalne', 'całował', 'Najgorsze', 'zakupu', 'skończył', 'zmęczona', 'przestałeś', 'efektywne', 'Ceny', 'ogień', 'położyć', 'śpiewały', 'latem', 'podoba', 'Wyrzuciłem', 'ostrzegałam', 'Ty', 'policja', 'popilnować', 'szpital', 'Ci', 'jadł', 'prawidłowość', 'krzyk', 'Oboje', 'jedzie', 'wzbroniony', 'spotkanie', 'protekcjonalny', 'Znałem', 'Śpiewał', 'Odkryłem', 'przodem', 'silny', 'Skoncentruj', 'gotowy', 'wygraną', 'Zbieram', 'lubiła', 'czterdzieści', 'Wszystkie', 'przyjaciela', 'Mieszkają', 'zakupach', 'Słucham', 'historia', 'Tokio', 'dobra', 'Pomaluj', 'Biblii', 'kaca', 'piszesz', 'Polecę', 'Wróciłem', 'zapuścił', 'Ma', 'zgodzisz', 'sprzedaje', 'kaczki', 'miłego', 'Posiadam', 'Zamknij', 'Wpadnij', 'wspaniały', 'zamykaj', 'zacząłem', 'wejść', 'brata', 'Otwierać', 'żadnych', 'postrzeliłeś', '8', 'sukienki', 'samolubny', 'wiarygodny', 'Pozwę', 'Zdradziłaś', 'nieprzyzwoity', 'Objęli', 'dziwne', 'Nikt', 'Przymknął', 'zawsze', 'sprawiedliwy', 'zmienić', 'pośpiesz', 'brązowe', 'serca', 'wrogiem', 'zamrożone', 'mięso', 'pomarańcze', 'śnić', 'dowcip', 'emeryturze', 'Wracać', 'okrutny', 'ruszył', 'roześmiał', 'Przytuliłem', 'chwili', 'latają', 'Wynoś', 'uważny', 'powinno', 'pułapka', 'Zamiotłem', 'grał', 'Przesuń', 'kawa', 'wyczerpanych', 'Tomem', 'wystarczyło', 'której', 'zabiję', 'Zapal', 'przesadzajmy', 'sofa', 'koszuli', 'Chcą', 'szczeniak', 'słuchasz', 'rozśmieszaj', 'Zmieniłem', 'słowne', 'salonu', 'ponury', 'Powinniście', 'siedemnaście', 'nadzieje', 'obchodziło', 'ingerować', 'Podpisz', 'Musiałam', 'Przyznam', 'Powiedzieli', 'godzinę', 'wygadany', 'Płakała', 'sobą', 'wyleczony', 'bezdomny', 'Ćwiczę', 'wyszedł', 'Otrzymałem', 'Zostało', 'sushi', 'rób', 'śliczna', 'znajomo', 'średnią', 'znudzeni', 'lwa', 'cześć', 'perfekcjonistą', 'Leż', 'przygnębieni', 'biegnie', '.00', 'torba', 'wymaga', 'używać', 'nudzę', 'pójścia', 'komunistą', 'cieszą', 'resztę', 'inaczej', 'hotel', 'Marnie', 'Miło', 'amatorem', 'konkurs', 'Zauważyłem', 'dostała', 'indziej', 'Ameryce', 'pozytywnie', 'zauważył', 'mężatką', 'Spali', 'przebiegły', 'stajesz', 'kupiłeś', 'Potrzymaj', 'Kłamiesz', 'osób', 'czuli', 'że', 'ma', 'Nowego', 'należę', 'Zaszła', 'twoja', 'czarna', 'żartuje', 'zwrotowi', 'już', 'poetą', 'przyjaciół', 'zły', 'ratownikami', 'siedzieć', 'Zostanie', 'CNN', 'zauważyliśmy', 'biletu', 'Naruszył', 'głośnym', 'Wy', 'trafiłeś', 'Dzwoniłeś', 'słabo', 'decyzję', 'Kioto', 'warte', 'auto', 'człowiekiem', 'zrezygnowałeś', 'Bud', 'drużyny', 'pomóc', 'znajdę', 'uśmiechali', 'niesprawiedliwe', 'kogo', 'Dokreć', 'Wygląda', 'walki', 'zaczynasz', 'przydatności', 'bezużyteczne', 'drgnęli', 'dokuczanie', 'Dzięki', 'poinformować', 'kciuki', 'Obudziłam', 'milczał', 'strzał', 'znałaś', 'cnotą', 'zrobione', 'jedynie', 'ekonomię', 'powiedzieli', 'wyrostka', 'wybrał', 'krześle', 'padało', 'czuł', 'Pytał', 'arabski', 'stali', 'Zupełnie', 'ogoliłam', 'rodziną', 'zignorował', 'Zagłosowałeś', 'niebezpieczny', 'nieustraszony', 'zrobiła', 'Wściekł', 'zdarzy', 'kolację', 'jedynakiem', 'wróciliście', 'poćwiczyć', 'królem', 'straciłem', 'pomagać', 'Markiem', 'wredny', 'światło', 'Masło', 'Przyłączycie', 'podnieść', 'Otwórz', 'Zaraz', 'spodoba', 'anemikiem', 'Oszalałeś', 'podróbka', 'kierowcą', 'Spadł', 'zapalenie', 'od', 'głuchy', 'przysługi', 'zawód', 'Ranisz', 'romantycznie', 'znał', 'zmusił', 'Zaczynajcie', 'śpiewać', 'zrelaksowany', 'całusa', 'Ścisz', 'oznacza', 'Jedliśmy', 'zespół', 'zamówiłam', 'taksówkę', 'górę', 'Pomagamy', 'Ciebie', 'powiedz', 'opowieść', 'współczuł', 'wyspy', 'nazywało', 'Pojechali', 'wyrazić', 'Chce', 'czekał', 'Pożegnaj', 'atrakcyjny', 'poczekaj', 'naszej', 'Liczyłem', 'przewróciło', 'podejrzane', 'słuchał', 'rysunek', 'wygrywa', '911', 'szczęściarz', 'Gram', 'sypiam', 'designerem', 'dala', 'dotykaj', 'tygodniu', 'artystą', 'Kochasz', 'hot', 'Przykryj', 'Przeżyje', 'zaśmiecaj', 'Szedłem', 'stronie', 'budzików', 'tydzień', 'fryzjerem', 'butelkę', 'muzyki', 'wątpienia', 'każde', 'tańczy', 'Rośliny', 'rządzi', 'roli', 'stracił', 'zaczyna', 'roku', 'musimy', 'Spocznij', 'pianistą', 'wstaję', 'Czerwieni', 'samo', 'szczęśliwego', 'raport', 'myśl', 'Ładna', 'Potrafisz', 'oddychać', 'obcymi', 'Wyjaśnij', 'Zdał', 'wzrok', 'Miał', 'Sprawdzę', 'wybierał', 'wolno', 'zostawiłeś', 'Pocałowała', 'ciała', 'jesz', 'źle', 'Zamknęła', 'zajęta', 'Pomyliliśmy', 'nudne', 'Dlaczego', 'złodziejami', 'Zadzwonię', 'czarne', 'kontakcie', 'ziewnął', 'przeciwsłoneczne', 'głodne', 'okolicy', 'krytyczny', 'pójdzie', 'Robiłem', 'Żartowałem', 'przejmująco', 'Będziesz', 'nauczycielem', 'Wyjeżdżaj', 'Zaczęli', 'Umyj', 'przejechać', 'Czesć', 'beknął', 'byłby', 'OK', 'strona', 'znalazłem', 'Mieli', 'Czekali', 'Powinnam', 'śrubę', 'sercu', 'da', 'powściągliwy', 'pracować', 'samochodem', 'brakuje', 'zawieść', 'wcisnąć', 'południe', 'kostka', 'zdesperowany', 'tęsknisz', 'uderzył', 'podeskcytowany', 'zawracasz', 'aresztowany', 'zwierzę', 'straszny', 'kochać', 'swą', 'dziennie', 'umiera', 'lampy', 'Posłuchajmy', 'godzinie', 'Zbiera', 'Pozdrowił', 'jeszcze', '1960', 'Przyszedł', 'pańskiego', 'wróciłaś', 'idę', 'gotujesz', 'woła', 'Daję', 'Zimno', 'Zadzwoniłem', 'prowadzić', 'Użyłem', 'Pomagaj', 'Udawaj', 'Rzucił', 'pocił', 'siostrzenice', 'ojciec', 'wietrznie', 'ręcznika', 'popychaj', 'zarabia', 'dzień', 'wieczór', 'gotówką', 'dwóch', 'opowieści', 'dużego', 'Sprawdź', 'mokre', 'nienawidziła', 'samego', 'zamawiał', 'trzyma', 'mocy', 'diecie', 'Przychodzę', 'bawiliśmy', 'magia', 'Pośpieszmy', 'Zapomniałeś', 'Zacznę', 'burmistrza', 'zaczęłaś', 'Odeślę', 'świetny', 'przegapiłem', 'zachowuje', 'robotę', 'języka', 'uzbrojeni', 'Zrozumiałem', 'Śpiewasz', 'pusta', 'Boję', 'obudziło', 'razy', 'liderem', 'zadzwoń', 'Jest', 'irytujące', 'ognia', 'szła', 'czas', 'czerwony', 'skazani', 'pytałem', 'spisałeś', 'wyrzutów', 'Żona', 'nauczyłaś', 'arabskiego', 'więźniami', 'rozmawiał', 'kopytami', 'wstajesz', 'nich', 'bezpieczny', 'Lwy', 'zadać', 'Wynocha', 'weteranem', 'piwa', 'Zmarł', 'Wejdę', 'mieszkasz', 'chodźmy', 'drinka', 'mało', 'aktorami', 'szczekają', 'świetną', 'Podjąłem', 'wybuchnął', 'Zbudował', 'Oto', 'Przejdź', 'szans', 'filiżankę', 'Zaufała', 'idą', 'Firefoxa', 'Zobacz', 'Zaoferowaliśmy', 'fantastycznie', 'spokojna', 'wierzyć', 'Tak', 'mogliśmy', 'adoptowany', 'Zachciało', 'pecha', 'niesprawiedliwy', 'policjantem', 'odwróć', 'Uwolnię', 'Wygrywasz', 'skopiować', 'czterech', 'popełnił', 'słucha', 'Słuchasz', 'chleba', 'notatki', 'Odrosły', 'wygra', 'Widziałeś', 'poszedłem', 'monetą', 'Przypatrz', 'bawiłeś', 'Wyszedł', 'zaczekać', 'twarz', 'wykombinuję', 'przezywaj', 'potrzebna', 'Wstaję', 'lubimy', 'biały', 'Do', 'mieć', 'Jestem', 'Wiosłuj', 'Kontynuowała', 'Zaufaj', 'pomożemy', 'Zaadoptowałyśmy', 'Rekiny', 'może', 'czekaj', 'mieszka', 'japońskie', 'wulgarny', 'temu', 'mydła', 'odmówić', 'syn', 'ryzyka', 'hiszpański', 'Nosił', 'Zarejestrowałem', 'marzy', 'bardziej', 'Chciałabym', 'kopalnią', 'Wymyślę', 'mówisz', 'tatuaż', 'kłopocz', 'Lubią', 'Byłoby', 'fioletowy', 'właścicielką', 'niedojrzała', 'mamy', 'Wybrałem', 'rezygnuj', 'Zawodzisz', 'lekkomyślny', 'złoty', 'potrzeby', 'Pieniądze', 'zaczęli', 'spocząć', 'początek', 'kapitan', 'zamiar', 'Kontakt', 'posprzątała', 'Ton', 'zemdlały', 'samolubna', 'stoisz', 'duzi', 'dojrzały', 'innego', 'sobota', 'Spiesz', 'Pomocy', 'słuchamy', '/', 'ubrana', 'pomocy', 'Ucz', 'moim', 'lewą', 'śniegu', 'idolem', 'słyszeliście', 'nieźle', 'Czekałam', 'still', 'cierpliwa', 'jasno', 'piżamę', 'Szkło', 'Żartujesz', 'zgub', 'słuchawki', 'konie', 'chłopcem', 'śpiąca', 'Kupiłeś', 'we', 'przyszedłem', 'planie', 'Zamykam', 'podążać', 'okno', 'miłości', 'Czytam', 'komputer', 'kocha', 'Dzisiejszy', 'wojny', 'Spieszysz', 'niczego', 'wstać', 'poważny', 'wiedziałeś', 'ósmej', 'Brak', 'marchewkę', 'wiersza', 'oczami', 'płonie', 'trudna', 'wypłata', 'mleka', 'Złe', 'torbie', 'Kobieta', 'niezorganizowany', 'socjalnym', 'meteor', 'Duchy', 'koniec', 'prosty', 'zapomnę', 'martwe', 'chrapie', 'Zostaw', 'Wyszczotkował', 'Wtedy', 'sprawdzić', 'skończony', 'Poradź', 'Zarumieniła', 'Włochy', 'Oszukałeś', 'rzeczy', 'zostałeś', 'jedz', 'Urodziłem', 'przytomny', 'wierne', 'Zrobiliśmy', 'pokój', 'karaoke', 'piosenkarzem', 'DJ-em', 'miłość', 'pośpiechu', 'starasz', 'zepsuciem', 'miecza', 'facetem', 'Rzadko', 'moimi', 'zmuszony', 'Zabrała', 'pączkiem', 'Macie', 'złoto', 'FAQ', 'powiem', 'przyzwyczajenia', 'pagoda', 'innych', 'posłuchaj', 'kłamał', 'telewizja', 'Idę', 'dowcipny', 'Przestałem', 'Straciliśmy', 'Byłyśmy', 'skrupułów', 'będą', 'nową', 'wróci', 'zerwaliśmy', 'Zagrała', 'dreszcze', 'zaśpiewał', 'szachy', 'Pojadę', 'Przeczytałem', 'Znamy', 'nosa', 'dziewczynę', 'podobało', 'ślad', 'jej', 'szczęścia', 'odejdzie', 'pokoi', 'muzykę', 'swoje', 'trudno', 'piszą', 'Łał', 'odsunął', 'błogosławieństwo', 'pytasz', 'słaby', 'minęła', 'darmo', 'wojnie', 'sukienkę', 'Złapałem', 'Miłego', 'śpiewałem', 'wędkowanie', 'Próbowała', 'wychodź', 'Niech', 'czasem', 'piękna', 'pizza', 'Postanowiłem', 'unikałem', 'też', 'szkole', 'zwierzątko', '€30', 'usłyszeć', 'zarumienił', 'Sprzedaje', 'cud', 'bystrym', 'pokład', 'umarła', 'drzewem', 'tancerzem', 'wiarygodnie', 'wyglądają', 'dżinsy', 'znajomych', 'zaprowadził', 'zdenerwowana', 'dłużnikiem', 'hojny', 'charyzmatyczny', 'lekką', 'Jak', 'Wasza', 'powiedzieć', 'spróbuj', 'zgubiony', 'zwyczaju', 'weekendu', 'mówił', 'perfekcyjny', 'fascynujący', 'sobie', 'pomaga', 'dentysta', 'Ten', 'Ból', 'kieszeni', 'Lubisz', 'Umieram', 'chcę', 'zaprojektował', 'Moim', 'wy', 'głęboki', 'choruje', 'zamknij', 'żonę', 'kolory', 'Cudowna', 'daltonistą', 'ustąpił', 'skrzynka', 'ciągle', 'zakończy', 'naprawił', 'ukarany', 'pająków', 'Pojawił', 'byś', 'Wybraliśmy', 'rozmawialiśmy', 'Wyglądało', 'łatwowierny', 'drzewach', 'idealny', 'pewni', 'minął', 'Drzewo', 'Okłamali', 'Jesteście', 'biuro', 'Ustatkować', 'Spadam', 'znoszę', 'butów', 'udany', 'Skoś', 'Francji', 'rzeka', 'zawiodę', 'książki', 'wejdź', 'skórkę', 'drzewa', 'którym', 'zniknęła', 'księgowym', 'wyjadę', 'zmieszany', 'Uderzyliśmy', 'metrem', 'zawiera', 'ofiarą', 'czytam', 'zaciągnął', 'Pracuje', 'lancz', 'oglądać', 'Pożyczył', 'zobaczy', 'tępy', '„Zaufaj', 'Wygrałyście', 'pacjentem', 'Wygrałem', 'zepsute', 'skończona', 'uszkodzone', 'dasz', 'owoce', 'spodni', 'mi', 'zdrajcą', 'umyj', 'podekscytowana', 'kłócimy', 'No', 'Oczywiście', 'świtem', 'strzelać', 'Chodź', 'Zdobyłem', 'kochają', 'przeciął', 'starymi', 'starczy', 'daj', 'potrzebowali', 'przypominam', 'tort', 'kością', 'kłamiesz', 'lepszego', 'wyobraźnia', 'popisuje', 'poddawaj', 'pochwalił', 'Chciałaś', 'Wyrzuciliśmy', 'wybór', 'dam', 'jeśli', 'energiczny', 'ranne', 'domu', 'Pamiętam', 'aby', 'sucho', 'bliżej', 'psy', 'padać', 'Tyle', 'spania', 'świetni', 'przemyśli', 'rodzinę', 'ją', 'Zaciął', 'pamiętał', 'chmiel', 'spacer', 'budź', 'Zostali', 'Grasz', 'sekrety', 'Kiedyś', 'publicznie', 'wychowany', 'gruby', 'znieść', 'Gdy', 'łatwowierni', 'Głowa', 'potańczyć', 'mięsa', 'duchem', 'Słodkich', 'Życie', 'poruszyła', 'Roku', 'obejrzę', 'obserwuje', 'singlem', 'osobę', 'bankrutem', 'Bywam', 'debil', 'spagetti', 'zajętych', 'zupy', 'Wstydzę', 'zasiłku', 'happy', 'bankowym', 'takiej', 'przyśpieszył', 'obiadu', 'śmierć', 'otrzymać', 'widzenia', 'tchu', 'ubezpieczenie', 'trzynaście', 'celu', 'Wiszę', 'niemoralny', 'staruszek', 'wyrafinowany', 'topnieje', 'lepsze', 'tych', 'pozostali', 'Wybierz', 'doradzić', 'drażniące', 'konto', 'Mama', 'są', 'jajek', 'barze', 'nieprzyjemny', 'urodzonym', 'Udowodnił', 'te', 'szwedzku', '839', 'stopniał', 'rano', 'Złapali', 'Hoduję', 'duża', 'olbrzymi', 'Ogarnij', 'lato', 'jaj', 'złe', 'płyta', 'krzywda', 'radzisz', 'Doprowadza', 'Zgubiłem', 'Postępuję', 'zmienia', 'potrzebni', 'kim', 'byłyście', 'Każde', 'golfistą', 'kuchnię', 'Zmusił', 'bliźniaczkę', 'księdzem', 'Odpowiedz', 'zrobisz', 'uzbrojony', 'Toniemy', 'Stracili', 'przyjechałem', 'zastąpienia', 'leniwi', 'Piję', 'dostaliście', 'Nie', 'Fantastyczny', 'świąt', 'Lubicie', 'kurczaka', 'niewiarygodne', 'studentem', 'Śmierdzisz', 'przepracowani', 'Lekko', 'uprawia', 'krótkie', 'płacić', 'Wstrzymać', 'tenisistą', 'wydostać', 'Francuskiego', 'Pomogliśmy', 'Żaby', 'Głosowali', '„Tom”', 'hałasuj', 'ogoliła', 'obudź', 'Mogą', 'Wyszedłem', 'ładny', 'Błąd', 'gazeta', 'asertywny', 'apetytu', 'przyniosłeś', 'Szukaliśmy', 'miasto', 'zrobić', 'CD', 'ochronę', 'wcześnie', 'okłamałem', 'ubranego', 'Zaciąłem', 'Wpakować', 'Wciąż', 'atrakcyjna', 'przeprowadzce', 'Rozwiązałem', 'Opowiedz', 'ciało', 'mną', 'pojechać', 'łatwo', 'zmarszczać', 'tańczyć', 'Wyjdź', 'Próbowali', 'Klaskali', 'wobec', 'posłucha', 'często', 'pobliżu', 'zginął', 'środki', 'uratować', 'konia', 'konkursie', 'Kobiety', 'Spuściłam', 'dyżurze', 'zjadłeś', 'chorą', 'krowę', 'Spowodował', 'weszła', 'bok', 'Płynęli', 'wyjątki', 'poza', 'kawałek', 'darmowe', 'dojedziemy', 'Powiedziałem', 'Pływanie', 'Bostonie', 'przyciągają', 'Zamierzam', 'poklepał', 'Węże', 'powiedzieliśmy', 'Uwaga', 'pacjent', 'tamtędy', 'schować', 'Wędrujesz', 'ostatni', 'postrzeliłaś', 'Skłamałem', 'posłuszny', 'Płacisz', 'ciemno', 'mężczyznami', 'nieśmiała', 'W', 'gdzieś', 'Przerażasz', 'Odprężali', 'Przejechałeś', 'Zaczerwieniła', 'Mijały', 'hamburgera', 'stracę', 'mówili', 'pogniewał', 'potrzebowaliśmy', 'Poradzisz', 'Zidentyfikuj', 'Podoba', 'Przyjdź', 'Stawy', 'zdjęcie', 'gitarze', 'soli', 'Zbudowałem', 'domową', 'Wcześnie', 'Możesz', 'razem', 'okularów', 'Zjem', 'potrzeba', 'kotów', 'bogata', 'sklepie', 'Kocha', 'imitacja', 'Mnie', 'zapłakał', 'Zachowujesz', 'dzisiejsza', 'pominąłem', 'Blefujesz', 'Odrzuciłem', 'Umowa', 'spod', 'przestawała', 'trudne', 'Pójdziesz', 'orzechy', 'najlepszego', 'przejrzał', 'poddawajcie', 'bliska', 'wszędzie', 'próbuje', 'Porwali', 'świeżego', 'Przebiorę', 'poniżony', 'poprawiać', 'Lato', 'odpala', 'zagrożeniem', 'mapę', 'Wesołego', 'Naostrz', 'Rozdaj', 'Skończyłaś', 'Zaadoptowaliśmy', 'Kręci', 'żebyś', 'uczy', 'Francja', 'gwizdać', 'jestem', 'ukradziono', 'Pozostańmy', 'chrześcijaninem', 'Auta', 'niezłe', 'wrogów', 'odtwarzacz', 'Pogarsza', 'podróżowanie', 'zranić', 'miecz', 'Porozmawiamy', 'Zatańczmy', 'równie', 'ochroniarzem', 'skurczyły', 'śpi', 'Miejcie', 'wygrała', 'aparat', 'Wysłałem', 'podobnie', 'kalendarz', 'głos', 'eksplozje', 'hańba', 'wybuchowy', 'okropnie', 'chorobę', 'Przegrywamy', 'Boston', 'wyjedź', 'Kapujesz', 'Uściśnij', 'szaleni', 'zamknę', 'pozostawał', 'przymierzyć', 'bejsbol', 'Robiło', 'Mary', 'zakończyć', 'Zawołałem', 'grupie', 'Uszczęśliwiasz', 'przyjemne', 'Kanadyjczykiem', 'wysłał', 'używaj', 'Powiedziałeś', 'spadnie', 'Daj', 'noga', 'fejsie', 'życiem', 'migrenę', 'Jadłem', 'zmieniło', 'nadal', 'brat', 'żony', 'interweniował', 'lustro', 'zapaśnikami', 'smakowało', 'internetu', 'grę', 'skóry', 'szczęściarzami', 'Szaleję', 'Czułem', 'długie', 'Przewróćcie', 'dźgnął', 'podróbki', 'Ptaki', 'przekonana', 'weź', 'kręgle', 'chłopcy', 'nieszczęśliwa', 'wstęp', 'Napraw', 'Wrzuć', 'Damy', 'musieli', 'wpadł', 'rzecz', 'wyższy', 'palę', 'zainteresowana', 'powiedziano', 'Wracajmy', 'żołnierzem', 'Słyszycie', 'informację', 'sie', 'krzesłem', 'Musisz', 'niegrzecznie', 'sami', 'Pokrój', 'ziewasz', 'Dotrzymywał', 'Spoczywaj', 'obrońcą', 'popisuj', 'moje', 'śmiała', 'Pomogła', 'Poszła', 'kłamie', 'tik', 'właścicielem', 'obchodzi', 'Wybuchłem', 'mylisz', 'chłopca', 'zapisuj', 'lepsza', 'Wyglądała', 'przyjemny', 'skarpety', 'żałosny', 'Piłem', 'Moje', 'Zadzwonili', 'mówiłaś', 'dużo', 'czujesz', 'obietnicy', 'wodę', '6:30', 'kiepski', 'czujemy', 'żołnierzami', 'Podpisałeś', 'przerwę', 'Pijanym', 'umyć', 'łódkę', 'robaczkowego', 'wziąłem', 'blefuje', 'potrzebny', 'zaryzykuje', 'goleniu', 'wyzwania', 'tolerancyjny', 'pocztówkę', 'nakarmiłem', 'wojskiem', 'Startujemy', 'Tańczyła', 'ciekaw', 'imiona', 'gruba', 'moją', 'przetrwał', 'dużą', 'ramionami', 'Uwielbiam', 'ryż', 'Potrafiłbyś', 'Wiatr', 'okropne', 'dorosłe', 'Miłość', 'Nadal', 'skarcę', 'siły', 'zamówiłem', 'dlaczego', 'poszedłeś', 'Zaczerwienił', 'Napiszę', 'nieprawdziwe', 'Wypiłem', 'usprawiedliwiony', 'łatwizna', 'Przeczytałeś', 'Zgadzam', 'grzechy', 'Brama', 'porządku', 'posiłki', 'uśmiał', 'Państwem', 'posłuchasz', 'wstawiony', 'rezerwację', 'głucha', 'chronić', 'Lincoln', 'lepiej', 'spotkamy', 'niepoprawny', 'wyjdź', 'Otwórzcie', 'Kupiłam', 'losu', 'Które', 'ugryzł', 'ciszy', 'zajęło', 'palenie', 'Wiesz', 'ogromne', 'niewiele', 'Wyszli', 'świeży', 'most', 'przeprowadził', 'pomożesz', 'Opuścić', 'były', 'Koreę', 'Marię', 'sumienny', 'Zabił', 'schowane', 'poinformowany', 'Pociąg', 'schudnąć', 'rację', 'nienormalni', 'historię', 'długą', 'bladą', 'wypogodzi', 'niecierpliwy', 'unikać', 'prysznica', 'skończyło', 'zarażony', 'imprezuje', 'Dlatego', 'Ładnie', 'Nauczysz', 'Light', 'starym', 'Mówiłem', 'dobrą', 'startu', 'nareperować', 'możemy', 'więzienia', 'nieustraszeni', 'Poddaliśmy', 'Rozwiąż', 'poradzić', 'Przytulił', 'projektuje', 'krzesło', 'Wystarczy', 'Cudownie', 'nieprawdaż', 'stworzyliśmy', 'Oglądasz', 'Chciałeś', 'podczas', '.', 'zbierać', 'patrz', 'własną', 'widzieliśmy', 'bądź', 'tamten', 'popełniamy', 'ciekawie', 'Wykonaj', 'chuligan', 'strychu', 'tygrysy', 'hobby', 'smutno', 'Ostrzeż', 'ambicji', 'czegoś', 'apodyktyczny', 'Cieszą', 'powietrza', 'Palenie', 'chory', 'parę', 'niewinnym', 'Śpiewaj', 'Żyje', 'Tamte', 'potknął', 'zaprzeczyć', 'Byłam', 'Powinni', 'zagadka', 'zajrzał', 'działania', 'Zapomniałem', 'naćpany', 'Znasz', 'pamiętnik', 'luzakiem', 'spytać', 'bzdur', 'poczuł', 'wrażliwy', 'Słyszałeś', 'Przerwa', 'owi', 'Porozmawiajmy', 'pogadać', 'skarpetek', 'emocjonalnie', 'wstrząsające', 'posłuchajcie', 'siódmej', 'pracowałem', 'Postaraj', 'zapłacę', 'Oglądam', 'radio', 'rozczarowany', 'kurczak', 'Prawię', 'klamkę', 'wysportowany', 'przegrywać', 'Dostali', 'niepotrzebny', 'złamana', 'wygrał', 'przeczytam', 'Głodują', 'ożenię', 'Jaki', 'zawiodłem', 'Poniosłam', 'Czytałam', 'trawa', 'Wiemy', 'usiadła', 'szóstej', 'książkę', 'umrę', 'bezpośrednia', 'twojego', 'jedną', 'człowiek', 'sen', 'Siadaj', 'wrócę', 'Dziewczyna', 'złapać', 'Zmieniamy', 'skradł', 'Wyśmiał', 'dostałem', 'Słyszałem', 'prawa', 'go', 'egzamin', 'tom', 'Wszystkim', 'czujny', 'zadziała', 'Popytam', 'chwilkę', 'zachował', 'rak', 'Nauczyłem', 'Przespałem', 'topi', 'francusku', 'gadami', 'kawalerami', 'kluczyki', 'dostałeś', 'bezrobotny', 'Posprzątajmy', 'udowodnić', 'świeże', 'Zapamiętać', 'złym', 'Podrap', 'kochali', 'suczka', 'zmęczył', 'spóźnieni', 'samotną', 'Biegnie', 'robią', 'trujące', 'UFO', 'dalszym', 'matematykę', 'naczynia', 'Próbowałem', 'denerwujący', 'kuchenny', 'usiadł', 'nieuchwytny', 'tchórzami', 'użądliła', 'Wyjedziemy', 'Taki', 'wychodzimy', 'chińską', 'wylądowaliśmy', 'myśli', 'tęskni', 'mniej', 'godne', 'Próbowaliśmy', 'Pokazałem', 'dziecko', 'pocztowa', 'eksperta', 'Zastanawiam', 'fotograficzny', 'Czyje', 'Zadzwonił', 'nazywa', 'przerażająco', 'przerasta', 'skrupulatny', 'Zabierz', 'ból', 'Pieczemy', 'Poszedł', 'zmęczoną', 'Nazywam', 'egoistą', 'Prowadzę', 'próbował', 'obraz', 'Sprawiedliwość', 'pięknie', 'wakacje', 'przyjdziesz', 'przerażające', 'tęsknić', 'czwartej', 'drzemka', 'dowodów', 'śniadanie', 'zdanie', 'zaśmiał', 'Zobaczymy', 'Rozpoczęliśmy', 'pustelnikiem', 'Spaliłem', 'przy', 'strata', 'Facebooku', 'Kiepsko', 'artysta', 'problemem', 'byłem', 'piękne', 'wybuchy', 'doświadczenia', 'Zejdź', 'córki', 'wolnego', 'szare', 'Spowodowałeś', 'Kruk', 'zobacz', 'podróżujesz', 'dziećmi', 'wegetarianką', 'nieprzytomna', 'program', 'Trumna', 'nóg', 'Powiem', 'bliski', 'portmonetkę', 'zdarza', 'potrwa', 'przestaje', 'cierpliwości', 'przyczynił', 'znak', 'Zająłem', 'dba', 'kogoś', 'czarnego', 'godziny', 'gotówkę', 'Marzenia', 'nękany', 'smakuje', 'kichnął', 'również', 'śnieg', 'Dzwoniłaś', 'u', 'angielskiego', 'Co', 'hot-dogi', 'Przyjął', 'wytarł', 'pszczoły', 'życia', 'siwy', 'Kto', 'zadowolonego', 'podskoczyć', 'Krwawisz', 'przyjęcia', 'skłamałam', 'Opowiedział', 'wpuść', 'opuszczę', 'posłuchał', 'chiński', 'bezsilna', 'przekonywania', 'negocjować', 'nim', 'potrzebował', 'przesadzaj', 'diamenty', 'prowadził', 'Powinniśmy', 'blondynką', 'przejechał', 'pewny', 'Zamknąłem', 'niezdecydowany', 'Kryć', 'robiłaś', 'pocałować', 'Skręć', 'zwariowaliśmy', 'wtorek', 'środka', 'znaczki', 'osobą', 'napisała', 'aparaty', 'Zapytaj', 'podrapał', 'film', 'zapaliło', 'odkrycie', 'Piwo', 'szpiegiem', 'zaufałeś', 'sapał', 'zawiedziony', 'Zgubili', 'nieciekawy', 'blady', 'nadzieję', 'Robisz', 'momencie', 'prawdziwa', 'Pomyślę', 'całkowitą', 'Pomogę', 'ciągnij', 'zapałkę', 'tarapatach', 'Brzydzę', 'wesel', 'odpisała', 'karany', 'Zapisałem', 'jechać', 'zabije', 'szalona', 'Zgadnij', 'Wszystko', 'myliłem', 'Posmakuj', 'wychowana', 'modna', 'Kontynuuj', 'Wyślij', 'skrzywdzić', 'Przyjmuję', 'jałmużny', 'maila', 'Usiedzieć', 'pijany', 'Panią', 'zaczekali', 'rybki', 'zielony', 'listę', 'jednego', 'zaproszeni', 'przekonujący', 'wzruszył', 'Były', 'nadeszła', 'Opisz', 'autobus', 'Bezpiecznej', 'Przytul', 'Zawiąż', 'nabrać', 'brzydka', 'następny', 'Potknęłam', 'Dołączę', 'Poproś', 'jednej', 'kołysał', 'gały', 'Podobasz', 'pracą', 'Jego', 'naprawić', 'krzycz', 'piłkarzem', 'jadłem', 'Wybacz', 'pracuje', 'myślał', 'hamulce', 'humorze', 'Zignoruj', 'Zamknął', 'Wierzysz', 'pilne', 'pójdę', 'Mieszkasz', 'nieczuły', 'alergię', 'Spieszymy', 'usłyszałeś', 'lazanię', 'palić', 'czkawkę', 'wycieczkę', 'samolot', 'Nucisz', 'ładna', 'kobiety', 'poczekaliśmy', '$200', 'kolacji', 'wściekł', 'napisał', 'zostaje', 'kochaliśmy', 'tę', 'różę', 'Zostawić', 'pierwsza', 'poszli', 'kapelusz', 'artystami', 'Rzymie', 'wynająć', 'zamęt', 'widzieli', 'zmarszczył', 'szachach', 'popularne', 'użyciu', 'masz', 'Jesteśmy', 'chodziło', 'zazdrosna', 'zbyt', 'stłukł', 'Przetłumacz', 'broni', 'Odpuszczę', 'wegetarianinem', 'zagrożone', 'to', 'Cieszę', 'ostrożni', 'panem', 'arytmetykę', 'uznany', 'komputerów', 'chłopiec', 'parku', 'poznać', 'słoneczniki', 'emocje', 'Keep', 'Wiele', 'Dał', 'pełen', 'pomylił', 'uważał', 'potrzebujemy', 'graniczy', 'Mieliśmy', 'tajemnicę', 'Zwariowałeś', 'wcześniej', 'Widzieliśmy', 'podskoczyli', 'mogłaś', 'Zaczekałem', 'grzankę', 'mam', 'Ze', 'zdezorientowany', 'przyprawia', 'bejsbola', 'Uwielbiamy', 'Podnieś', 'Przestała', 'Brzmi', 'uprzejmy', 'Wczoraj', 'Zasalutował', 'zrobiłem', 'wąż', 'zabiłeś', 'niewidomy', 'dziewięć', 'Skończ', 'Można', 'czyta', 'środek', 'zawołać', 'nauczyciel', 'żona', 'pepla', 'zajmę', 'sweter', 'Wracam', 'Tęskniliśmy', 'miód', 'spodziewałem', 'sprzeczać', 'nowych', 'Wchodzę', 'sonatę', 'ręce', 'obiad', 'nieśmiały', 'Kochamy', 'Ależ', 'Wezwij', 'uwierzysz', 'reguł', 'Doceniam', 'podlać', 'staro', 'sprzedam', 'Lubi', 'stronę', 'Wyczuwam', 'Znów', 'Tom', 'zaangażowany', 'książkowym', 'normalni', 'jajka', 'snów', 'zostawić', 'pokaże', 'jakąś', 'wytrzeszczać', 'wokoło', 'przytulić', 'Naciśnij', 'Zaczekaj', 'Prawdopodobnie', 'ramię', 'Kupię', 'pociągnęła', 'wujkiem', 'mógł', 'Planuję', 'Chętnie', 'oba', 'Tato', 'na', 'zdolności', 'Rzucam', 'smoki', 'walizki', 'Przyjechał', 'racjonalni', 'szurnięty', 'Zakładam', 'Sama', 'wścibski', 'rozchodzą', 'zapity', 'klucz', 'Uśmiechnęli', 'ładni', 'broń', 'głęboko', 'polityka', 'powstrzymać', 'paliłam', 'Miała', 'emerytem', 'wymęczonych', 'Wielkanocnych', 'istnieje', 'Będę', 'obie', 'Ta', 'przepustkę', 'Bóg', 'optymistą', 'kretynami', 'miłe', 'wkurzony', 'Zostań', 'Samochody', 'czynsz', 'Spróbuj', 'jego', 'niemowlę', 'ludźmi', 'Szanuję', 'pociągu', 'zakochani', 'czekać', 'jeżeli', 'pomóż', 'Wesołych', 'wracam', 'Kolekcjonuję', 'Wyłącz', 'flecie', 'kawał', 'obłąkany', 'Wszedł', 'dojrzałe', 'Widzałem', 'Poszło', 'tchórzem', 'Okradziono', 'każda', 'patrzy', 'Musiałem', 'przeprosił', 'zabijaj', 'trawy', 'Schowaj', 'zaśpiewaj', 'ty', 'szalik', 'zęby', 'rasistą', 'Staraj', 'osądzał', 'ryba', 'wirus', 'Zabiję', 'Spróbuję', 'pokazać', 'Powtórzymy', 'ranić', 'rań', 'widzę', 'Obudź', 'Przemyślałem', 'bezrobotna', 'Poczekam', 'grzech', 'robota', 'Uczy', 'Sprzedał', 'przytulił', 'schowani', 'oszukany', 'bezpieczna', 'jaja', 'zmęczonego', 'lekarzem', 'składek', 'powrotem', 'Zapłacę', 'Dokonałem', 'zmanipulowany', 'godny', 'Zachowaj', 'śpiewają', 'przypadkiem', 'wierzysz', 'jest', 'pański', 'Znajdę', 'Czułam', 'Oddycha', 'nade', 'niedopatrzenie', 'palił', 'jedzą', 'móc', 'odpowie', 'oczach', 'wierzę', 'ostryg', 'Nacisnąłem', 'nienawidzą', 'leczenia', 'poprawna', 'powinien', 'mordercą', 'Przybyliśmy', 'Przedłużyłem', 'mów', 'znaleźli', 'chodzi', 'wkrótce', 'Pojmać', 'Późno', 'przeszkadzał', 'zmierza', 'brwi', 'Spojrzałem', 'poparzeń', 'Przeszedłem', 'Obsługa', 'żyjesz', 'użyć', 'Spotkanie', 'wiewiórka', 'brokułów', 'Zielony', 'zawracać', 'Kontynuowałem', 'uśmiechnęli', 'otworzyć', 'Ameryka', 'Śledź', 'fasolę', 'ambicję', 'ostrożności', 'Myliliśmy', 'durniem', 'niezwykły', 'klęskę', 'przejmujesz', 'jesteśmy', 'zabrał', 'ubierzesz', 'Mam', 'odwagi', 'dłoń', 'toaleta', 'Napijmy', 'Patrzyła', 'łowienie', 'ożeniłem', 'śledzeni', 'Zasnęłam', 'głupi', 'Otworzyłam', 'jedzenia', 'Jeżdżę', 'Utknąłem', 'zaprzała', 'Naprawiłem', 'kwaśny', 'przemówienie', 'Usunąłem', 'muszą', 'zmotywowany', 'stoi', 'Ugotuję', 'kanapie', 'dalej', 'spróbował', 'szlaban', 'uważasz', 'świat', 'niespodzianki', 'ci', 'Czym', 'Nigdy', 'ambitny', 'dostać', 'urlop', 'Udobruchaj', 'prawdę', 'głodu', 'Japończykiem', 'wejdzie', 'zemdlałem', 'em', 'zaczniemy', 'klasie', 'Spadaj', 'niezły', 'okazji', 'Wykąpałeś', 'Uderzyłem', 'życzenie', 'Powiedz', 'spieszę', 'Znalazłam', 'jeździć', 'Złamałeś', 'wiadomości', 'powiesz', 'puzzle', 'nam', 'pamięć', 'zmarł', 'gaz', 'najlepiej', 'zwolniony', 'Zapłacili', 'Przeczytałaś', 'drogą', 'zdecydował', 'popełnia', 'same', 'ważne', 'zmęczyły', 'czego', 'Nienawiść', 'zna', 'wiwatował', 'zeszłym', 'Telewizor', 'wpół', 'ciszę', 'skrajny', 'Tomka', 'bije', 'Tylko', 'okrągłe', 'Stare', 'zemdleli', 'idzie', 'czekoladę', 'łapie', 'Zatrzymaj', 'pragnienie', 'głodna', 'zdjęcia', 'okropna', 'pocałuje', 'Patrz', 'Zostanę', 'nadziei', 'nieprzyjazny', 'niemożliwe', 'Chcesz', 'białego', 'Ręce', 'Przegrałam', 'miejscu', 'przyszłość', 'dania', 'Pójdę', 'podwórko', 'namiocie', 'zrezygnował', 'problemu', 'Przejdźmy', 'zaczęłyście', 'dotarłem', 'piją', 'Czy', 'dużym', 'Uśmiechaj', 'Jeśli', 'pociągi', 'miejsce', 'niewiarygodny', 'uparty', 'wymagający', 'Skończyliście', 'medal', 'weekend', 'dzwon', 'Poprosiłem', 'nielogiczne', 'zwracaj', 'troszczy', 'Jabłka', 'koszmarny', 'Hamleta', 'Kolacja', 'Zbliż', 'programistą', 'zdradziłem', 'samolotem', 'słabym', 'ekskomunikowany', 'tutaj', 'istnieją', 'gryzą', 'Ufaliśmy', 'Toma', 'biblioteki', 'potrafię', 'wchodź', 'umieć', 'Tyję', 'Raz', 'czyste', 'ostrygi', 'ugryźć', 'bibliotece', 'kimś', 'radę', 'czapka', 'Rozjaśnić', 'Byłeś', 'umie', 'zaufania', 'komentarza', 'moi', 'powinienem', 'słuchać', 'Skok', 'inteligentne', 'Potrafię', 'zaufanie', 'włączone', 'tu', 'romantyczny', 'zaraźliwe', 'Kanadyjczykami', 'sejf', 'wiek', 'zwycięży', 'wysokości', 'współpracował', 'łóżka', 'schludny', 'spodobało', 'Liczy', 'maskę', 'Dołącz', 'umył', 'zamieszanie', 'Patrzyłem', 'Padał', 'ojcem', 'Nudzi', 'duży', 'Pocałuj', 'raz', 'gorzej', 'umierał', 'mile', 'pielęgniarką', 'obudził', 'zapłaciłaś', 'Trenuję', 'Potrzebujemy', 'poczekali', 'zwolniono', 'ona', 'Przyjrzyj', 'przygotowani', 'zatrważające', 'pilnuje', 'telefonu', 'robotęTomowi', 'zawiesił', 'nauczyłem', 'ufamy', 'przychody', 'Trucizna', 'wiemy', 'pochylił', 'samolubne', 'Znowu', 'zasada', 'Przyjechałem', 'polowanie', 'czekamy', 'nastawienie', 'Widziałem', 'sławny', 'Rosjanami', 'zostawił', 'pochmurno', 'tańczył', 'Gotuję', 'Odejdę', 'Wywołał', 'Wziął', 'zaniepokojony', 'I', 'whiskey', 'przemowa', 'Okno', 'klnij', 'Śmiali', 'winien', 'Zgaś', 'biedny', 'dziwni', 'Tamto', 'około', 'zastrzyk', 'okropnym', 'zabiliśmy', 'widział', 'moich', 'turystą', 'powie', 'piechotą', 'zegary', 'czysty', 'uszy', 'nasze', 'wyglądał', 'Szerokiej', 'Dotknij', 'Akceptuję', 'pomógł', 'rozsądny', 'plecaku', 'Wskazała', 'oboje', 'królowa', 'daltonistami', 'przeszkadzało', 'otwierają', 'uważa', 'położenie', 'spust', 'bank', 'mogą', 'Klątwa', 'Ojciec', 'rosną', 'wydostał', 'Był', 'morza', 'studiujesz', 'aniołem', 'Serce', 'socjalu', 'Pojechał', 'szkoda', 'walcz', 'kończy', 'najlepszym', 'bezmyślny', 'chlew', 'Spóźniłem', 'nieubezpieczony', 'odkrycia', 'pięć', 'martw', 'zrobiony', 'pomylić', 'pobiłem', 'mama', 'Zmykać', 'cena', 'imię', 'idiotą', 'domach', 'Wierzą', 'Stara', 'Mówcie', 'torbę', 'kokos', 'kreatywny', 'kierownicą', 'pamięta', 'Nawet', 'przyszli', 'zębami', 'mebli', 'irytujący', 'ruch', 'zaprosił', 'ciebie', 'nauczycielami', 'Zostałem', 'ostry', 'płakał', 'Straciła', 'Bawełna', 'składają', 'przepis', 'nigdy', 'pracuj', 'zaproszenie', 'słodki', 'Wisisz', 'wychodzą', 'hazard', 'róże', 'samotna', 'uroczo', 'Przeszkodziliśmy', 'Nam', 'niegrzeczny', 'Pisz', 'weseli', 'mija', 'facet', 'winnego', 'Śmiało', 'pieniądze', 'pogoda', 'Jemy', 'wszystkimi', 'Zadziałała', 'Ostatecznie', 'Pijesz', 'Kiedy', 'polegać', 'wstrętny', 'Byli', 'wstałem', 'Oddaj', 'wyjęty', 'nienawidziliśmy', 'gwiazdę', 'twoje', 'Przewróć', 'idź', 'lodu', 'Popyt', 'Wydajesz', 'Odmawiam', 'szefa', 'pudełka', 'bawiłem', 'ładnie', 'chłopcze', 'Zmiany', 'drewno', 'przygody', 'asystował', 'niezniechęcony', 'słodko', 'pytania', 'głodni', 'zgadywać', 'Krzyczeli', 'widelca', 'ser', 'mięczak', 'rower', 'Atak', 'zupa', 'zaufaj', 'włoską', 'język', 'Zakłopotanie', 'Posłuchaj', 'Witamy', 'zgodzili', 'Przejmujesz', 'zakład', 'długo', 'musiał', 'panikował', 'Pudełko', 'podróży', 'garażu', 'Spałem', 'swoim', 'Dzisiaj', 'tysiące', 'Dobry', 'Wstydzisz', 'Mają', 'rozumiesz', 'twoją', 'zimną', 'linii', 'Usłyszał', 'zwierzęta', 'Mury', 'Zrobimy', 'nerwowy', 'wódkę', 'Przeczytaj', 'wsiadł', 'Niedoceniłam', 'sprzedają', 'płacze', 'pomysł', 'nieetyczny', 'Rzuć', 'niedaleko', 'biednym', 'sportowe', 'zachorował', 'towarzyszył', 'krzyczeć', 'dotknął', 'wężami', 'Idziemy', 'fajnym', 'potrącony', 'syna', 'dobre', 'Opór', 'bilet', 'Jeden', 'Rozmawialiśmy', 'pełny', 'klucza', 'Biorę', 'braćmi', 'wyznał', 'okłamywać', 'Zatrzymałem', 'Słyszę', 'niezadowolony', 'Użyj', 'winić', 'należy', 'stół', 'Zjadłbym', 'nieprawdopodobne', '105', 'potrafi', 'podobni', 'sfrustrowany', 'Pokłócili', 'Dołączysz', 'jak', 'seksowna', 'Przyprowadź', 'sposób', 'geniuszem', 'szczęśliwa', 'punktualny', 'Również', 'Doprowadziłem', 'Powiedziały', 'prasowania', 'Wezwał', 'stołem', 'sekundę', 'winy', 'romantyczne', 'złamał', 'Chciałam', 'szeroko', 'zmieni', 'Wieloryb', 'autem', 'racjonalny', 'Powód', 'ustach', 'Przyszedłem', 'Niewiele', 'trudny', 'brunetki', 'normalny', 'niezastąpiony', 'sąsiedzku', 'Wypił', 'gorące', 'zostały', 'impulsywny', 'wspaniale', 'ogóle', 'Przeszkadza', 'przypadek', 'spalił', 'przeproś', 'pół', 'super', 'niezdrowe', 'Pracujesz', 'skończy', 'zostawi', 'zimna', 'jęknął', 'gulasz', 'pocić', 'głośną', 'suknia', 'radości', 'stare', 'tędy', 'prawdomówny', 'samolubnym', 'pokładzie', 'minęło', 'smutny', 'stać', 'Rzuciłem', 'bawić', 'żonaty', 'Jej', 'jakim', 'naprawdę', 'Odmówili', 'cukierki', 'śmieszny', 'Uśmiechnąłem', 'poszukuje', 'Zbankrutował', 'uda', 'łapiesz', 'wspierający', 'podpisz', 'powinnam', 'zniknął', 'Papier', 'treningu', 'odpowiesz', 'bzdura', 'Skończyła', 'Pozbędę', 'narzędzi', 'ćwiczyć', 'więcej', 'naszym', 'kłopoty', 'Potknąłem', 'Wróciłeś', 'maniakiem', 'młodszy', 'co', 'Gapiła', 'rozmawia', 'nią', 'zgodzimy', 'bratankiem', 'wystarczy', 'głosował', 'zawahał', 'Brzmisz', 'rocznicy', 'umiesz', 'zrobiłeś', 'puste', 'balsamu', 'pułapce', 'dotrzymuje', 'widzą', 'mój', 'Obserwuj', 'Przeczytajcie', 'Osiągnął', 'zabawna', 'dowie', 'mądrzejszy', 'ukończone', '25', 'nieszczery', 'domowe', 'zaprojektowałeś', 'francuski', 'gapić', 'diabeł', 'spokoju', 'cieszę', 'Możliwe', 'Przeciwieństwa', 'Większość', 'ziemię', 'wysoka', 'ja', 'zignorować', 'niedziela', 'pozwolić', 'byłeś', 'zabił', 'Studnia', 'poniedziałków', 'zawroty', 'kroku', 'wyjść', 'pobije', 'dziamdzia', 'jazz', 'wrócił', 'Robiłam', 'oportunistyczny', 'przykro', 'lata', 'kontrakt', 'przekąski', 'chrzestna', 'Boisz', 'zablokowani', 'prysznic', 'dwójkę', 'Też', 'przewodnikiem', 'gry', 'kanapkę', 'gady', 'Założę', 'zachichotał', 'troszczył', 'warzyw', 'pudełku', 'powinniśmy', 'zepsuta', 'skończyłeś', 'ludzi', 'kupiłaś', 'spał', 'Panie', 'złożony', 'przystanek', 'zaczął', 'pożyczyć', 'przychodzę', 'siedzi', 'kołaczy', 'Przeziębiłem', 'Nadeszła', 'modny', 'mówiłem', 'pomoże', 'nawalony', 'doktora', 'Ufała', 'utyj', 'Postoję', 'zadyszkę', 'Moi', 'pewna', 'przyjacielem', 'Przyjąłem', 'cel', 'Ej', 'wszyscy', 'spotkać', 'bawi', 'prochach', 'Wrony', 'Pomógł', 'nieostrożny', 'zobaczę', 'Rzym', 'Umiem', 'uciekaj', 'policzki', 'Uśmiech', 'pomyłka', 'uczucie', 'dżudo', 'narzekań', 'polować', 'zrujnował', 'systematyczny', 'brązowy', 'dawaj', 'śmierci', 'Czujesz', 'Pływam', 'serfowanie', 'kaszlać', 'środku', 'Na', 'postrzelony', 'Zacznijmy', 'zatrzymałeś', 'Mail', 'Potrzebowaliśmy', 'liczny', 'drutach', 'przyzna', 'Potrzebna', 'odchudza', 'niezmiernie', 'okulary', 'złożę', 'katar', 'walczyć', 'Studiuję', 'Otworzyła', 'nasza', 'Chciałbym', 'cudownie', 'zrobiliśmy', 'trzymać', 'tajemnic', 'żyć', 'doświadczenie', 'Szczerość', 'zawiązać', 'porozmawiać', 'Nasz', 'Gniewacie', 'okropni', 'Robicie', 'Wyzwałem', 'nożnej', 'trzech', 'odwodniony', 'jajko', 'przyprowadził', 'wiele', 'awans', 'kobieta', 'osobliwe', 'Cytryny', 'Ruszyliśmy', 'Jadłeś', 'wygodnie', 'tamtego', 'pisarzem', 'niesamowicie', 'odezwał', 'zmęczony', 'zraniłem', 'porabiasz', 'Przynajmniej', 'żyją', 'Plan', 'wiedzą', 'Poszłam', 'komiksy', 'sklep', 'Paliłeś', 'spotkaliśmy', 'fakt', 'przejmuj', 'Utrzymuj', 'straszne', 'rozgniewany', 'jesteście', 'Została', 'słowa', 'plotkarą', 'komicznie', 'Zrobiłbym', 'Cudowny', 'zacząłeś', 'kochałem', 'zatrzyma', 'spojrzeć', 'wiersze', 'Twój', 'Walczyli', 'podziwiała', 'abstynentem', 'Usiadł', 'zdezorientowaną', 'rękami', 'niezamężna', 'wasz', 'Często', 'ustąpię', 'bez', 'zła', 'randkuję', 'chorego', 'bezcelowe', 'opuścił', 'prawdziwe', 'Zatańcz', 'Taty', 'najpierw', 'niezawodny', 'pozwolę', 'Lubię', 'skontaktować', 'Wejdź', 'oczu', 'Spaprałeś', 'biurze', 'kupić', 'przebrał', 'przed', 'Poproszę', 'głodny', 'wpatrywaliśmy', 'mężczyzna', 'Tęskniłaś', 'lubiliśmy', 'mogło', 'pilotem', 'bolesne', 'odrażające', 'samochodu', 'czek', 'plany', 'Pokonałem', 'znaczenie', 'uciekał', 'wyjątkowy', 'znam', 'rozmowny', 'nerwowi', 'tropu', 'głowa', 'Uciszcie', 'praworęczny', 'fotograficznego', 'umarł', 'rąbię', 'Stoisz', 'malować', 'samochód', 'zrzucić', 'Spieszyłem', 'Zróbmy', 'dwie', 'sporty', 'służy', 'Cena', 'odchodź', 'odmówiłem', 'urodziłeś', 'Położył', 'porządny', 'praca', 'Skończyło', 'Czyja', 'wysoką', 'Przygotuj', 'wieści', 'Ptak', 'komarów', 'ignorowałem', 'Bez', 'siostrą', 'współlokator', 'pieniądzach', 'czytuję', 'Poeci', 'całkowicie', 'Zepsuło', 'Podpisywałaś', 'Próbujemy', 'Brad', 'gdzie', 'śpiewka', 'wdzięczni', 'lubił', 'nas', 'kaszlał', 'Odprowadziłem', 'Dziecko', 'tracę', 'śpię', 'wierzą', 'połamał', 'usiądziemy', 'Cały', 'znajduje', 'Jaka', 'synem', 'zatwierdza', 'sprzedajesz', 'pizzę', 'śmiechem', 'zostaniesz', 'śmieszne', 'Złamałem', 'projektantem', 'drzewo', 'Przyczyniasz', 'spodobał', 'koszula', 'miałem', 'oglądają', 'naiwna', 'opuszczony', 'zbudowaliśmy', 'najbardziej', 'zranił', 'możliwe', 'zaufać', 'wziął', 'ze', 'trawnik', 'Uderz', 'kłócić', 'nieznajomych', 'kasztanowe', 'szkoły', 'niezapomniany', 'Wyszła', 'prosto', 'leże', 'łodzi', 'samochodzie', 'imienia', 'czuje', 'naiwne', 'Umierasz', 'Zapłacisz', 'zdecydowany', 'Francuzem', 'skrzywdzi', 'Przybył', 'bratem', 'Szybko', 'los', 'rusza', 'dowiedziałem', 'tańczę', 'marnuj', 'mnie', 'ciężki', 'spać', 'książka', 'angielsku', 'rozjaśniło', 'Hej', 'Gniewa', 'Była', 'Sporo', 'swoich', 'skoncentrowanie', 'Chodźcie', 'Przesadzam', 'potrzebne', 'wysłuchał', 'toster', 'Zaczęło', 'Właściwie', 'przestań', 'typem', 'dokładnie', 'śmierdzi', 'zatrzymał', 'siłowni', 'sekret', 'sumienia', 'Pościel', 'iść', 'złapany', 'zniesienia', 'czapek', 'napiwek', 'stara', 'Żaden', 'Uspokój', 'zabawnie', 'zimno', 'niedziele', 'smutni', 'trudzisz', 'ostrożny', 'sądzę', 'ołówek', 'Zakryj', 'przereklamowany', 'coraz', 'policję', 'tyłu', 'jedzeniem', 'prawnikiem', 'fabryce', 'grać', 'Pocili', 'matce', 'kupię', 'hodowała', 'Mieszkałem', 'przesadziłem', 'chore', 'spokojne', 'Gardło', 'usprawiedliwienia', 'Zostałeś', 'lunchu', 'Witam', 'pomocą', 'wierzy', 'mowy', '20', 'powodem', 'opuszczaj', 'Zarażasz', 'przeżył', 'rządzisz', 'telewizję', 'zgadzam', 'Chodzę', 'gumę', 'Podniosła', 'kuzynów', 'Biegam', 'samurajem', 'licz', 'środa', 'Cześć', 'cukru', 'Ćwicz', 'oszczędności', 'Spowodowałem', 'Odwiozę', 'uwagę', 'trójkę', 'łódź', 'latać', 'błędy', 'parkuj', 'Zauważyłam', 'miotły', 'zapłaci', 'trudzić', 'serową', 'Okłamujesz', 'perukę', 'radia', 'gra', 'słyszę', 'spóźnić', 'ekscytujące', 'Śmierdzi', 'Mówił', 'odmówił', 'wstrząśnięty', 'kawy', 'działo', 'mówią', 'lalkę', 'jesteś', 'tobą', 'zaczęliście', 'pływa', 'rozlej', 'bezchmurne', 'porażkę', 'poddamy', 'przesądzony', 'imprezie', 'Łatwo', 'wiersz', 'raka', 'zamknięty', 'wyszłam', 'Norwegii', 'silniejszy', 'zależy', 'wiedzieć', 'Przesadziliśmy', 'popisywał', 'Oglądamy', 'Umrzecie', 'Rozpoznałam', 'znów', 'ostrzegałem', 'parasolka', 'Widzisz', 'zamężna', 'nowe', 'kapelusza', 'samotnym', 'mamie', 'wiesz', 'Spróbujmy', 'Według', 'budują', 'śmiej', 'ochrony', 'Upokarzaliśmy', 'windy', 'przychodzisz', 'zbił', 'przepraszaj', 'dał', 'uczulona', 'mężem', 'arkusze', 'chłopakami', 'dzieckiem', 'zimnego', 'Powinienem', 'mówić', 'cały', 'nieprawdziwa', 'sens', 'wieprzowiny', 'video', 'miły', 'ścielę', 'Codziennie', 'tenisistką', 'pospiesz', 'Pijcie', 'jem', 'wrażeniem', 'spostrzegawczy', 'nienawidzisz', 'płytki', 'oszukuje', 'wróciłem', 'klientem', 'Mówiliśmy', 'przyrodę', 'Miłych', 'Zrób', 'fotogeniczny', 'wpływowy', 'Chłopcy', 'Mięso', 'sprzedać', 'ciążę', 'Miałam', 'dobry', 'Uderzyła', 'Utknęliśmy', 'jakiś', 'zgubiliśmy', 'spojrzał', 'poddał', 'Tam', 'Niesamowity', 'Strzelaj', 'Wstawaj', 'puszcza', 'chwileczkę', 'miotłę', 'oglądajmy', 'Wiosna', 'Skończył', 'Postanowił', 'biegał', 'pilnie', 'sądu', 'przeciąłeś', 'sprawiedliwość', 'wiosny', 'przyprawiają', 'sklepu', 'przewidywalny', 'e-maila', 'test', 'Chciałby', 'uzyskać', 'pomarańczowy', 'Może', 'skacze', 'Skończmy', 'nowi', 'szafy', 'Zacząć', 'niespójny', 'przygnębiony', 'zabić', 'sprawdzi', 'dyplom', 'Rumienisz', 'rozsądek', 'pomysłem', 'przyjacielu', 'koło', 'Ufałem', 'wrażenie', 'wschód', 'Proszę', 'interesujące', 'Zdobyłeś', 'On', 'parasol', 'Stać', 'chciałem', 'ciekawe', 'kłamstwo', 'Przybywam', 'kurtki', '223-1374', 'ojca', 'protesty', 'piękny', 'znaleźliśmy', 'Drewno', 'przytuliłem', 'kuzyn', 'Zaczekasz', 'słyszy', 'pogody', 'niezwykłe', 'Podjęte', 'nieśmiałym', 'zwiedzić', 'fortunę', 'udawaj', 'Chwyć', 'taktowny', 'potwornie', 'Paryż', 'obserwowanie', 'Weźmy', 'perfekcyjnie', 'Czego', 'modlił', 'Schodzić', 'wypił', 'puka', 'Forda', 'nadpobudliwa', 'człekokształtne', 'zaczęłam', 'przyszła', 'kiedy', 'drużyna', 'Reszty', 'Pan', 'Wyjdźmy', 'Szanuj', 'wstecz', 'jeść', 'talent', 'Skąd', 'Austriakiem', 'dotarł', 'obolały', 'wiedzieliśmy', 'wzruszony', 'otrzyma', 'Dużo', 'niewyraźny', 'zapłaciłeś', 'Nadjeżdża', 'Przejąć', 'Niebo', 'wyciszyła', 'Wydaj', 'okropną', 'powiedziałem', 'taki', 'bliskim', 'Naprawdę', 'zdechło', 'powietrzu', 'profesorami', 'Pies', 'Tobą', 'Deszczowo', 'trzeciej', 'kiełbasę', 'Trzymaj', 'mu', 'takie', 'samochody', 'słońce', 'niezbędny', 'jezioro', 'Uruchomić', 'Unikamy', 'brakować', 'Wiedzą', 'nieżywy', 'uczniem', 'żonatym', 'wysoko', 'Biegł', 'prostu', 'nieprzytomni', 'Trzasnęła', 'Wierzymy', 'gola', 'Świetny', 'następne', 'zatańczyć', 'zawiódł', 'Musimy', 'wiatr', 'znaczenia', 'Cykady', 'Wyjeżdżamy', 'możecie', 'Przegrasz', 'chińsku', 'wdzięczny', 'zaraz', 'ubrany', 'barbarzyńcą', 'Padało', 'usiądź', 'jaskiniach', 'ryzykowna', 'niewyspana', '_END_', 'pokoje', 'wysiłki', 'Zużyła', 'kochała', 'dzwonił', 'Zatrzymał', 'dobrym', 'zaczekał', 'nareszcie', 'hoduje', 'zapisany', 'wyjdzie', 'analfabetą', 'Miały', 'używasz', 'Spodobałaś', 'Skłamał', 'Tottori', 'poczerwieniały', 'poszukaj', 'Staraliśmy', 'prezent', 'O', 'lekarza', 'Zwalnia', 'okrąg', 'mówię', 'melony', 'czerwona', 'Oszukujesz', 'odwołać', 'Uważam', 'dowodzić', 'nauczyć', 'Golę', 'Przesadziłem', 'Krok', 'mrugnął', 'dowcipy', 'śpiewam', 'popcorn', 'Podobał', 'Włosy', 'Muszę', 'pianinie', 'drzemał', 'temperaturę', 'zwalczyć', 'wannie', 'płacę', 'uziemiony', 'zjadłem', 'precyzyjny', 'przeziębiony', 'Poniosłem', 'spałem', 'cudowne', 'Przykro', 'ptaka', 'wyszli', 'starałem', 'widziałeś', 'przesadzać', 'Od', 'Złamałaś', 'wyścig', 'kupy', 'żywego', 'MP3', 'Nic', 'niespodzianka', 'Oczekujemy', 'Posprzątaj', 'popatrzyli', 'Ukłoniłem', 'Złap', 'wiosna', 'wątpię', 'wazon', 'samą', 'zielona', 'normalne', 'znać', 'A', 'poszłam', 'Zgubiła', 'Noszę', 'zdumiewająco', 'kubek', 'Oglądaj', 'mocno', 'uzależniony', 'zabici', 'śmiertelni', 'skończyłem', '8:30', 'Pamiętasz', 'zastrzeliłem', 'przewrócić', 'podejrzany', 'dzieciaki', 'pocałuję', 'uspokoić', 'rodzina', 'Oczy', 'oklaskiwany', 'bitwę', 'kochał', 'Zaczekam', 'spódnica', 'szóstą', 'czerwoną', 'Miłej', 'dziwakami', 'próbować', 'wypiłeś', 'Zaproponowałem', 'skłamała', 'używam', 'bym', 'wykwalifikowany', 'Czyim', 'cokolwiek', 'życz', '58', 'uciec', 'szczęście', 'but', 'sceptycznego', 'lotnisku', 'usprawiedliwienie', 'Chowają', 'kieszonkowców', 'krzyczeli', 'Nieważne', 'meduzy', 'dewotem', 'Są', 'punktualność', 'Przenieś', 'oszustwo', 'zabrać', '2:30', 'Próbuję', 'Walka', 'bądźcie', 'przerywaj', 'bezpieczni', 'Jemu', 'Książka', 'operacji', 'Pada', 'zgadzają', 'odpowiedzialny', 'zgubić', 'cudny', 'emocji', 'zaczęły', 'pokonałem', 'Udało', 'morzu', 'przestał', 'Zatemperuj', 'strony', 'powąchaj', 'łowić', '\"nie\"', 'odleciał', 'Tomek', 'Życzę', 'aktorem', 'detektywem', 'blisko', 'w', 'Australia', 'Zróbcie', 'Miałem', 'długopisu', 'Wyjeżdżam', 'czekają', 'Serwer', 'twardy', 'stał', 'Poczytaj', 'Czuję', 'obiektywny', 'zamierzasz', 'Potrzebuje', 'zrozumieć', 'śni', 'Niektóre', 'drogo', 'Bawiłem', 'brudny', 'włosy', 'Syberii', 'dupie', 'glinami', 'Usłyszała', 'rękaw', 'Zachowałem', 'starzy', 'Słońca', 'Wezwałem', 'grubo', 'częściowo', 'sąsiadem', 'prywatności', 'nago', 'mieszkanie', 'oni', 'wzgórze', 'walczył', 'Gorzko', 'wzdrygnął', 'dzieje', 'pojawił', 'Jadę', 'miał', 'Bądźmy', 'Krew', 'Zawołajcie', 'lodowato', 'głupio', 'zamieszania', 'Uciekli', 'różni', 'siostra', 'nieprawdopodobny', 'termin', 'wyzdrowiał', 'lisa', 'Gramy', 'Ufam', 'robisz', 'odrobinę', 'odsunąć', 'szanowałem', 'zjeść', 'rugby', 'Więc', 'wybredny', 'windsurfing', 'pociągać', 'okłamał', 'Czemu', 'przybliżyć', 'jasny', 'endy', 'płytę', 'bezradny', 'Zjadłem', 'Obserwowałem', 'Wskakuj', 'tanie', 'niewielu', 'wagę', 'pracujesz', 'sprawdziłem', 'Bostonu', 'Ugoruj', 'Kochaj', 'Zawsze', 'wina', 'Och', 'Zdejmij', 'Wielkie', 'trawę', 'uważnie', 'Wyłaź', 'fajny', 'Wydaje', 'komputera', 'Zjedz', 'pobiliśmy', 'przyjdzie', 'udało', 'kupę', 'swoją', 'znoszą', 'urlopie', 'zrozumiałem', 'winogrona', 'gwiazdy', 'Przewidziałem', 'odważny', 'wolny', 'robi', 'dotknąć', 'krowy', 'długa', 'wykończony', 'Odsuń', 'Zmieniłam', 'uporać', 'zastawić', 'pięciu', 'wstydliwy', 'schodach', 'oszałamiająco', 'Myślałem', 'równowagę', 'ukradł', 'poślubię', 'przyjechał', '7', 'chętnie', 'Odpoczywam', 'doskonały', 'ciszej', 'żyje', 'Ryby', 'niepewne', 'przesadza', 'morską', 'spróbować', 'zobaczenia', 'materialistyczny', 'Spaliśmy', 'rachunek', 'chodzić', 'sprzedawcą', 'Popełniłeś', 'wielkie', 'nadwagę', 'Powąchaj', 'poruszony', 'Odpowiedź', 'łatwa', 'całej', 'Przestań', 'Nadchodzę', 'ptak', 'dobrego', 'wadze', 'Śnieg', 'zamordowani', 'przemocą', 'Widownia', 'poszła', 'Zastanawiałem', 'komputerowe', 'one', 'trwało', 'takiego', 'Piszę', 'zainteresowało', 'Zostańcie', 'brazylijką', 'skrzypce', 'małżeństwem', 'Zegarki', 'pomachał', 'adwokat', 'obchodzić', 'zamachał', 'odpowiadać', 'absorbuje', 'zakończenia', 'cichą', 'Twoja', 'nieprawda', 'zgłasza', 'mi”', 'bezstronny', 'sąsiada', 'mylicie', 'wołałeś', 'aktywnym', 'uderz', 'Pogniewał', 'wyspowiadał', 'studiować', 'pracowity', 'blada', 'suchy', 'Przekonałeś', 'zupełnie', 'mojego', 'honorowy', 'koloru', 'przeraża', 'młody', 'rozpraszajmy', 'Pozwolę', 'dwór', 'słuchaj', 'Czas', 'płynął', 'częsty', 'Niemłody', 'siostrę', 'wróciła', 'sprytna', 'pracują', 'Być', 'udała', 'bolą', 'trochę', 'władczy', 'niespodzianek', 'czerwone', 'cierpliwy', 'siostrami', 'Niedobrze', 'jeździ', 'bilety', 'widzieć', 'Wiem', 'Słońce', 'spawdzić', 'bezpiecznie', 'właściwie', 'nóż', 'koszykówkę', 'Zamówił', 'wiadomość', 'głupcze', 'piosenkę', 'Jakie', 'wypij', 'gadaj', 'pani', 'nawyki', 'Spłonie', 'pan', '€100', 'bawię', 'Przewróciłem', 'łóżku', 'Boli', 'Głośniej', 'Oszczędź', 'narzeczony', 'Zgubił', 'denerwuj', 'słodycze', 'niepokonany', 'Spał', 'Plotka', 'potem', 'błędzie', 'mąż', 'deszczu', 'słownik', 'Bacha', 'Stań', 'wycieczka', 'ciasto', 'zorganizowany', 'bałagan', 'Pociemniało', 'U', 'Zostańmy', 'żałuję', 'Podobno', 'deszczowa', 'poniedziałek', 'liczyć', 'Upiekła', 'młodzi', 'dziesiątej', 'rybach', 'Czasami', 'kopię', 'do', 'rozpłakałem', 'wnikliwy', 'Zmienił', 'wieku', 'oglądam', 'czy', 'psychicznie', 'potrzebuje', 'robieniu', 'panowała', 'bezpłatne', 'Zacznij', 'Czujemy', 'zakłopotany', 'Robi', 'wzajemnie', 'piekarnia', 'Wyskoczył', 'Zmopujmy', 'biurko', 'Zarobiony', 'dobrze', 'wielki', 'pospieszył', 'mogę', 'pudło', 'wiwatowali', 'Tęsknię', 'zdechł', 'wygłosił', 'narzekać', 'błogosławiony', 'omówiliśmy', 'piechotę', 'nauczyciela', 'nudny', 'obija', 'ulepszone', 'koncert', 'złodziejem', 'nonszalancki', 'zgadzasz', 'uśmiechał', 'Osusz', 'Ożenił', 'swją', 'zapłacił', 'dołączył', 'Człowiek', 'Spotkaliśmy', 'drzew', 'Śpię', 'chłopaka', 'ostre', 'zaspał', 'dom', 'Stosujesz', 'Tego', 'rękach', 'Cierpliwości', 'mówiłeś', 'proste', 'posiadam', 'witaminy', 'chciwy', 'wyraźnie', 'książek', 'lękajcie', 'odprężony', 'przykry', 'naszego', 'numer', 'Przeżyję', 'zacznie', 'planu', 'mokry', 'dostępu', 'Byłyście', 'zwymiotować', 'śpiącego', 'Mars', 'Usiądź', 'rozwiedziony', 'Opuść', 'gdziekolwiek', 'zabronione', 'bić', 'uciekła', 'daleko', 'czasie', 'Tata', 'okna', 'Mówi', 'Wrócę', 'mieli', 'Tęskni', 'przeznaczeniem', 'Przebacz', 'Szukać', 'bezpieczniejsze', 'Świąt', 'Brakuje', 'Chciałem', 'Uczę', 'urodził', 'posprzątasz', 'gorzko', 'Dostosuj', 'podpiszę', 'argumentacja', 'Podjąć', 'ustalić', 'rozsądne', 'wstaje', 'falsyfikat', 'Przebadaj', 'uszczęśliwia', 'Poszedłem', 'skupić', 'potrafisz', 'improwizował', 'smuć', 'mogli', 'Kupił', 'ciężej', 'oświadczył', 'cofnij', 'zemdleć', 'taka', 'długopis', 'kocham', 'naprzód', 'pytałeś', 'wysoki', 'nieomylny', 'Zapamiętaj', 'asystować', 'dlatego', 'ruletka', 'zadowolona', 'umierający', 'Pozwól', 'Przyjść', 'Obaj', 'odzywali', 'dzierga', 'jasne', 'kosztują', 'Zacząłem', 'hipokryzji', 'wyluzowany', 'Został', 'suche', 'zróbmy', 'księżyce', 'Wygraliśmy', './Nie', 'bardzo', 'gryzie', 'Odejdź', 'płot', 'rodzinie', 'oburzający', 'Potrzebuję', 'spić', 'zastąpić', 'Muszą', 'Odbiło', 'łóżko', 'aresztowani', 'Rosji', 'krawat', 'mieszkania', 'inni', 'rodziny', 'zakochany', 'Uratuj', 'separacji', 'Tracisz', 'bliźniaka', 'Ok', 'żartowaliśmy', 'legalne', 'wieczorem', 'ideałem', 'trzeźwy', 'Oddajcie', 'niewygodnie', 'Chodźmy', 'Zawiodłem', 'łatwy', 'Robimy', 'nieuczciwe', 'zerknął', 'umrzeć', 'zegarka', 'Zastrzelę', 'wąsy', 'Poluzowałeś', 'stole', 'narysował', 'napić', 'wskazówek', 'Napełnij', 'wyczerpany', 'szykować', 'dowiedzieć', 'zmarła', 'Bardzo', 'kreatywni', 'wasza', 'głupia', 'auta', 'dzwoniłeś', 'bezpośredni', 'Zaśpiewaj', 'boję', 'Sprowokowałem', 'Dzień', 'Spieszę', 'sól', 'niedługo', 'mamą', 'kiedykolwiek', 'Zjadła', 'Małpy', 'skłamałeś', 'Przynieś', 'coś', '13', 'odpowiada', 'Dalej', 'zmęczonych', 'spieprz', 'tęsknię', 'wcale', 'zepsuło', 'zaginął', 'włączony', 'Znaleźliśmy', 'nowego', 'zdrowy', 'idziesz', 'przesadził', 'Okłamał', 'Zaśpiewałem', 'westchnął', 'rozrzutny', 'wstawaj', 'zaskoczyło', 'gafę', 'ugasił', 'ciekawy', 'Znajdź', 'odpowiedział', 'tamtej', 'spójrz', 'głowie', 'alibi', 'całkiem', 'założył', 'Szantażował', 'wycieczki', 'Moja', 'zszokowani', 'Zmiana', 'urocze', 'Cośmy', 'sport', 'rozmawiam', 'ekspertem', 'nieposłuszny', 'Wybuchnęła', 'zwycięstwo', 'przyłączyć', 'Weź', 'Potrzebujesz', 'znacznie', 'Poprosił', 'poleceniami', 'pewnie', 'Weźmiesz', 'gazem', 'kąpiel', 'szeptał', 'osiem', 'ryzykowne', 'tyle', 'obiecał', 'zaradny', 'Zaczynaj', 'priorytety', 'lat', 'spieszy', 'Nigdzie', 'mądre', 'żadnej', 'typowe', 'Delfin', 'Zaśpiewajcie', 'przemyśl', 'miło', 'było', 'Pomyśl', 'strasznym', 'uczciwy', 'posiadasz', 'przełożył', 'winna', 'zaczęło', 'pracujcie', 'zawiedzie', 'Wyglądają', 'Widziałam', 'Przestraszyłem', 'Zrobiłeś', 'utopił', 'znaliście', 'Spodziewam', 'potrafią', 'szybki', 'Pitt', 'byliśmy', 'obcy', 'majątek', 'kota', 'podobała', 'odliczać', 'nieudacznikiem', 'gęsta', 'stary', 'Przesadzasz', 'kupujemy', 'Przybieram', 'Przybyłyśmy', 'lunch', 'potworem', 'telewizor', 'was', 'Słuchaj', 'Za', 'Rozejrzałem', 'Puśćmy', 'przyzwyczajeni', 'spóźnia', 'nogi', 'sąsiadami', 'czytałem', 'Zapożyczam', 'tamto', 'patrzeć', 'ofertę', 'Kochają', 'zbudował', 'kole', 'wakacji', 'kontrolę', 'przyjaciółmi', 'Tańcz', 'weszłaś', 'chichotać', 'Umyliśmy', 'przemoczony', 'przybył', 'nieuczciwy', 'mówi', 'kucyki', 'całą', 'rozsądnym', 'Taniec', 'dwojga', 'Wychodzisz', 'swędzą', 'adres', 'zgadza', 'grzeczny', 'formie', 'moja', 'Zasnąłem', 'przyprawiające', 'kotem', 'niemożliwy', 'Siedzi', 'Męczy', 'wyglądasz', 'przewrócił', 'Idziesz', 'komuś', 'Obiad', 'słabi', 'Dostałeś', 'Bądźże', 'utalentowany', 'Ufasz', 'przepraszam', 'bawiłyśmy', 'kukurydzę', 'przerażony', 'nieuczciwi', 'obiedzie', 'Podobała', 'wszystkim', 'Ogień', 'Zraniłem', 'fair', 'Drzwi', 'usta', 'Wiedziałem', 'szczęśliwym', 'pisać', 'Chwilę', 'znaleźć', 'Zajmij', 'łatwe', 'wyjechać', 'przypomnieć', 'Nieźle', 'własny', 'Uśmiechasz', 'dziś', 'wybraliśmy', 'właśnie', 'Ludzie', 'fanaberia', 'niebieski', 'ciężko', 'usiąść', 'usiedli', 'biegnącego', 'śpiewakami', 'Powiedział', 'mego', 'Zanotuj', 'rękę', 'Miałeś', 'przystojny', 'laptopa', 'Trudno', 'ptaków', 'Psy'}\n"
          ],
          "name": "stdout"
        }
      ]
    },
    {
      "cell_type": "code",
      "metadata": {
        "id": "Jd8FlJaWd6nk",
        "colab_type": "code",
        "outputId": "403ec6ea-0524-48eb-d559-5df091f0d2c8",
        "colab": {
          "base_uri": "https://localhost:8080/",
          "height": 102
        }
      },
      "source": [
        "# vectorize the data\n",
        "input_words = sorted(list(input_words))\n",
        "target_words = sorted(list(target_words))\n",
        "num_encoder_tokens = len(input_words)\n",
        "num_decoder_tokens = len(target_words)\n",
        "max_encoder_seq_length = max([len(txt.split()) for txt in input_lines])\n",
        "max_decoder_seq_length = max([len(txt.split()) for txt in target_lines])\n",
        "\n",
        "print('Number of samples:', len(input_lines))\n",
        "print('Number of unique input tokens:', num_encoder_tokens)\n",
        "print('Number of unique output tokens:', num_decoder_tokens)\n",
        "print('Max sequence length for inputs:', max_encoder_seq_length)\n",
        "print('Max sequence length for outputs:', max_decoder_seq_length)\n",
        "\n",
        "input_token_index = dict(\n",
        "    [(word, i) for i, word in enumerate(input_words)])\n",
        "target_token_index = dict(\n",
        "    [(word, i) for i, word in enumerate(target_words)])"
      ],
      "execution_count": 10,
      "outputs": [
        {
          "output_type": "stream",
          "text": [
            "Number of samples: 10000\n",
            "Number of unique input tokens: 3437\n",
            "Number of unique output tokens: 6930\n",
            "Max sequence length for inputs: 9\n",
            "Max sequence length for outputs: 13\n"
          ],
          "name": "stdout"
        }
      ]
    },
    {
      "cell_type": "code",
      "metadata": {
        "id": "5e3GRIdofzBy",
        "colab_type": "code",
        "colab": {}
      },
      "source": [
        "encoder_input_data = np.zeros((len(input_lines), max_encoder_seq_length), dtype='float32')\n",
        "decoder_input_data = np.zeros((len(target_lines), max_decoder_seq_length), dtype='float32')\n",
        "decoder_target_data = np.zeros((len(target_lines), max_decoder_seq_length, num_decoder_tokens), dtype='float32')\n",
        "\n",
        "for i, (input_text, target_text) in enumerate(zip(input_lines, target_lines)):\n",
        "    for t, word in enumerate(input_text.split()):\n",
        "        encoder_input_data[i, t] = input_token_index[word]\n",
        "    for t, word in enumerate(target_text.split()):\n",
        "        # decoder_target_data is ahead of decoder_input_data by one timestep\n",
        "        decoder_input_data[i, t] = target_token_index[word]\n",
        "        if t > 0:\n",
        "            # decoder_target_data will be ahead by one timestep\n",
        "            # and will not include the start character.\n",
        "            decoder_target_data[i, t - 1, target_token_index[word]] = 1."
      ],
      "execution_count": 0,
      "outputs": []
    },
    {
      "cell_type": "code",
      "metadata": {
        "id": "KUXJXCDgg8d6",
        "colab_type": "code",
        "colab": {
          "base_uri": "https://localhost:8080/",
          "height": 139
        },
        "outputId": "c8c0453f-46c1-4738-b6a9-1168965abd02"
      },
      "source": [
        "#Define an input sequence and process it. -> Input words embedding and encoder\n",
        "latent_dim = 150  # Latent dimensionality of the encoding space.\n",
        "encoder_inputs = Input(shape=(None,))\n",
        "encoder = LSTM(latent_dim, return_state=True)\n",
        "input_embedding = Embedding(num_encoder_tokens, 50)(encoder_inputs)\n",
        "encoder_outputs, state_h, state_c = encoder(input_embedding)\n",
        "\n",
        "# We discard `encoder_outputs` and only keep the states.\n",
        "encoder_states = [state_h, state_c]"
      ],
      "execution_count": 12,
      "outputs": [
        {
          "output_type": "stream",
          "text": [
            "WARNING:tensorflow:From /usr/local/lib/python3.6/dist-packages/keras/backend/tensorflow_backend.py:66: The name tf.get_default_graph is deprecated. Please use tf.compat.v1.get_default_graph instead.\n",
            "\n",
            "WARNING:tensorflow:From /usr/local/lib/python3.6/dist-packages/keras/backend/tensorflow_backend.py:541: The name tf.placeholder is deprecated. Please use tf.compat.v1.placeholder instead.\n",
            "\n",
            "WARNING:tensorflow:From /usr/local/lib/python3.6/dist-packages/keras/backend/tensorflow_backend.py:4432: The name tf.random_uniform is deprecated. Please use tf.random.uniform instead.\n",
            "\n"
          ],
          "name": "stdout"
        }
      ]
    },
    {
      "cell_type": "code",
      "metadata": {
        "id": "Dz_YjqbXkCMl",
        "colab_type": "code",
        "colab": {}
      },
      "source": [
        "# Set up the decoder, using `encoder_states` as initial state.\n",
        "decoder_inputs = Input(shape=(None,))\n",
        "embedding = Embedding(num_decoder_tokens, 50)\n",
        "decoder_embedding = embedding(decoder_inputs)\n",
        "decoder_lstm = LSTM(latent_dim, return_sequences=True, return_state=True)\n",
        "decoder_outputs, _, _ = decoder_lstm(decoder_embedding, initial_state=encoder_states)\n",
        "decoder_dense = Dense(num_decoder_tokens, activation='softmax')\n",
        "decoder_outputs = decoder_dense(decoder_outputs)"
      ],
      "execution_count": 0,
      "outputs": []
    },
    {
      "cell_type": "code",
      "metadata": {
        "id": "cUBmB0I_9Z5L",
        "colab_type": "code",
        "colab": {
          "base_uri": "https://localhost:8080/",
          "height": 105
        },
        "outputId": "c9281c68-0ce0-4ff4-f692-7393515f7704"
      },
      "source": [
        "model = Model([encoder_inputs, decoder_inputs], decoder_outputs)\n",
        "model.compile(optimizer='rmsprop', loss='categorical_crossentropy', metrics=['accuracy'])"
      ],
      "execution_count": 14,
      "outputs": [
        {
          "output_type": "stream",
          "text": [
            "WARNING:tensorflow:From /usr/local/lib/python3.6/dist-packages/keras/optimizers.py:793: The name tf.train.Optimizer is deprecated. Please use tf.compat.v1.train.Optimizer instead.\n",
            "\n",
            "WARNING:tensorflow:From /usr/local/lib/python3.6/dist-packages/keras/backend/tensorflow_backend.py:3576: The name tf.log is deprecated. Please use tf.math.log instead.\n",
            "\n"
          ],
          "name": "stdout"
        }
      ]
    },
    {
      "cell_type": "code",
      "metadata": {
        "id": "Ednc2lmUl3u6",
        "colab_type": "code",
        "outputId": "282f60ce-54c8-4b4c-d7c6-093f074478cf",
        "colab": {
          "base_uri": "https://localhost:8080/",
          "height": 1000
        }
      },
      "source": [
        "batch_size = 2* 256  # Batch size for training.\n",
        "epochs = 100  # Number of epochs to train for.\n",
        "\n",
        "model.fit([encoder_input_data, decoder_input_data], decoder_target_data,\n",
        "          batch_size=batch_size, epochs=epochs, validation_split=0.20)"
      ],
      "execution_count": 28,
      "outputs": [
        {
          "output_type": "stream",
          "text": [
            "Train on 8000 samples, validate on 2000 samples\n",
            "Epoch 1/100\n",
            "8000/8000 [==============================] - 4s 449us/step - loss: 0.1350 - acc: 0.3542 - val_loss: 2.3840 - val_acc: 0.2066\n",
            "Epoch 2/100\n",
            "8000/8000 [==============================] - 4s 449us/step - loss: 0.1319 - acc: 0.3544 - val_loss: 2.3825 - val_acc: 0.2076\n",
            "Epoch 3/100\n",
            "8000/8000 [==============================] - 4s 452us/step - loss: 0.1314 - acc: 0.3548 - val_loss: 2.3874 - val_acc: 0.2060\n",
            "Epoch 4/100\n",
            "8000/8000 [==============================] - 4s 448us/step - loss: 0.1298 - acc: 0.3554 - val_loss: 2.3878 - val_acc: 0.2060\n",
            "Epoch 5/100\n",
            "8000/8000 [==============================] - 4s 443us/step - loss: 0.1286 - acc: 0.3553 - val_loss: 2.3913 - val_acc: 0.2067\n",
            "Epoch 6/100\n",
            "8000/8000 [==============================] - 4s 446us/step - loss: 0.1293 - acc: 0.3550 - val_loss: 2.3877 - val_acc: 0.2076\n",
            "Epoch 7/100\n",
            "8000/8000 [==============================] - 4s 448us/step - loss: 0.1279 - acc: 0.3556 - val_loss: 2.3870 - val_acc: 0.2080\n",
            "Epoch 8/100\n",
            "8000/8000 [==============================] - 4s 447us/step - loss: 0.1257 - acc: 0.3558 - val_loss: 2.4008 - val_acc: 0.2064\n",
            "Epoch 9/100\n",
            "8000/8000 [==============================] - 4s 442us/step - loss: 0.1227 - acc: 0.3570 - val_loss: 2.3972 - val_acc: 0.2056\n",
            "Epoch 10/100\n",
            "8000/8000 [==============================] - 4s 445us/step - loss: 0.1256 - acc: 0.3564 - val_loss: 2.3990 - val_acc: 0.2082\n",
            "Epoch 11/100\n",
            "8000/8000 [==============================] - 4s 446us/step - loss: 0.1221 - acc: 0.3569 - val_loss: 2.3993 - val_acc: 0.2051\n",
            "Epoch 12/100\n",
            "8000/8000 [==============================] - 4s 444us/step - loss: 0.1222 - acc: 0.3565 - val_loss: 2.4003 - val_acc: 0.2065\n",
            "Epoch 13/100\n",
            "8000/8000 [==============================] - 4s 446us/step - loss: 0.1212 - acc: 0.3572 - val_loss: 2.4036 - val_acc: 0.2063\n",
            "Epoch 14/100\n",
            "8000/8000 [==============================] - 4s 452us/step - loss: 0.1192 - acc: 0.3572 - val_loss: 2.4089 - val_acc: 0.2072\n",
            "Epoch 15/100\n",
            "8000/8000 [==============================] - 4s 447us/step - loss: 0.1176 - acc: 0.3583 - val_loss: 2.4059 - val_acc: 0.2076\n",
            "Epoch 16/100\n",
            "8000/8000 [==============================] - 4s 445us/step - loss: 0.1177 - acc: 0.3584 - val_loss: 2.4057 - val_acc: 0.2062\n",
            "Epoch 17/100\n",
            "8000/8000 [==============================] - 4s 449us/step - loss: 0.1181 - acc: 0.3573 - val_loss: 2.4035 - val_acc: 0.2070\n",
            "Epoch 18/100\n",
            "8000/8000 [==============================] - 4s 449us/step - loss: 0.1159 - acc: 0.3585 - val_loss: 2.4056 - val_acc: 0.2075\n",
            "Epoch 19/100\n",
            "8000/8000 [==============================] - 4s 451us/step - loss: 0.1126 - acc: 0.3597 - val_loss: 2.4131 - val_acc: 0.2065\n",
            "Epoch 20/100\n",
            "8000/8000 [==============================] - 4s 450us/step - loss: 0.1157 - acc: 0.3583 - val_loss: 2.4126 - val_acc: 0.2063\n",
            "Epoch 21/100\n",
            "8000/8000 [==============================] - 4s 451us/step - loss: 0.1112 - acc: 0.3597 - val_loss: 2.4169 - val_acc: 0.2073\n",
            "Epoch 22/100\n",
            "8000/8000 [==============================] - 4s 445us/step - loss: 0.1137 - acc: 0.3588 - val_loss: 2.4183 - val_acc: 0.2049\n",
            "Epoch 23/100\n",
            "8000/8000 [==============================] - 4s 444us/step - loss: 0.1096 - acc: 0.3599 - val_loss: 2.4165 - val_acc: 0.2069\n",
            "Epoch 24/100\n",
            "8000/8000 [==============================] - 4s 449us/step - loss: 0.1087 - acc: 0.3602 - val_loss: 2.4276 - val_acc: 0.2065\n",
            "Epoch 25/100\n",
            "8000/8000 [==============================] - 4s 447us/step - loss: 0.1101 - acc: 0.3593 - val_loss: 2.4194 - val_acc: 0.2070\n",
            "Epoch 26/100\n",
            "8000/8000 [==============================] - 4s 449us/step - loss: 0.1098 - acc: 0.3595 - val_loss: 2.4239 - val_acc: 0.2073\n",
            "Epoch 27/100\n",
            "8000/8000 [==============================] - 4s 448us/step - loss: 0.1047 - acc: 0.3611 - val_loss: 2.4235 - val_acc: 0.2062\n",
            "Epoch 28/100\n",
            "8000/8000 [==============================] - 4s 444us/step - loss: 0.1068 - acc: 0.3599 - val_loss: 2.4291 - val_acc: 0.2053\n",
            "Epoch 29/100\n",
            "8000/8000 [==============================] - 4s 449us/step - loss: 0.1053 - acc: 0.3605 - val_loss: 2.4248 - val_acc: 0.2052\n",
            "Epoch 30/100\n",
            "8000/8000 [==============================] - 4s 446us/step - loss: 0.1041 - acc: 0.3609 - val_loss: 2.4313 - val_acc: 0.2073\n",
            "Epoch 31/100\n",
            "8000/8000 [==============================] - 4s 451us/step - loss: 0.1016 - acc: 0.3615 - val_loss: 2.4363 - val_acc: 0.2062\n",
            "Epoch 32/100\n",
            "8000/8000 [==============================] - 4s 446us/step - loss: 0.1052 - acc: 0.3604 - val_loss: 2.4311 - val_acc: 0.2065\n",
            "Epoch 33/100\n",
            "8000/8000 [==============================] - 4s 447us/step - loss: 0.0987 - acc: 0.3624 - val_loss: 2.4423 - val_acc: 0.2035\n",
            "Epoch 34/100\n",
            "8000/8000 [==============================] - 4s 447us/step - loss: 0.1026 - acc: 0.3613 - val_loss: 2.4327 - val_acc: 0.2062\n",
            "Epoch 35/100\n",
            "8000/8000 [==============================] - 4s 451us/step - loss: 0.0993 - acc: 0.3623 - val_loss: 2.4333 - val_acc: 0.2065\n",
            "Epoch 36/100\n",
            "8000/8000 [==============================] - 4s 456us/step - loss: 0.0979 - acc: 0.3622 - val_loss: 2.4402 - val_acc: 0.2054\n",
            "Epoch 37/100\n",
            "8000/8000 [==============================] - 4s 444us/step - loss: 0.0989 - acc: 0.3620 - val_loss: 2.4429 - val_acc: 0.2063\n",
            "Epoch 38/100\n",
            "8000/8000 [==============================] - 4s 450us/step - loss: 0.0984 - acc: 0.3618 - val_loss: 2.4443 - val_acc: 0.2057\n",
            "Epoch 39/100\n",
            "8000/8000 [==============================] - 4s 447us/step - loss: 0.0969 - acc: 0.3629 - val_loss: 2.4514 - val_acc: 0.2058\n",
            "Epoch 40/100\n",
            "8000/8000 [==============================] - 4s 448us/step - loss: 0.0954 - acc: 0.3631 - val_loss: 2.4442 - val_acc: 0.2063\n",
            "Epoch 41/100\n",
            "8000/8000 [==============================] - 4s 446us/step - loss: 0.0951 - acc: 0.3628 - val_loss: 2.4467 - val_acc: 0.2073\n",
            "Epoch 42/100\n",
            "8000/8000 [==============================] - 4s 448us/step - loss: 0.0925 - acc: 0.3638 - val_loss: 2.4496 - val_acc: 0.2062\n",
            "Epoch 43/100\n",
            "8000/8000 [==============================] - 4s 447us/step - loss: 0.0947 - acc: 0.3628 - val_loss: 2.4493 - val_acc: 0.2074\n",
            "Epoch 44/100\n",
            "8000/8000 [==============================] - 4s 450us/step - loss: 0.0924 - acc: 0.3639 - val_loss: 2.4507 - val_acc: 0.2055\n",
            "Epoch 45/100\n",
            "8000/8000 [==============================] - 4s 445us/step - loss: 0.0938 - acc: 0.3628 - val_loss: 2.4578 - val_acc: 0.2048\n",
            "Epoch 46/100\n",
            "8000/8000 [==============================] - 4s 446us/step - loss: 0.0926 - acc: 0.3635 - val_loss: 2.4584 - val_acc: 0.2054\n",
            "Epoch 47/100\n",
            "8000/8000 [==============================] - 4s 445us/step - loss: 0.0873 - acc: 0.3649 - val_loss: 2.4578 - val_acc: 0.2053\n",
            "Epoch 48/100\n",
            "8000/8000 [==============================] - 4s 445us/step - loss: 0.0896 - acc: 0.3642 - val_loss: 2.4576 - val_acc: 0.2061\n",
            "Epoch 49/100\n",
            "8000/8000 [==============================] - 4s 447us/step - loss: 0.0886 - acc: 0.3645 - val_loss: 2.4570 - val_acc: 0.2059\n",
            "Epoch 50/100\n",
            "8000/8000 [==============================] - 4s 446us/step - loss: 0.0903 - acc: 0.3633 - val_loss: 2.4578 - val_acc: 0.2065\n",
            "Epoch 51/100\n",
            "8000/8000 [==============================] - 4s 446us/step - loss: 0.0867 - acc: 0.3647 - val_loss: 2.4626 - val_acc: 0.2061\n",
            "Epoch 52/100\n",
            "8000/8000 [==============================] - 4s 449us/step - loss: 0.0873 - acc: 0.3646 - val_loss: 2.4598 - val_acc: 0.2055\n",
            "Epoch 53/100\n",
            "8000/8000 [==============================] - 4s 451us/step - loss: 0.0874 - acc: 0.3644 - val_loss: 2.4668 - val_acc: 0.2052\n",
            "Epoch 54/100\n",
            "8000/8000 [==============================] - 4s 445us/step - loss: 0.0824 - acc: 0.3658 - val_loss: 2.4675 - val_acc: 0.2063\n",
            "Epoch 55/100\n",
            "8000/8000 [==============================] - 4s 446us/step - loss: 0.0844 - acc: 0.3654 - val_loss: 2.4747 - val_acc: 0.2056\n",
            "Epoch 56/100\n",
            "8000/8000 [==============================] - 4s 446us/step - loss: 0.0837 - acc: 0.3654 - val_loss: 2.4675 - val_acc: 0.2058\n",
            "Epoch 57/100\n",
            "8000/8000 [==============================] - 4s 448us/step - loss: 0.0856 - acc: 0.3648 - val_loss: 2.4731 - val_acc: 0.2064\n",
            "Epoch 58/100\n",
            "8000/8000 [==============================] - 4s 448us/step - loss: 0.0803 - acc: 0.3664 - val_loss: 2.4731 - val_acc: 0.2061\n",
            "Epoch 59/100\n",
            "8000/8000 [==============================] - 4s 446us/step - loss: 0.0823 - acc: 0.3659 - val_loss: 2.4763 - val_acc: 0.2050\n",
            "Epoch 60/100\n",
            "8000/8000 [==============================] - 4s 444us/step - loss: 0.0809 - acc: 0.3662 - val_loss: 2.4711 - val_acc: 0.2075\n",
            "Epoch 61/100\n",
            "8000/8000 [==============================] - 4s 451us/step - loss: 0.0799 - acc: 0.3664 - val_loss: 2.4822 - val_acc: 0.2038\n",
            "Epoch 62/100\n",
            "8000/8000 [==============================] - 4s 445us/step - loss: 0.0814 - acc: 0.3657 - val_loss: 2.4767 - val_acc: 0.2046\n",
            "Epoch 63/100\n",
            "8000/8000 [==============================] - 4s 449us/step - loss: 0.0787 - acc: 0.3666 - val_loss: 2.4854 - val_acc: 0.2042\n",
            "Epoch 64/100\n",
            "8000/8000 [==============================] - 4s 449us/step - loss: 0.0787 - acc: 0.3664 - val_loss: 2.4794 - val_acc: 0.2063\n",
            "Epoch 65/100\n",
            "8000/8000 [==============================] - 4s 450us/step - loss: 0.0792 - acc: 0.3666 - val_loss: 2.4803 - val_acc: 0.2056\n",
            "Epoch 66/100\n",
            "8000/8000 [==============================] - 4s 450us/step - loss: 0.0769 - acc: 0.3668 - val_loss: 2.4863 - val_acc: 0.2053\n",
            "Epoch 67/100\n",
            "8000/8000 [==============================] - 4s 446us/step - loss: 0.0760 - acc: 0.3673 - val_loss: 2.4883 - val_acc: 0.2044\n",
            "Epoch 68/100\n",
            "8000/8000 [==============================] - 4s 448us/step - loss: 0.0767 - acc: 0.3671 - val_loss: 2.4869 - val_acc: 0.2046\n",
            "Epoch 69/100\n",
            "8000/8000 [==============================] - 4s 450us/step - loss: 0.0769 - acc: 0.3663 - val_loss: 2.4857 - val_acc: 0.2053\n",
            "Epoch 70/100\n",
            "8000/8000 [==============================] - 4s 450us/step - loss: 0.0739 - acc: 0.3675 - val_loss: 2.4865 - val_acc: 0.2057\n",
            "Epoch 71/100\n",
            "8000/8000 [==============================] - 4s 442us/step - loss: 0.0738 - acc: 0.3679 - val_loss: 2.4893 - val_acc: 0.2060\n",
            "Epoch 72/100\n",
            "8000/8000 [==============================] - 4s 448us/step - loss: 0.0745 - acc: 0.3672 - val_loss: 2.4910 - val_acc: 0.2057\n",
            "Epoch 73/100\n",
            "8000/8000 [==============================] - 4s 450us/step - loss: 0.0742 - acc: 0.3673 - val_loss: 2.4921 - val_acc: 0.2053\n",
            "Epoch 74/100\n",
            "8000/8000 [==============================] - 4s 450us/step - loss: 0.0708 - acc: 0.3681 - val_loss: 2.4947 - val_acc: 0.2047\n",
            "Epoch 75/100\n",
            "8000/8000 [==============================] - 4s 448us/step - loss: 0.0725 - acc: 0.3681 - val_loss: 2.4937 - val_acc: 0.2059\n",
            "Epoch 76/100\n",
            "8000/8000 [==============================] - 4s 445us/step - loss: 0.0725 - acc: 0.3677 - val_loss: 2.4950 - val_acc: 0.2062\n",
            "Epoch 77/100\n",
            "8000/8000 [==============================] - 4s 449us/step - loss: 0.0672 - acc: 0.3695 - val_loss: 2.5005 - val_acc: 0.2045\n",
            "Epoch 78/100\n",
            "8000/8000 [==============================] - 4s 454us/step - loss: 0.0716 - acc: 0.3684 - val_loss: 2.4991 - val_acc: 0.2069\n",
            "Epoch 79/100\n",
            "8000/8000 [==============================] - 4s 446us/step - loss: 0.0709 - acc: 0.3678 - val_loss: 2.5004 - val_acc: 0.2052\n",
            "Epoch 80/100\n",
            "8000/8000 [==============================] - 4s 449us/step - loss: 0.0690 - acc: 0.3685 - val_loss: 2.5030 - val_acc: 0.2059\n",
            "Epoch 81/100\n",
            "8000/8000 [==============================] - 4s 450us/step - loss: 0.0679 - acc: 0.3692 - val_loss: 2.5094 - val_acc: 0.2070\n",
            "Epoch 82/100\n",
            "8000/8000 [==============================] - 4s 449us/step - loss: 0.0678 - acc: 0.3685 - val_loss: 2.5094 - val_acc: 0.2052\n",
            "Epoch 83/100\n",
            "8000/8000 [==============================] - 4s 445us/step - loss: 0.0679 - acc: 0.3690 - val_loss: 2.5059 - val_acc: 0.2061\n",
            "Epoch 84/100\n",
            "8000/8000 [==============================] - 4s 446us/step - loss: 0.0662 - acc: 0.3693 - val_loss: 2.5063 - val_acc: 0.2067\n",
            "Epoch 85/100\n",
            "8000/8000 [==============================] - 4s 448us/step - loss: 0.0662 - acc: 0.3694 - val_loss: 2.5073 - val_acc: 0.2064\n",
            "Epoch 86/100\n",
            "8000/8000 [==============================] - 4s 451us/step - loss: 0.0671 - acc: 0.3689 - val_loss: 2.5164 - val_acc: 0.2060\n",
            "Epoch 87/100\n",
            "8000/8000 [==============================] - 4s 448us/step - loss: 0.0631 - acc: 0.3698 - val_loss: 2.5215 - val_acc: 0.2042\n",
            "Epoch 88/100\n",
            "8000/8000 [==============================] - 4s 448us/step - loss: 0.0637 - acc: 0.3697 - val_loss: 2.5149 - val_acc: 0.2054\n",
            "Epoch 89/100\n",
            "8000/8000 [==============================] - 4s 455us/step - loss: 0.0635 - acc: 0.3697 - val_loss: 2.5167 - val_acc: 0.2052\n",
            "Epoch 90/100\n",
            "8000/8000 [==============================] - 4s 449us/step - loss: 0.0664 - acc: 0.3688 - val_loss: 2.5157 - val_acc: 0.2056\n",
            "Epoch 91/100\n",
            "8000/8000 [==============================] - 4s 449us/step - loss: 0.0612 - acc: 0.3699 - val_loss: 2.5126 - val_acc: 0.2058\n",
            "Epoch 92/100\n",
            "8000/8000 [==============================] - 4s 448us/step - loss: 0.0616 - acc: 0.3698 - val_loss: 2.5319 - val_acc: 0.2028\n",
            "Epoch 93/100\n",
            "8000/8000 [==============================] - 4s 448us/step - loss: 0.0621 - acc: 0.3696 - val_loss: 2.5177 - val_acc: 0.2048\n",
            "Epoch 94/100\n",
            "8000/8000 [==============================] - 4s 447us/step - loss: 0.0644 - acc: 0.3692 - val_loss: 2.5200 - val_acc: 0.2053\n",
            "Epoch 95/100\n",
            "8000/8000 [==============================] - 4s 446us/step - loss: 0.0611 - acc: 0.3697 - val_loss: 2.5248 - val_acc: 0.2064\n",
            "Epoch 96/100\n",
            "8000/8000 [==============================] - 4s 447us/step - loss: 0.0597 - acc: 0.3704 - val_loss: 2.5253 - val_acc: 0.2038\n",
            "Epoch 97/100\n",
            "8000/8000 [==============================] - 4s 449us/step - loss: 0.0597 - acc: 0.3701 - val_loss: 2.5310 - val_acc: 0.2058\n",
            "Epoch 98/100\n",
            "8000/8000 [==============================] - 4s 451us/step - loss: 0.0598 - acc: 0.3700 - val_loss: 2.5298 - val_acc: 0.2038\n",
            "Epoch 99/100\n",
            "8000/8000 [==============================] - 4s 450us/step - loss: 0.0620 - acc: 0.3697 - val_loss: 2.5281 - val_acc: 0.2061\n",
            "Epoch 100/100\n",
            "8000/8000 [==============================] - 4s 448us/step - loss: 0.0569 - acc: 0.3710 - val_loss: 2.5272 - val_acc: 0.2061\n"
          ],
          "name": "stdout"
        },
        {
          "output_type": "execute_result",
          "data": {
            "text/plain": [
              "<keras.callbacks.History at 0x7fc906999ef0>"
            ]
          },
          "metadata": {
            "tags": []
          },
          "execution_count": 28
        }
      ]
    },
    {
      "cell_type": "code",
      "metadata": {
        "id": "IpiKRGHkrCS3",
        "colab_type": "code",
        "colab": {}
      },
      "source": [
        "# Encoder model \n",
        "encoder_model = Model(encoder_inputs, encoder_states)\n",
        "decoder_state_input_h = Input(shape=(latent_dim,))\n",
        "decoder_state_input_c = Input(shape=(latent_dim,))\n",
        "decoder_states_inputs = [decoder_state_input_h, decoder_state_input_c]\n",
        "decoder_embedding_2= embedding(decoder_inputs)\n",
        "decoder_outputs_2, state_h_2, state_c_2 = decoder_lstm(\n",
        "    decoder_embedding_2, initial_state=decoder_states_inputs)\n",
        "decoder_states_2 = [state_h_2, state_c_2]\n",
        "decoder_outputs_2 = decoder_dense(decoder_outputs_2)\n",
        "decoder_model = Model(\n",
        "    [decoder_inputs] + decoder_states_inputs,\n",
        "    [decoder_outputs_2] + decoder_states_2)\n",
        "\n",
        "# Reverse-lookup token index to decode sequences back to\n",
        "# something readable.\n",
        "reverse_input_word_index = dict(\n",
        "    (i, word) for word, i in input_token_index.items())\n",
        "reverse_target_word_index = dict(\n",
        "    (i, word) for word, i in target_token_index.items())\n"
      ],
      "execution_count": 0,
      "outputs": []
    },
    {
      "cell_type": "code",
      "metadata": {
        "id": "RDBvDzbquhfu",
        "colab_type": "code",
        "colab": {}
      },
      "source": [
        "def decode_sequence(input_seq):\n",
        "    # Encode the input as state vectors.\n",
        "    states_value = encoder_model.predict(input_seq)\n",
        "\n",
        "    # Generate empty target sequence of length 1.\n",
        "    target_seq = np.zeros((1,1))\n",
        "\n",
        "    # Populate the first character of target sequence with the start character.\n",
        "    target_seq[0, 0] = target_token_index[start_mark]\n",
        "\n",
        "    # Sampling loop for a batch of sequences\n",
        "    # (to simplify, here we assume a batch of size 1).\n",
        "    stop_condition = False\n",
        "    decoded_sentence = ''\n",
        "    while not stop_condition:\n",
        "      output_tokens, h, c = decoder_model.predict(\n",
        "        [target_seq] + states_value)\n",
        "        \n",
        "      # Sample a token\n",
        "      sampled_token_index = np.argmax(output_tokens[0, -1, :])\n",
        "      sampled_char = reverse_target_word_index[sampled_token_index]\n",
        "      \n",
        "      # Exit condition: either hit max length\n",
        "      # or find stop character.\n",
        "      if (sampled_char == end_mark or\n",
        "        len(decoded_sentence) > max_decoder_seq_length + 1):\n",
        "          stop_condition = True\n",
        "      else:\n",
        "        # add to sequence \n",
        "        decoded_sentence += ' ' + sampled_char\n",
        "      \n",
        "      # Update the target sequence (of length 1).\n",
        "      target_seq = np.zeros((1,1))\n",
        "      target_seq[0, 0] = sampled_token_index\n",
        "\n",
        "      # Update states\n",
        "      states_value = [h, c]\n",
        "    \n",
        "    \n",
        "    return decoded_sentence\n"
      ],
      "execution_count": 0,
      "outputs": []
    },
    {
      "cell_type": "code",
      "metadata": {
        "id": "AHGcZwnlweJX",
        "colab_type": "code",
        "outputId": "414bef77-67c7-4f19-e774-8eddd2fc66fe",
        "colab": {
          "base_uri": "https://localhost:8080/",
          "height": 1000
        }
      },
      "source": [
        "for seq_index in range(100):\n",
        "    # Take one sequence (part of the training set)\n",
        "    # for trying out decoding.\n",
        "    input_seq = encoder_input_data[seq_index: seq_index + 1]\n",
        "    decoded_sentence = decode_sequence(input_seq)\n",
        "    print('-')\n",
        "    print('Input sentence:', input_lines[seq_index])\n",
        "    print('Decoded sentence:', decoded_sentence)"
      ],
      "execution_count": 31,
      "outputs": [
        {
          "output_type": "stream",
          "text": [
            "-\n",
            "Input sentence: Go .\n",
            "Decoded sentence:  Idź .\n",
            "-\n",
            "Input sentence: Hi .\n",
            "Decoded sentence:  Cześć .\n",
            "-\n",
            "Input sentence: Run !\n",
            "Decoded sentence:  Uciekaj !\n",
            "-\n",
            "Input sentence: Run .\n",
            "Decoded sentence:  Biegnij .\n",
            "-\n",
            "Input sentence: Run .\n",
            "Decoded sentence:  Biegnij .\n",
            "-\n",
            "Input sentence: Who ?\n",
            "Decoded sentence:  Kto ?\n",
            "-\n",
            "Input sentence: Wow !\n",
            "Decoded sentence:  Łał !\n",
            "-\n",
            "Input sentence: Wow !\n",
            "Decoded sentence:  Łał !\n",
            "-\n",
            "Input sentence: Help !\n",
            "Decoded sentence:  Pomocy !\n",
            "-\n",
            "Input sentence: Jump .\n",
            "Decoded sentence:  Skok .\n",
            "-\n",
            "Input sentence: Stop !\n",
            "Decoded sentence:  Zatrzymaj się !\n",
            "-\n",
            "Input sentence: Stop !\n",
            "Decoded sentence:  Zatrzymaj się !\n",
            "-\n",
            "Input sentence: Begin .\n",
            "Decoded sentence:  Zaczynajcie .\n",
            "-\n",
            "Input sentence: Begin .\n",
            "Decoded sentence:  Zaczynajcie .\n",
            "-\n",
            "Input sentence: Hello !\n",
            "Decoded sentence:  Cześć .\n",
            "-\n",
            "Input sentence: Hurry !\n",
            "Decoded sentence:  Pośpiesz się !\n",
            "-\n",
            "Input sentence: I see .\n",
            "Decoded sentence:  Rozumiem .\n",
            "-\n",
            "Input sentence: I see .\n",
            "Decoded sentence:  Rozumiem .\n",
            "-\n",
            "Input sentence: I try .\n",
            "Decoded sentence:  Próbuje .\n",
            "-\n",
            "Input sentence: I won !\n",
            "Decoded sentence:  Wygrałem !\n",
            "-\n",
            "Input sentence: Oh no !\n",
            "Decoded sentence:  O nie !\n",
            "-\n",
            "Input sentence: Relax .\n",
            "Decoded sentence:  Wyluzuj .\n",
            "-\n",
            "Input sentence: Smile .\n",
            "Decoded sentence:  Uśmiech .\n",
            "-\n",
            "Input sentence: Attack !\n",
            "Decoded sentence:  Atak !\n",
            "-\n",
            "Input sentence: Cheers !\n",
            "Decoded sentence:  Na zdrowie !\n",
            "-\n",
            "Input sentence: Cheers !\n",
            "Decoded sentence:  Na zdrowie !\n",
            "-\n",
            "Input sentence: Get up .\n",
            "Decoded sentence:  Wstawaj .\n",
            "-\n",
            "Input sentence: Go now .\n",
            "Decoded sentence:  Idź już .\n",
            "-\n",
            "Input sentence: Got it ?\n",
            "Decoded sentence:  Rozumiesz ?\n",
            "-\n",
            "Input sentence: Got it ?\n",
            "Decoded sentence:  Rozumiesz ?\n",
            "-\n",
            "Input sentence: He ran .\n",
            "Decoded sentence:  On pobiegł .\n",
            "-\n",
            "Input sentence: Hop in .\n",
            "Decoded sentence:  Wskakuj .\n",
            "-\n",
            "Input sentence: Hug me .\n",
            "Decoded sentence:  Przytul mnie .\n",
            "-\n",
            "Input sentence: I fell .\n",
            "Decoded sentence:  Przewróciłam się\n",
            "-\n",
            "Input sentence: I know .\n",
            "Decoded sentence:  Wiem .\n",
            "-\n",
            "Input sentence: I quit .\n",
            "Decoded sentence:  Wychodzę .\n",
            "-\n",
            "Input sentence: I m OK .\n",
            "Decoded sentence:  Ze mną wszystko\n",
            "-\n",
            "Input sentence: Listen .\n",
            "Decoded sentence:  Słuchaj .\n",
            "-\n",
            "Input sentence: No way !\n",
            "Decoded sentence:  Nie nie mów .\n",
            "-\n",
            "Input sentence: Really ?\n",
            "Decoded sentence:  Naprawdę ?\n",
            "-\n",
            "Input sentence: Thanks .\n",
            "Decoded sentence:  Dziękuję !\n",
            "-\n",
            "Input sentence: Thanks .\n",
            "Decoded sentence:  Dziękuję !\n",
            "-\n",
            "Input sentence: We try .\n",
            "Decoded sentence:  Próbujemy .\n",
            "-\n",
            "Input sentence: Why me ?\n",
            "Decoded sentence:  Dlaczego ja ?\n",
            "-\n",
            "Input sentence: Ask Tom .\n",
            "Decoded sentence:  Spytaj Toma .\n",
            "-\n",
            "Input sentence: Ask Tom .\n",
            "Decoded sentence:  Spytaj Toma .\n",
            "-\n",
            "Input sentence: Awesome !\n",
            "Decoded sentence:  Niesamowity !\n",
            "-\n",
            "Input sentence: Be calm .\n",
            "Decoded sentence:  Bądź spokojny .\n",
            "-\n",
            "Input sentence: Be cool .\n",
            "Decoded sentence:  Być luzakiem .\n",
            "-\n",
            "Input sentence: Be fair .\n",
            "Decoded sentence:  Bądź uczciwy .\n",
            "-\n",
            "Input sentence: Be kind .\n",
            "Decoded sentence:  Bądź miły .\n",
            "-\n",
            "Input sentence: Be nice .\n",
            "Decoded sentence:  Bądź miły .\n",
            "-\n",
            "Input sentence: Beat it .\n",
            "Decoded sentence:  Spadaj .\n",
            "-\n",
            "Input sentence: Call me .\n",
            "Decoded sentence:  Zadzwoń do mnie\n",
            "-\n",
            "Input sentence: Call us .\n",
            "Decoded sentence:  Zadzwoń do nas\n",
            "-\n",
            "Input sentence: Come on !\n",
            "Decoded sentence:  Śmiało !\n",
            "-\n",
            "Input sentence: Come on !\n",
            "Decoded sentence:  Śmiało !\n",
            "-\n",
            "Input sentence: Come on .\n",
            "Decoded sentence:  No chodź .\n",
            "-\n",
            "Input sentence: Drop it !\n",
            "Decoded sentence:  Rzuć to !\n",
            "-\n",
            "Input sentence: Get Tom .\n",
            "Decoded sentence:  Zabierz Toma .\n",
            "-\n",
            "Input sentence: Get out !\n",
            "Decoded sentence:  Wynoś się !\n",
            "-\n",
            "Input sentence: Go away !\n",
            "Decoded sentence:  Idź stąd .\n",
            "-\n",
            "Input sentence: Go away .\n",
            "Decoded sentence:  Idź sobie .\n",
            "-\n",
            "Input sentence: Go away .\n",
            "Decoded sentence:  Idź sobie .\n",
            "-\n",
            "Input sentence: Go home .\n",
            "Decoded sentence:  Idź do domu .\n",
            "-\n",
            "Input sentence: Hang on .\n",
            "Decoded sentence:  Wytrzymać .\n",
            "-\n",
            "Input sentence: He runs .\n",
            "Decoded sentence:  On biega .\n",
            "-\n",
            "Input sentence: Help me !\n",
            "Decoded sentence:  Pomóż mi !\n",
            "-\n",
            "Input sentence: Help me .\n",
            "Decoded sentence:  Pomóż mi .\n",
            "-\n",
            "Input sentence: Hi , Tom .\n",
            "Decoded sentence:  Cześć , Tom .\n",
            "-\n",
            "Input sentence: Hit Tom .\n",
            "Decoded sentence:  Uderz Toma .\n",
            "-\n",
            "Input sentence: Hold it !\n",
            "Decoded sentence:  Trzymaj się !\n",
            "-\n",
            "Input sentence: Hug Tom .\n",
            "Decoded sentence:  Przytul Toma .\n",
            "-\n",
            "Input sentence: I bowed .\n",
            "Decoded sentence:  Ukłoniłem się .\n",
            "-\n",
            "Input sentence: I tried .\n",
            "Decoded sentence:  Próbowałem .\n",
            "-\n",
            "Input sentence: I ll go .\n",
            "Decoded sentence:  Ja pójdę .\n",
            "-\n",
            "Input sentence: I m Tom .\n",
            "Decoded sentence:  Jestem Tom .\n",
            "-\n",
            "Input sentence: I m old .\n",
            "Decoded sentence:  Jestem jak oni\n",
            "-\n",
            "Input sentence: I m sad .\n",
            "Decoded sentence:  Jestem smutny .\n",
            "-\n",
            "Input sentence: I m shy .\n",
            "Decoded sentence:  Jestem wstydliwy\n",
            "-\n",
            "Input sentence: I m shy .\n",
            "Decoded sentence:  Jestem wstydliwy\n",
            "-\n",
            "Input sentence: It s me !\n",
            "Decoded sentence:  To ja .\n",
            "-\n",
            "Input sentence: It s me !\n",
            "Decoded sentence:  To ja .\n",
            "-\n",
            "Input sentence: Keep it .\n",
            "Decoded sentence:  Zatrzymaj to .\n",
            "-\n",
            "Input sentence: Kiss me .\n",
            "Decoded sentence:  Pocałuj mnie .\n",
            "-\n",
            "Input sentence: Me , too .\n",
            "Decoded sentence:  Ja także .\n",
            "-\n",
            "Input sentence: Me , too .\n",
            "Decoded sentence:  Ja także .\n",
            "-\n",
            "Input sentence: Open up .\n",
            "Decoded sentence:  Otwierać .\n",
            "-\n",
            "Input sentence: Perfect !\n",
            "Decoded sentence:  Doskonale !\n",
            "-\n",
            "Input sentence: Show me .\n",
            "Decoded sentence:  Pokaż mi .\n",
            "-\n",
            "Input sentence: Shut up !\n",
            "Decoded sentence:  Zamknij się !\n",
            "-\n",
            "Input sentence: Stop it .\n",
            "Decoded sentence:  Przestań .\n",
            "-\n",
            "Input sentence: Take it .\n",
            "Decoded sentence:  Weź to .\n",
            "-\n",
            "Input sentence: Tell me .\n",
            "Decoded sentence:  Powiedz mi .\n",
            "-\n",
            "Input sentence: Tom ate .\n",
            "Decoded sentence:  Tom zjadł .\n",
            "-\n",
            "Input sentence: Tom ran .\n",
            "Decoded sentence:  Tom biegał .\n",
            "-\n",
            "Input sentence: Wake up !\n",
            "Decoded sentence:  Obudź się !\n",
            "-\n",
            "Input sentence: Wake up .\n",
            "Decoded sentence:  Obudź się .\n",
            "-\n",
            "Input sentence: We lost .\n",
            "Decoded sentence:  Przegraliśmy .\n",
            "-\n",
            "Input sentence: Welcome .\n",
            "Decoded sentence:  Witamy .\n"
          ],
          "name": "stdout"
        }
      ]
    },
    {
      "cell_type": "code",
      "metadata": {
        "id": "de04_sgXw2Jx",
        "colab_type": "code",
        "colab": {}
      },
      "source": [
        "from google.colab import files\n",
        "\n",
        "model.save('model_p2.h5')\n",
        "encoder_model.save('encoder_model_p2.h5')\n",
        "\n",
        "files.download('model_p2.h5') \n",
        "files.download('encoder_model_p2.h5') "
      ],
      "execution_count": 0,
      "outputs": []
    }
  ]
}